{
 "cells": [
  {
   "cell_type": "code",
   "execution_count": 1,
   "metadata": {
    "collapsed": true
   },
   "outputs": [],
   "source": [
    "#Saturated Oxygen Data Correction"
   ]
  },
  {
   "cell_type": "code",
   "execution_count": 5,
   "metadata": {
    "collapsed": false
   },
   "outputs": [
    {
     "name": "stdout",
     "output_type": "stream",
     "text": [
      "Populating the interactive namespace from numpy and matplotlib\n"
     ]
    }
   ],
   "source": [
    "#This is to import libraries of different functions that allows the program do what it's doing\n",
    "%pylab inline\n",
    "from netCDF4 import Dataset\n",
    "import pandas as pd\n",
    "from pandas import Series , DataFrame\n",
    "import csv\n",
    "from IPython.core.display import Image\n",
    "import urllib2\n",
    "import StringIO\n",
    "from thredds_crawler.crawl import Crawl\n",
    "from seawater.extras import satO2"
   ]
  },
  {
   "cell_type": "code",
   "execution_count": 6,
   "metadata": {
    "collapsed": false
   },
   "outputs": [
    {
     "data": {
      "text/plain": [
       "'6900877,99731,ARGOS,5058,5058,29/06/2014,17/04/2014,06,2014,57.5161,-21.8886,POSEIDON,P741,21/07/2015,59.9372,-22.6524,APEX,\"Giese, Holger\",holger.giese@bsh.de,Argo BSH,GERMANY,386.3628,0.86,1,78,0,0,0,120,1000,1200,1,0,0,0,0,0,0,0,0,0,0,0,0,1,0,0'"
      ]
     },
     "execution_count": 6,
     "metadata": {},
     "output_type": "execute_result"
    }
   ],
   "source": [
    "data = urllib2.urlopen(\"http://argo.jcommops.org/FTPRoot/Argo/Status/argo_all.txt\").readlines()\n",
    "data[1].replace('\\0' , '').replace('\\xff' , '').replace('\\xfe' , '').replace('\\r\\n' , '')\n",
    "#So this works for a specific row but not the whole thing O.o\n",
    "#Make a loop that runs through all of the rows one by one (since all together doesn't work)"
   ]
  },
  {
   "cell_type": "code",
   "execution_count": 8,
   "metadata": {
    "collapsed": false
   },
   "outputs": [
    {
     "data": {
      "text/plain": [
       "['WMO,TELECOM,TTYPE,MY_ID,SERIAL_NO,DATE0,NOTIF_DATE,MONTH0,YEAR0,LAT0,LON0,SHIP,CRUISE,DATE_,LAT_,LON_,MODEL,FULL_NAME,EMAIL,PROGRAM,COUNTRY,AGE,AGE_WEIGHT,GTS,PROFILES,DMPROFILES,GTSPRESS,GREYLIST,CYCLE_TIME,DRIFT_PRESS,PROFILE_PRESS,OXYGEN,FLUO,TURBIDITY,RAFOS,CDOM,BEAM,BACKSCATT,DOWNWELL,SST,SSS,PAL,OTHER,ICE_DETECT,ACTIVE,BEACHED,RETIRED',\n",
       " '6900877,99731,ARGOS,5058,5058,29/06/2014,17/04/2014,06,2014,57.5161,-21.8886,POSEIDON,P741,21/07/2015,59.9372,-22.6524,APEX,\"Giese, Holger\",holger.giese@bsh.de,Argo BSH,GERMANY,386.3628,0.86,1,78,0,0,0,120,1000,1200,1,0,0,0,0,0,0,0,0,0,0,0,0,1,0,0',\n",
       " '6900876,99730,ARGOS,5057,5057,29/06/2014,17/04/2014,06,2014,56.9983,-21.83,POSEIDON,P471,20/07/2015,59.2584,-10.8677,APEX,\"Giese, Holger\",holger.giese@bsh.de,Argo BSH,GERMANY,386.1254,0.86,1,78,0,0,0,120,1000,1200,1,0,0,0,0,0,0,0,0,0,0,0,0,1,0,0',\n",
       " '6902554,139249,ARGOS,OIN14DAR03,OIN14DAR03,23/06/2014,21/05/2014,06,2014,41.0021,-20.2838,POSEIDON,471,20/07/2015,37.0153,-26.1956,ARVOR,\"Giese, Holger\",holger.giese@bsh.de,Argo BSH,GERMANY,392.3855,0.86,1,41,0,0,0,240,1500,2000,0,0,0,0,0,0,0,0,0,0,0,0,0,1,0,0',\n",
       " '6902553,139248,ARGOS,OIN14DAR02,OIN14DAR02,22/06/2014,21/05/2014,06,2014,38.9999,-20.1201,POSEIDON,471,19/07/2015,35.7544,-27.7932,ARVOR,\"Giese, Holger\",holger.giese@bsh.de,Argo BSH,GERMANY,392.6277,0.86,1,41,0,0,0,240,1500,2000,0,0,0,0,0,0,0,0,0,0,0,0,0,1,0,0']"
      ]
     },
     "execution_count": 8,
     "metadata": {},
     "output_type": "execute_result"
    }
   ],
   "source": [
    "d2 = [d.replace('\\0' , '').replace('\\xff' , '').replace('\\xfe' , '').replace('\\r\\n' , '') for d in data]\n",
    "d2[:5]"
   ]
  },
  {
   "cell_type": "code",
   "execution_count": 9,
   "metadata": {
    "collapsed": false
   },
   "outputs": [
    {
     "data": {
      "text/plain": [
       "pandas.core.frame.DataFrame"
      ]
     },
     "execution_count": 9,
     "metadata": {},
     "output_type": "execute_result"
    }
   ],
   "source": [
    "#Latest attempt\n",
    "df = pd.DataFrame(d2)\n",
    "type(df)"
   ]
  },
  {
   "cell_type": "code",
   "execution_count": 10,
   "metadata": {
    "collapsed": false,
    "scrolled": true
   },
   "outputs": [
    {
     "data": {
      "text/html": [
       "<div>\n",
       "<table border=\"1\" class=\"dataframe\">\n",
       "  <thead>\n",
       "    <tr style=\"text-align: right;\">\n",
       "      <th></th>\n",
       "      <th>WMO</th>\n",
       "      <th>TELECOM</th>\n",
       "      <th>TTYPE</th>\n",
       "      <th>MY_ID</th>\n",
       "      <th>SERIAL_NO</th>\n",
       "      <th>DATE0</th>\n",
       "      <th>NOTIF_DATE</th>\n",
       "      <th>MONTH0</th>\n",
       "      <th>YEAR0</th>\n",
       "      <th>LAT0</th>\n",
       "      <th>...</th>\n",
       "      <th>BACKSCATT</th>\n",
       "      <th>DOWNWELL</th>\n",
       "      <th>SST</th>\n",
       "      <th>SSS</th>\n",
       "      <th>PAL</th>\n",
       "      <th>OTHER</th>\n",
       "      <th>ICE_DETECT</th>\n",
       "      <th>ACTIVE</th>\n",
       "      <th>BEACHED</th>\n",
       "      <th>RETIRED</th>\n",
       "    </tr>\n",
       "  </thead>\n",
       "  <tbody>\n",
       "    <tr>\n",
       "      <th>0</th>\n",
       "      <td>6900877</td>\n",
       "      <td>99731</td>\n",
       "      <td>ARGOS</td>\n",
       "      <td>5058</td>\n",
       "      <td>5058</td>\n",
       "      <td>29/06/2014</td>\n",
       "      <td>17/04/2014</td>\n",
       "      <td>6</td>\n",
       "      <td>2014</td>\n",
       "      <td>57.5161</td>\n",
       "      <td>...</td>\n",
       "      <td>0</td>\n",
       "      <td>0</td>\n",
       "      <td>0</td>\n",
       "      <td>0</td>\n",
       "      <td>0</td>\n",
       "      <td>0</td>\n",
       "      <td>0</td>\n",
       "      <td>1</td>\n",
       "      <td>0</td>\n",
       "      <td>0</td>\n",
       "    </tr>\n",
       "    <tr>\n",
       "      <th>1</th>\n",
       "      <td>6900876</td>\n",
       "      <td>99730</td>\n",
       "      <td>ARGOS</td>\n",
       "      <td>5057</td>\n",
       "      <td>5057</td>\n",
       "      <td>29/06/2014</td>\n",
       "      <td>17/04/2014</td>\n",
       "      <td>6</td>\n",
       "      <td>2014</td>\n",
       "      <td>56.9983</td>\n",
       "      <td>...</td>\n",
       "      <td>0</td>\n",
       "      <td>0</td>\n",
       "      <td>0</td>\n",
       "      <td>0</td>\n",
       "      <td>0</td>\n",
       "      <td>0</td>\n",
       "      <td>0</td>\n",
       "      <td>1</td>\n",
       "      <td>0</td>\n",
       "      <td>0</td>\n",
       "    </tr>\n",
       "    <tr>\n",
       "      <th>2</th>\n",
       "      <td>6902554</td>\n",
       "      <td>139249</td>\n",
       "      <td>ARGOS</td>\n",
       "      <td>OIN14DAR03</td>\n",
       "      <td>OIN14DAR03</td>\n",
       "      <td>23/06/2014</td>\n",
       "      <td>21/05/2014</td>\n",
       "      <td>6</td>\n",
       "      <td>2014</td>\n",
       "      <td>41.0021</td>\n",
       "      <td>...</td>\n",
       "      <td>0</td>\n",
       "      <td>0</td>\n",
       "      <td>0</td>\n",
       "      <td>0</td>\n",
       "      <td>0</td>\n",
       "      <td>0</td>\n",
       "      <td>0</td>\n",
       "      <td>1</td>\n",
       "      <td>0</td>\n",
       "      <td>0</td>\n",
       "    </tr>\n",
       "    <tr>\n",
       "      <th>3</th>\n",
       "      <td>6902553</td>\n",
       "      <td>139248</td>\n",
       "      <td>ARGOS</td>\n",
       "      <td>OIN14DAR02</td>\n",
       "      <td>OIN14DAR02</td>\n",
       "      <td>22/06/2014</td>\n",
       "      <td>21/05/2014</td>\n",
       "      <td>6</td>\n",
       "      <td>2014</td>\n",
       "      <td>38.9999</td>\n",
       "      <td>...</td>\n",
       "      <td>0</td>\n",
       "      <td>0</td>\n",
       "      <td>0</td>\n",
       "      <td>0</td>\n",
       "      <td>0</td>\n",
       "      <td>0</td>\n",
       "      <td>0</td>\n",
       "      <td>1</td>\n",
       "      <td>0</td>\n",
       "      <td>0</td>\n",
       "    </tr>\n",
       "    <tr>\n",
       "      <th>4</th>\n",
       "      <td>6902552</td>\n",
       "      <td>139247</td>\n",
       "      <td>ARGOS</td>\n",
       "      <td>OIN14DAR01</td>\n",
       "      <td>OIN14DAR01</td>\n",
       "      <td>21/06/2014</td>\n",
       "      <td>21/05/2014</td>\n",
       "      <td>6</td>\n",
       "      <td>2014</td>\n",
       "      <td>37.0001</td>\n",
       "      <td>...</td>\n",
       "      <td>0</td>\n",
       "      <td>0</td>\n",
       "      <td>0</td>\n",
       "      <td>0</td>\n",
       "      <td>0</td>\n",
       "      <td>0</td>\n",
       "      <td>0</td>\n",
       "      <td>1</td>\n",
       "      <td>0</td>\n",
       "      <td>0</td>\n",
       "    </tr>\n",
       "  </tbody>\n",
       "</table>\n",
       "<p>5 rows × 47 columns</p>\n",
       "</div>"
      ],
      "text/plain": [
       "       WMO TELECOM  TTYPE       MY_ID   SERIAL_NO       DATE0  NOTIF_DATE  \\\n",
       "0  6900877   99731  ARGOS        5058        5058  29/06/2014  17/04/2014   \n",
       "1  6900876   99730  ARGOS        5057        5057  29/06/2014  17/04/2014   \n",
       "2  6902554  139249  ARGOS  OIN14DAR03  OIN14DAR03  23/06/2014  21/05/2014   \n",
       "3  6902553  139248  ARGOS  OIN14DAR02  OIN14DAR02  22/06/2014  21/05/2014   \n",
       "4  6902552  139247  ARGOS  OIN14DAR01  OIN14DAR01  21/06/2014  21/05/2014   \n",
       "\n",
       "   MONTH0  YEAR0     LAT0   ...    BACKSCATT DOWNWELL SST SSS  PAL  OTHER  \\\n",
       "0       6   2014  57.5161   ...            0        0   0   0    0      0   \n",
       "1       6   2014  56.9983   ...            0        0   0   0    0      0   \n",
       "2       6   2014  41.0021   ...            0        0   0   0    0      0   \n",
       "3       6   2014  38.9999   ...            0        0   0   0    0      0   \n",
       "4       6   2014  37.0001   ...            0        0   0   0    0      0   \n",
       "\n",
       "  ICE_DETECT ACTIVE BEACHED RETIRED  \n",
       "0          0      1       0       0  \n",
       "1          0      1       0       0  \n",
       "2          0      1       0       0  \n",
       "3          0      1       0       0  \n",
       "4          0      1       0       0  \n",
       "\n",
       "[5 rows x 47 columns]"
      ]
     },
     "execution_count": 10,
     "metadata": {},
     "output_type": "execute_result"
    }
   ],
   "source": [
    "with open('d2.csv', 'w') as f:\n",
    "    for row in d2:\n",
    "        f.write(row + '\\n')\n",
    "\n",
    "df = pd.read_csv('d2.csv')\n",
    "df[:5]"
   ]
  },
  {
   "cell_type": "code",
   "execution_count": 11,
   "metadata": {
    "collapsed": false,
    "scrolled": true
   },
   "outputs": [
    {
     "data": {
      "text/html": [
       "<div>\n",
       "<table border=\"1\" class=\"dataframe\">\n",
       "  <thead>\n",
       "    <tr style=\"text-align: right;\">\n",
       "      <th></th>\n",
       "      <th>WMO</th>\n",
       "      <th>OXYGEN</th>\n",
       "      <th>GREYLIST</th>\n",
       "      <th>AGE</th>\n",
       "      <th>DATE_</th>\n",
       "      <th>LAT_</th>\n",
       "      <th>LON_</th>\n",
       "    </tr>\n",
       "  </thead>\n",
       "  <tbody>\n",
       "    <tr>\n",
       "      <th>0</th>\n",
       "      <td>6900877</td>\n",
       "      <td>1</td>\n",
       "      <td>0</td>\n",
       "      <td>386.3628</td>\n",
       "      <td>21/07/2015</td>\n",
       "      <td>59.9372</td>\n",
       "      <td>-22.6524</td>\n",
       "    </tr>\n",
       "    <tr>\n",
       "      <th>1</th>\n",
       "      <td>6900876</td>\n",
       "      <td>1</td>\n",
       "      <td>0</td>\n",
       "      <td>386.1254</td>\n",
       "      <td>20/07/2015</td>\n",
       "      <td>59.2584</td>\n",
       "      <td>-10.8677</td>\n",
       "    </tr>\n",
       "    <tr>\n",
       "      <th>2</th>\n",
       "      <td>6902554</td>\n",
       "      <td>0</td>\n",
       "      <td>0</td>\n",
       "      <td>392.3855</td>\n",
       "      <td>20/07/2015</td>\n",
       "      <td>37.0153</td>\n",
       "      <td>-26.1956</td>\n",
       "    </tr>\n",
       "    <tr>\n",
       "      <th>3</th>\n",
       "      <td>6902553</td>\n",
       "      <td>0</td>\n",
       "      <td>0</td>\n",
       "      <td>392.6277</td>\n",
       "      <td>19/07/2015</td>\n",
       "      <td>35.7544</td>\n",
       "      <td>-27.7932</td>\n",
       "    </tr>\n",
       "    <tr>\n",
       "      <th>4</th>\n",
       "      <td>6902552</td>\n",
       "      <td>0</td>\n",
       "      <td>0</td>\n",
       "      <td>392.5143</td>\n",
       "      <td>18/07/2015</td>\n",
       "      <td>34.8368</td>\n",
       "      <td>-18.4200</td>\n",
       "    </tr>\n",
       "  </tbody>\n",
       "</table>\n",
       "</div>"
      ],
      "text/plain": [
       "       WMO  OXYGEN  GREYLIST       AGE       DATE_     LAT_     LON_\n",
       "0  6900877       1         0  386.3628  21/07/2015  59.9372 -22.6524\n",
       "1  6900876       1         0  386.1254  20/07/2015  59.2584 -10.8677\n",
       "2  6902554       0         0  392.3855  20/07/2015  37.0153 -26.1956\n",
       "3  6902553       0         0  392.6277  19/07/2015  35.7544 -27.7932\n",
       "4  6902552       0         0  392.5143  18/07/2015  34.8368 -18.4200"
      ]
     },
     "execution_count": 11,
     "metadata": {},
     "output_type": "execute_result"
    }
   ],
   "source": [
    "#This prints out certain columns (of my choosing) with all the rows still present\n",
    "fd_oga = df.loc[: , ['WMO' , 'OXYGEN' , 'GREYLIST' , 'AGE' , 'DATE_' , 'LAT_' , 'LON_'] ] # oga = oxygen, grey list, and age\n",
    "fd_oga[:5]"
   ]
  },
  {
   "cell_type": "code",
   "execution_count": 12,
   "metadata": {
    "collapsed": false,
    "scrolled": true
   },
   "outputs": [
    {
     "data": {
      "text/html": [
       "<div>\n",
       "<table border=\"1\" class=\"dataframe\">\n",
       "  <thead>\n",
       "    <tr style=\"text-align: right;\">\n",
       "      <th></th>\n",
       "      <th>WMO</th>\n",
       "      <th>OXYGEN</th>\n",
       "      <th>GREYLIST</th>\n",
       "      <th>AGE</th>\n",
       "      <th>DATE_</th>\n",
       "      <th>LAT_</th>\n",
       "      <th>LON_</th>\n",
       "    </tr>\n",
       "  </thead>\n",
       "  <tbody>\n",
       "    <tr>\n",
       "      <th>0</th>\n",
       "      <td>6900877</td>\n",
       "      <td>1</td>\n",
       "      <td>0</td>\n",
       "      <td>386.3628</td>\n",
       "      <td>21/07/2015</td>\n",
       "      <td>59.9372</td>\n",
       "      <td>-22.6524</td>\n",
       "    </tr>\n",
       "    <tr>\n",
       "      <th>1</th>\n",
       "      <td>6900876</td>\n",
       "      <td>1</td>\n",
       "      <td>0</td>\n",
       "      <td>386.1254</td>\n",
       "      <td>20/07/2015</td>\n",
       "      <td>59.2584</td>\n",
       "      <td>-10.8677</td>\n",
       "    </tr>\n",
       "    <tr>\n",
       "      <th>40</th>\n",
       "      <td>1900943</td>\n",
       "      <td>1</td>\n",
       "      <td>0</td>\n",
       "      <td>317.3993</td>\n",
       "      <td>27/12/2007</td>\n",
       "      <td>20.6700</td>\n",
       "      <td>-31.6260</td>\n",
       "    </tr>\n",
       "    <tr>\n",
       "      <th>66</th>\n",
       "      <td>6902546</td>\n",
       "      <td>1</td>\n",
       "      <td>0</td>\n",
       "      <td>0.4931</td>\n",
       "      <td>21/01/2014</td>\n",
       "      <td>64.6896</td>\n",
       "      <td>0.0736</td>\n",
       "    </tr>\n",
       "    <tr>\n",
       "      <th>67</th>\n",
       "      <td>6902544</td>\n",
       "      <td>1</td>\n",
       "      <td>0</td>\n",
       "      <td>590.2862</td>\n",
       "      <td>29/06/2015</td>\n",
       "      <td>76.9700</td>\n",
       "      <td>-1.1120</td>\n",
       "    </tr>\n",
       "  </tbody>\n",
       "</table>\n",
       "</div>"
      ],
      "text/plain": [
       "        WMO  OXYGEN  GREYLIST       AGE       DATE_     LAT_     LON_\n",
       "0   6900877       1         0  386.3628  21/07/2015  59.9372 -22.6524\n",
       "1   6900876       1         0  386.1254  20/07/2015  59.2584 -10.8677\n",
       "40  1900943       1         0  317.3993  27/12/2007  20.6700 -31.6260\n",
       "66  6902546       1         0    0.4931  21/01/2014  64.6896   0.0736\n",
       "67  6902544       1         0  590.2862  29/06/2015  76.9700  -1.1120"
      ]
     },
     "execution_count": 12,
     "metadata": {},
     "output_type": "execute_result"
    }
   ],
   "source": [
    "#This takes the fd_oga table and only shows the rows that have oxygen data\n",
    "fd_oxygen = fd_oga.loc[ fd_oga.loc[: , 'OXYGEN'] == 1 , :]\n",
    "fd_oxygen[:5]"
   ]
  },
  {
   "cell_type": "code",
   "execution_count": 13,
   "metadata": {
    "collapsed": false,
    "scrolled": true
   },
   "outputs": [
    {
     "data": {
      "text/html": [
       "<div>\n",
       "<table border=\"1\" class=\"dataframe\">\n",
       "  <thead>\n",
       "    <tr style=\"text-align: right;\">\n",
       "      <th></th>\n",
       "      <th>WMO</th>\n",
       "      <th>OXYGEN</th>\n",
       "      <th>GREYLIST</th>\n",
       "      <th>AGE</th>\n",
       "      <th>DATE_</th>\n",
       "      <th>LAT_</th>\n",
       "      <th>LON_</th>\n",
       "    </tr>\n",
       "  </thead>\n",
       "  <tbody>\n",
       "    <tr>\n",
       "      <th>0</th>\n",
       "      <td>6900877</td>\n",
       "      <td>1</td>\n",
       "      <td>0</td>\n",
       "      <td>386.3628</td>\n",
       "      <td>21/07/2015</td>\n",
       "      <td>59.9372</td>\n",
       "      <td>-22.6524</td>\n",
       "    </tr>\n",
       "    <tr>\n",
       "      <th>1</th>\n",
       "      <td>6900876</td>\n",
       "      <td>1</td>\n",
       "      <td>0</td>\n",
       "      <td>386.1254</td>\n",
       "      <td>20/07/2015</td>\n",
       "      <td>59.2584</td>\n",
       "      <td>-10.8677</td>\n",
       "    </tr>\n",
       "    <tr>\n",
       "      <th>2</th>\n",
       "      <td>6902554</td>\n",
       "      <td>0</td>\n",
       "      <td>0</td>\n",
       "      <td>392.3855</td>\n",
       "      <td>20/07/2015</td>\n",
       "      <td>37.0153</td>\n",
       "      <td>-26.1956</td>\n",
       "    </tr>\n",
       "    <tr>\n",
       "      <th>3</th>\n",
       "      <td>6902553</td>\n",
       "      <td>0</td>\n",
       "      <td>0</td>\n",
       "      <td>392.6277</td>\n",
       "      <td>19/07/2015</td>\n",
       "      <td>35.7544</td>\n",
       "      <td>-27.7932</td>\n",
       "    </tr>\n",
       "    <tr>\n",
       "      <th>4</th>\n",
       "      <td>6902552</td>\n",
       "      <td>0</td>\n",
       "      <td>0</td>\n",
       "      <td>392.5143</td>\n",
       "      <td>18/07/2015</td>\n",
       "      <td>34.8368</td>\n",
       "      <td>-18.4200</td>\n",
       "    </tr>\n",
       "  </tbody>\n",
       "</table>\n",
       "</div>"
      ],
      "text/plain": [
       "       WMO  OXYGEN  GREYLIST       AGE       DATE_     LAT_     LON_\n",
       "0  6900877       1         0  386.3628  21/07/2015  59.9372 -22.6524\n",
       "1  6900876       1         0  386.1254  20/07/2015  59.2584 -10.8677\n",
       "2  6902554       0         0  392.3855  20/07/2015  37.0153 -26.1956\n",
       "3  6902553       0         0  392.6277  19/07/2015  35.7544 -27.7932\n",
       "4  6902552       0         0  392.5143  18/07/2015  34.8368 -18.4200"
      ]
     },
     "execution_count": 13,
     "metadata": {},
     "output_type": "execute_result"
    }
   ],
   "source": [
    "#This takes the fd_oga table and only shows the rows that aren't grey listed     #gl = grey list\n",
    "fd_gl = fd_oga.loc[ fd_oga.loc[: , 'GREYLIST'] == 0 , :] #gl = grey list\n",
    "fd_gl[:5]"
   ]
  },
  {
   "cell_type": "code",
   "execution_count": 14,
   "metadata": {
    "collapsed": false,
    "scrolled": true
   },
   "outputs": [
    {
     "data": {
      "text/html": [
       "<div>\n",
       "<table border=\"1\" class=\"dataframe\">\n",
       "  <thead>\n",
       "    <tr style=\"text-align: right;\">\n",
       "      <th></th>\n",
       "      <th>WMO</th>\n",
       "      <th>OXYGEN</th>\n",
       "      <th>GREYLIST</th>\n",
       "      <th>AGE</th>\n",
       "      <th>DATE_</th>\n",
       "      <th>LAT_</th>\n",
       "      <th>LON_</th>\n",
       "    </tr>\n",
       "  </thead>\n",
       "  <tbody>\n",
       "    <tr>\n",
       "      <th>0</th>\n",
       "      <td>6900877</td>\n",
       "      <td>1</td>\n",
       "      <td>0</td>\n",
       "      <td>386.3628</td>\n",
       "      <td>21/07/2015</td>\n",
       "      <td>59.9372</td>\n",
       "      <td>-22.6524</td>\n",
       "    </tr>\n",
       "    <tr>\n",
       "      <th>1</th>\n",
       "      <td>6900876</td>\n",
       "      <td>1</td>\n",
       "      <td>0</td>\n",
       "      <td>386.1254</td>\n",
       "      <td>20/07/2015</td>\n",
       "      <td>59.2584</td>\n",
       "      <td>-10.8677</td>\n",
       "    </tr>\n",
       "    <tr>\n",
       "      <th>2</th>\n",
       "      <td>6902554</td>\n",
       "      <td>0</td>\n",
       "      <td>0</td>\n",
       "      <td>392.3855</td>\n",
       "      <td>20/07/2015</td>\n",
       "      <td>37.0153</td>\n",
       "      <td>-26.1956</td>\n",
       "    </tr>\n",
       "    <tr>\n",
       "      <th>3</th>\n",
       "      <td>6902553</td>\n",
       "      <td>0</td>\n",
       "      <td>0</td>\n",
       "      <td>392.6277</td>\n",
       "      <td>19/07/2015</td>\n",
       "      <td>35.7544</td>\n",
       "      <td>-27.7932</td>\n",
       "    </tr>\n",
       "    <tr>\n",
       "      <th>4</th>\n",
       "      <td>6902552</td>\n",
       "      <td>0</td>\n",
       "      <td>0</td>\n",
       "      <td>392.5143</td>\n",
       "      <td>18/07/2015</td>\n",
       "      <td>34.8368</td>\n",
       "      <td>-18.4200</td>\n",
       "    </tr>\n",
       "  </tbody>\n",
       "</table>\n",
       "</div>"
      ],
      "text/plain": [
       "       WMO  OXYGEN  GREYLIST       AGE       DATE_     LAT_     LON_\n",
       "0  6900877       1         0  386.3628  21/07/2015  59.9372 -22.6524\n",
       "1  6900876       1         0  386.1254  20/07/2015  59.2584 -10.8677\n",
       "2  6902554       0         0  392.3855  20/07/2015  37.0153 -26.1956\n",
       "3  6902553       0         0  392.6277  19/07/2015  35.7544 -27.7932\n",
       "4  6902552       0         0  392.5143  18/07/2015  34.8368 -18.4200"
      ]
     },
     "execution_count": 14,
     "metadata": {},
     "output_type": "execute_result"
    }
   ],
   "source": [
    "#This takes the fd_oga table and only shows the rows that are at least 340 days old\n",
    "fd_age = fd_oga.loc[ fd_oga.loc[: , 'AGE'] >= 340. , :]\n",
    "fd_age[:5]"
   ]
  },
  {
   "cell_type": "code",
   "execution_count": 15,
   "metadata": {
    "collapsed": false,
    "scrolled": true
   },
   "outputs": [
    {
     "data": {
      "text/html": [
       "<div>\n",
       "<table border=\"1\" class=\"dataframe\">\n",
       "  <thead>\n",
       "    <tr style=\"text-align: right;\">\n",
       "      <th></th>\n",
       "      <th>WMO</th>\n",
       "      <th>OXYGEN</th>\n",
       "      <th>GREYLIST</th>\n",
       "      <th>AGE</th>\n",
       "      <th>DATE_</th>\n",
       "      <th>LAT_</th>\n",
       "      <th>LON_</th>\n",
       "    </tr>\n",
       "  </thead>\n",
       "  <tbody>\n",
       "    <tr>\n",
       "      <th>0</th>\n",
       "      <td>6900877</td>\n",
       "      <td>1</td>\n",
       "      <td>0</td>\n",
       "      <td>386.3628</td>\n",
       "      <td>21/07/2015</td>\n",
       "      <td>59.9372</td>\n",
       "      <td>-22.6524</td>\n",
       "    </tr>\n",
       "    <tr>\n",
       "      <th>1</th>\n",
       "      <td>6900876</td>\n",
       "      <td>1</td>\n",
       "      <td>0</td>\n",
       "      <td>386.1254</td>\n",
       "      <td>20/07/2015</td>\n",
       "      <td>59.2584</td>\n",
       "      <td>-10.8677</td>\n",
       "    </tr>\n",
       "    <tr>\n",
       "      <th>2</th>\n",
       "      <td>1900943</td>\n",
       "      <td>1</td>\n",
       "      <td>0</td>\n",
       "      <td>317.3993</td>\n",
       "      <td>27/12/2007</td>\n",
       "      <td>20.6700</td>\n",
       "      <td>-31.6260</td>\n",
       "    </tr>\n",
       "    <tr>\n",
       "      <th>3</th>\n",
       "      <td>6902546</td>\n",
       "      <td>1</td>\n",
       "      <td>0</td>\n",
       "      <td>0.4931</td>\n",
       "      <td>21/01/2014</td>\n",
       "      <td>64.6896</td>\n",
       "      <td>0.0736</td>\n",
       "    </tr>\n",
       "    <tr>\n",
       "      <th>4</th>\n",
       "      <td>6902544</td>\n",
       "      <td>1</td>\n",
       "      <td>0</td>\n",
       "      <td>590.2862</td>\n",
       "      <td>29/06/2015</td>\n",
       "      <td>76.9700</td>\n",
       "      <td>-1.1120</td>\n",
       "    </tr>\n",
       "  </tbody>\n",
       "</table>\n",
       "</div>"
      ],
      "text/plain": [
       "       WMO  OXYGEN  GREYLIST       AGE       DATE_     LAT_     LON_\n",
       "0  6900877       1         0  386.3628  21/07/2015  59.9372 -22.6524\n",
       "1  6900876       1         0  386.1254  20/07/2015  59.2584 -10.8677\n",
       "2  1900943       1         0  317.3993  27/12/2007  20.6700 -31.6260\n",
       "3  6902546       1         0    0.4931  21/01/2014  64.6896   0.0736\n",
       "4  6902544       1         0  590.2862  29/06/2015  76.9700  -1.1120"
      ]
     },
     "execution_count": 15,
     "metadata": {},
     "output_type": "execute_result"
    }
   ],
   "source": [
    "#Merging the fd_oxygen table with the fd_gl table\n",
    "fd_merge_og = pd.merge(fd_oxygen , fd_gl) #og = oxygen and grey list\n",
    "fd_merge_og[:5]"
   ]
  },
  {
   "cell_type": "code",
   "execution_count": 35,
   "metadata": {
    "collapsed": false,
    "scrolled": true
   },
   "outputs": [
    {
     "data": {
      "text/html": [
       "<div>\n",
       "<table border=\"1\" class=\"dataframe\">\n",
       "  <thead>\n",
       "    <tr style=\"text-align: right;\">\n",
       "      <th></th>\n",
       "      <th>WMO</th>\n",
       "      <th>OXYGEN</th>\n",
       "      <th>GREYLIST</th>\n",
       "      <th>AGE</th>\n",
       "      <th>DATE_</th>\n",
       "      <th>LAT_</th>\n",
       "      <th>LON_</th>\n",
       "    </tr>\n",
       "  </thead>\n",
       "  <tbody>\n",
       "    <tr>\n",
       "      <th>0</th>\n",
       "      <td>6900877</td>\n",
       "      <td>1</td>\n",
       "      <td>0</td>\n",
       "      <td>386.3628</td>\n",
       "      <td>21/07/2015</td>\n",
       "      <td>59.9372</td>\n",
       "      <td>-22.6524</td>\n",
       "    </tr>\n",
       "    <tr>\n",
       "      <th>1</th>\n",
       "      <td>6900876</td>\n",
       "      <td>1</td>\n",
       "      <td>0</td>\n",
       "      <td>386.1254</td>\n",
       "      <td>20/07/2015</td>\n",
       "      <td>59.2584</td>\n",
       "      <td>-10.8677</td>\n",
       "    </tr>\n",
       "    <tr>\n",
       "      <th>2</th>\n",
       "      <td>6902544</td>\n",
       "      <td>1</td>\n",
       "      <td>0</td>\n",
       "      <td>590.2862</td>\n",
       "      <td>29/06/2015</td>\n",
       "      <td>76.9700</td>\n",
       "      <td>-1.1120</td>\n",
       "    </tr>\n",
       "    <tr>\n",
       "      <th>3</th>\n",
       "      <td>6902545</td>\n",
       "      <td>1</td>\n",
       "      <td>0</td>\n",
       "      <td>521.7191</td>\n",
       "      <td>28/06/2015</td>\n",
       "      <td>69.3350</td>\n",
       "      <td>5.0190</td>\n",
       "    </tr>\n",
       "    <tr>\n",
       "      <th>4</th>\n",
       "      <td>6902547</td>\n",
       "      <td>1</td>\n",
       "      <td>0</td>\n",
       "      <td>526.0354</td>\n",
       "      <td>02/07/2015</td>\n",
       "      <td>68.2500</td>\n",
       "      <td>9.4520</td>\n",
       "    </tr>\n",
       "  </tbody>\n",
       "</table>\n",
       "</div>"
      ],
      "text/plain": [
       "       WMO  OXYGEN  GREYLIST       AGE       DATE_     LAT_     LON_\n",
       "0  6900877       1         0  386.3628  21/07/2015  59.9372 -22.6524\n",
       "1  6900876       1         0  386.1254  20/07/2015  59.2584 -10.8677\n",
       "2  6902544       1         0  590.2862  29/06/2015  76.9700  -1.1120\n",
       "3  6902545       1         0  521.7191  28/06/2015  69.3350   5.0190\n",
       "4  6902547       1         0  526.0354  02/07/2015  68.2500   9.4520"
      ]
     },
     "execution_count": 35,
     "metadata": {},
     "output_type": "execute_result"
    }
   ],
   "source": [
    "#Later work will go off of this table\n",
    "\n",
    "#FINALLY HAVE ONLY THE DATA I DESIRE\n",
    "#PRAISE HELIX\n",
    "#After all the trial and error (=^.^=)\n",
    "\n",
    "fd_merge_oga = pd.merge(fd_merge_og , fd_age)\n",
    "fd_merge_oga[:5]\n",
    "#Merged the fd_merge_og table with the fd_age table\n",
    "\n",
    "#Inactive -> active = 0"
   ]
  },
  {
   "cell_type": "code",
   "execution_count": 17,
   "metadata": {
    "collapsed": false
   },
   "outputs": [
    {
     "data": {
      "text/plain": [
       "['# Title : Metadata directory file of the Argo Global Data Assembly Center\\n',\n",
       " '# Description : The directory file describes all metadata files of the argo GDAC ftp site.\\n',\n",
       " '# Project : ARGO\\n',\n",
       " '# Format version : 2.0\\n',\n",
       " '# Date of update : 20150723202521\\n',\n",
       " '# FTP root number 1 : ftp://ftp.ifremer.fr/ifremer/argo/dac\\n',\n",
       " '# FTP root number 2 : ftp://usgodae.usgodae.org/pub/outgoing/argo/dac\\n',\n",
       " '# GDAC node : CORIOLIS\\n',\n",
       " 'file,profiler_type,institution,date_update\\n',\n",
       " 'aoml/13857/13857_meta.nc,845,AO,20120521144513\\n']"
      ]
     },
     "execution_count": 17,
     "metadata": {},
     "output_type": "execute_result"
    }
   ],
   "source": [
    "gd = urllib2.urlopen(\"ftp://ftp.ifremer.fr/ifremer/argo/ar_index_global_meta.txt\").readlines()\n",
    "gd[:10]"
   ]
  },
  {
   "cell_type": "code",
   "execution_count": 18,
   "metadata": {
    "collapsed": false,
    "scrolled": true
   },
   "outputs": [
    {
     "data": {
      "text/plain": [
       "['# Title : Metadata directory file of the Argo Global Data Assembly Center\\n',\n",
       " '# Description : The directory file describes all metadata files of the argo GDAC ftp site.\\n',\n",
       " '# Project : ARGO\\n',\n",
       " '# Format version : 2.0\\n',\n",
       " '# Date of update : 20150723202521\\n',\n",
       " '# FTP root number 1 : ftp://ftp.ifremer.fr/ifremer/argo/dac\\n',\n",
       " '# FTP root number 2 : ftp://usgodae.usgodae.org/pub/outgoing/argo/dac\\n',\n",
       " '# GDAC node : CORIOLIS\\n',\n",
       " 'file,profiler_type,institution,date_update\\n',\n",
       " 'aoml/13857/13857_meta.nc,845,AO,20120521144513\\n']"
      ]
     },
     "execution_count": 18,
     "metadata": {},
     "output_type": "execute_result"
    }
   ],
   "source": [
    "#May or may not even need this\n",
    "gd = urllib2.urlopen(\"ftp://ftp.ifremer.fr/ifremer/argo/ar_index_global_meta.txt\").readlines() #gd = global data\n",
    "\n",
    "gd1 = [g.replace('\\0' , '').replace('\\xff' , '').replace('\\xfe' , '').replace('\\r\\n' , '') for g in gd]\n",
    "\n",
    "gd1[:10]\n",
    "#Now to get it so when a user inputs a float number, the DAC of that number shows up"
   ]
  },
  {
   "cell_type": "code",
   "execution_count": 19,
   "metadata": {
    "collapsed": false,
    "scrolled": true
   },
   "outputs": [
    {
     "data": {
      "text/html": [
       "<div>\n",
       "<table border=\"1\" class=\"dataframe\">\n",
       "  <thead>\n",
       "    <tr style=\"text-align: right;\">\n",
       "      <th></th>\n",
       "      <th>file</th>\n",
       "      <th>profiler_type</th>\n",
       "      <th>institution</th>\n",
       "      <th>date_update</th>\n",
       "    </tr>\n",
       "  </thead>\n",
       "  <tbody>\n",
       "    <tr>\n",
       "      <th>0</th>\n",
       "      <td>aoml/13857/13857_meta.nc</td>\n",
       "      <td>845</td>\n",
       "      <td>AO</td>\n",
       "      <td>20120521144513</td>\n",
       "    </tr>\n",
       "    <tr>\n",
       "      <th>1</th>\n",
       "      <td>aoml/13858/13858_meta.nc</td>\n",
       "      <td>845</td>\n",
       "      <td>AO</td>\n",
       "      <td>20130222100319</td>\n",
       "    </tr>\n",
       "    <tr>\n",
       "      <th>2</th>\n",
       "      <td>aoml/13859/13859_meta.nc</td>\n",
       "      <td>845</td>\n",
       "      <td>AO</td>\n",
       "      <td>20120521144513</td>\n",
       "    </tr>\n",
       "    <tr>\n",
       "      <th>3</th>\n",
       "      <td>aoml/15819/15819_meta.nc</td>\n",
       "      <td>845</td>\n",
       "      <td>AO</td>\n",
       "      <td>20120521144513</td>\n",
       "    </tr>\n",
       "    <tr>\n",
       "      <th>4</th>\n",
       "      <td>aoml/15820/15820_meta.nc</td>\n",
       "      <td>845</td>\n",
       "      <td>AO</td>\n",
       "      <td>20120521144513</td>\n",
       "    </tr>\n",
       "  </tbody>\n",
       "</table>\n",
       "</div>"
      ],
      "text/plain": [
       "                       file  profiler_type institution     date_update\n",
       "0  aoml/13857/13857_meta.nc            845          AO  20120521144513\n",
       "1  aoml/13858/13858_meta.nc            845          AO  20130222100319\n",
       "2  aoml/13859/13859_meta.nc            845          AO  20120521144513\n",
       "3  aoml/15819/15819_meta.nc            845          AO  20120521144513\n",
       "4  aoml/15820/15820_meta.nc            845          AO  20120521144513"
      ]
     },
     "execution_count": 19,
     "metadata": {},
     "output_type": "execute_result"
    }
   ],
   "source": [
    "with open('gd1.csv', 'w') as f:\n",
    "    for row in gd1:\n",
    "        f.write(row + '\\n')\n",
    "\n",
    "gd_table = pd.read_csv('gd1.csv' , comment = '#')\n",
    "gd_table[:5]"
   ]
  },
  {
   "cell_type": "code",
   "execution_count": 20,
   "metadata": {
    "collapsed": false,
    "scrolled": true
   },
   "outputs": [
    {
     "data": {
      "text/html": [
       "<div>\n",
       "<table border=\"1\" class=\"dataframe\">\n",
       "  <thead>\n",
       "    <tr style=\"text-align: right;\">\n",
       "      <th></th>\n",
       "      <th>file</th>\n",
       "    </tr>\n",
       "  </thead>\n",
       "  <tbody>\n",
       "    <tr>\n",
       "      <th>0</th>\n",
       "      <td>aoml/13857/13857_meta.nc</td>\n",
       "    </tr>\n",
       "    <tr>\n",
       "      <th>1</th>\n",
       "      <td>aoml/13858/13858_meta.nc</td>\n",
       "    </tr>\n",
       "    <tr>\n",
       "      <th>2</th>\n",
       "      <td>aoml/13859/13859_meta.nc</td>\n",
       "    </tr>\n",
       "    <tr>\n",
       "      <th>3</th>\n",
       "      <td>aoml/15819/15819_meta.nc</td>\n",
       "    </tr>\n",
       "    <tr>\n",
       "      <th>4</th>\n",
       "      <td>aoml/15820/15820_meta.nc</td>\n",
       "    </tr>\n",
       "    <tr>\n",
       "      <th>5</th>\n",
       "      <td>aoml/15851/15851_meta.nc</td>\n",
       "    </tr>\n",
       "    <tr>\n",
       "      <th>6</th>\n",
       "      <td>aoml/15852/15852_meta.nc</td>\n",
       "    </tr>\n",
       "    <tr>\n",
       "      <th>7</th>\n",
       "      <td>aoml/15853/15853_meta.nc</td>\n",
       "    </tr>\n",
       "    <tr>\n",
       "      <th>8</th>\n",
       "      <td>aoml/15854/15854_meta.nc</td>\n",
       "    </tr>\n",
       "    <tr>\n",
       "      <th>9</th>\n",
       "      <td>aoml/15855/15855_meta.nc</td>\n",
       "    </tr>\n",
       "  </tbody>\n",
       "</table>\n",
       "</div>"
      ],
      "text/plain": [
       "                       file\n",
       "0  aoml/13857/13857_meta.nc\n",
       "1  aoml/13858/13858_meta.nc\n",
       "2  aoml/13859/13859_meta.nc\n",
       "3  aoml/15819/15819_meta.nc\n",
       "4  aoml/15820/15820_meta.nc\n",
       "5  aoml/15851/15851_meta.nc\n",
       "6  aoml/15852/15852_meta.nc\n",
       "7  aoml/15853/15853_meta.nc\n",
       "8  aoml/15854/15854_meta.nc\n",
       "9  aoml/15855/15855_meta.nc"
      ]
     },
     "execution_count": 20,
     "metadata": {},
     "output_type": "execute_result"
    }
   ],
   "source": [
    "# Would like to read off Internet\n",
    "gd_table.loc[:,['file']][:10]"
   ]
  },
  {
   "cell_type": "code",
   "execution_count": 21,
   "metadata": {
    "collapsed": false
   },
   "outputs": [
    {
     "name": "stdout",
     "output_type": "stream",
     "text": [
      "12 in bList\n",
      "35 in bList\n"
     ]
    }
   ],
   "source": [
    "bList =[12,35,67,98]\n",
    "for i in range(50):\n",
    "    if i in bList:\n",
    "        print i, \"in bList\""
   ]
  },
  {
   "cell_type": "code",
   "execution_count": 50,
   "metadata": {
    "collapsed": false
   },
   "outputs": [
    {
     "name": "stdout",
     "output_type": "stream",
     "text": [
      "['6900877', '6900876', '6902544', '6902545', '6902547', '6900799', '6900798', '6900797', '6900796', '4901043']\n"
     ]
    }
   ],
   "source": [
    "good_floats = []\n",
    "for index,row in fd_merge_oga.loc[:,['WMO']].iterrows():\n",
    "    good_floats.append(row['WMO'])\n",
    "print good_floats[:10]"
   ]
  },
  {
   "cell_type": "code",
   "execution_count": 56,
   "metadata": {
    "collapsed": false
   },
   "outputs": [],
   "source": [
    "dac_substring = []\n",
    "for index,row in gd_table.loc[:,['file']].iterrows():\n",
    "    floatNum = row['file'].split('/')[1]\n",
    "    all_floats.append(floatNum)\n",
    "\n",
    "    if floatNum in good_floats:\n",
    "        dac_substring.append(row['file'])\n",
    "    "
   ]
  },
  {
   "cell_type": "code",
   "execution_count": 57,
   "metadata": {
    "collapsed": false
   },
   "outputs": [
    {
     "name": "stdout",
     "output_type": "stream",
     "text": [
      "['aoml/1900722/1900722_meta.nc', 'aoml/1901378/1901378_meta.nc', 'aoml/2900114/2900114_meta.nc', 'aoml/2900115/2900115_meta.nc', 'aoml/2900116/2900116_meta.nc', 'aoml/2900117/2900117_meta.nc', 'aoml/2900118/2900118_meta.nc', 'aoml/2900119/2900119_meta.nc', 'aoml/2900120/2900120_meta.nc', 'aoml/2900123/2900123_meta.nc']\n"
     ]
    }
   ],
   "source": [
    "print dac_substring[:10]"
   ]
  },
  {
   "cell_type": "code",
   "execution_count": 67,
   "metadata": {
    "collapsed": false
   },
   "outputs": [
    {
     "name": "stdout",
     "output_type": "stream",
     "text": [
      "http://thredds.aodn.org.au/thredds/catalog/IMOS/Argo/dac/aoml/1900722/profiles/catalog.xml\n"
     ]
    }
   ],
   "source": [
    "tdsUrl = ''\n",
    "for dac in dac_substring:\n",
    "    tdsUrl += \"http://thredds.aodn.org.au/thredds/catalog/IMOS/Argo/dac/\"\n",
    "    tdsUrl += '/'.join(dac.split('/')[:2])\n",
    "    tdsUrl += \"/profiles/catalog.xml\"\n",
    "    print tdsUrl\n",
    "    break"
   ]
  },
  {
   "cell_type": "code",
   "execution_count": 28,
   "metadata": {
    "collapsed": false,
    "scrolled": true
   },
   "outputs": [],
   "source": [
    "c = Crawl(\"http://thredds.aodn.org.au/thredds/catalog/IMOS/Argo/dac/coriolis/1900650/profiles/catalog.xml\")\n",
    "urls = [s.get(\"url\") for d in c.datasets for s in d.services if s.get(\"service\").lower() == \"opendap\"]"
   ]
  },
  {
   "cell_type": "code",
   "execution_count": null,
   "metadata": {
    "collapsed": true
   },
   "outputs": [],
   "source": [
    "def conv"
   ]
  },
  {
   "cell_type": "code",
   "execution_count": 32,
   "metadata": {
    "collapsed": false,
    "scrolled": true
   },
   "outputs": [
    {
     "name": "stdout",
     "output_type": "stream",
     "text": [
      "http://thredds.aodn.org.au/thredds/dodsC/IMOS/Argo/dac/coriolis/1900650/profiles/D1900650_137.nc\n",
      "1900650\n",
      "34.8275 29.79"
     ]
    },
    {
     "ename": "NameError",
     "evalue": "name 'perc_sat' is not defined",
     "output_type": "error",
     "traceback": [
      "\u001b[1;31m---------------------------------------------------------------------------\u001b[0m",
      "\u001b[1;31mNameError\u001b[0m                                 Traceback (most recent call last)",
      "\u001b[1;32m<ipython-input-32-7b5f0b490adc>\u001b[0m in \u001b[0;36m<module>\u001b[1;34m()\u001b[0m\n\u001b[0;32m     10\u001b[0m     \u001b[1;31m# Convert o from micrograms/kg to ml/l\u001b[0m\u001b[1;33m\u001b[0m\u001b[1;33m\u001b[0m\u001b[0m\n\u001b[0;32m     11\u001b[0m     \u001b[1;31m##perc_sat = 100 * convertTomll(o) / satO2(s,t)\u001b[0m\u001b[1;33m\u001b[0m\u001b[1;33m\u001b[0m\u001b[0m\n\u001b[1;32m---> 12\u001b[1;33m     \u001b[1;32mprint\u001b[0m \u001b[0ms\u001b[0m\u001b[1;33m,\u001b[0m\u001b[0mt\u001b[0m\u001b[1;33m,\u001b[0m\u001b[0mperc_sat\u001b[0m\u001b[1;33m\u001b[0m\u001b[0m\n\u001b[0m\u001b[0;32m     13\u001b[0m     \u001b[0mfloatLookup\u001b[0m\u001b[1;33m[\u001b[0m\u001b[0mfloatNum\u001b[0m\u001b[1;33m]\u001b[0m \u001b[1;33m=\u001b[0m \u001b[1;33m(\u001b[0m\u001b[0mp\u001b[0m\u001b[1;33m,\u001b[0m\u001b[0mt\u001b[0m\u001b[1;33m,\u001b[0m\u001b[0ms\u001b[0m\u001b[1;33m,\u001b[0m\u001b[0mo\u001b[0m\u001b[1;33m,\u001b[0m\u001b[0mlat\u001b[0m\u001b[1;33m,\u001b[0m\u001b[0mlon\u001b[0m\u001b[1;33m,\u001b[0m\u001b[0mmtime\u001b[0m\u001b[1;33m)\u001b[0m\u001b[1;33m\u001b[0m\u001b[0m\n",
      "\u001b[1;31mNameError\u001b[0m: name 'perc_sat' is not defined"
     ]
    }
   ],
   "source": [
    "floatLookup = {}\n",
    "for url in urls:\n",
    "    print url\n",
    "    ds = Dataset(url)\n",
    "    floatNum = url.split('/')[9]\n",
    "    print floatNum\n",
    "    p,t,s,o = (ds.variables['PRES_ADJUSTED'][0][0], ds.variables['TEMP_ADJUSTED'][0][0], \n",
    "               ds.variables['PSAL_ADJUSTED'][0][0], ds.variables['DOXY_ADJUSTED'][0][0])\n",
    "    lat,lon,mtime = (ds.variables['LATITUDE'][0], ds.variables['LONGITUDE'][0], ds.variables['JULD'][0])\n",
    "    \n",
    "    # Convert o from micromol/kg to ml/l \n",
    "    ##perc_sat = 100 * convertTomll(o) / satO2(s,t) \n",
    "    print s,t,perc_sat\n",
    "    floatLookup[floatNum] = (p,t,s,o,lat,lon,mtime)"
   ]
  },
  {
   "cell_type": "code",
   "execution_count": null,
   "metadata": {
    "collapsed": false,
    "scrolled": true
   },
   "outputs": [],
   "source": [
    "floatLookup"
   ]
  },
  {
   "cell_type": "code",
   "execution_count": 33,
   "metadata": {
    "collapsed": false
   },
   "outputs": [
    {
     "name": "stdout",
     "output_type": "stream",
     "text": [
      "\n"
     ]
    }
   ],
   "source": [
    "p,t,s,o = (ds.variables['PRES_ADJUSTED'][0][0], ds.variables['TEMP_ADJUSTED'][0][0], ds.variables['PSAL_ADJUSTED'][0][0], ds.variables['DOXY_ADJUSTED'][0][0])"
   ]
  },
  {
   "cell_type": "code",
   "execution_count": 53,
   "metadata": {
    "collapsed": false,
    "scrolled": true
   },
   "outputs": [
    {
     "data": {
      "text/plain": [
       "(4.3000002, 29.790001, 34.827457, 206.49001)"
      ]
     },
     "execution_count": 53,
     "metadata": {},
     "output_type": "execute_result"
    }
   ],
   "source": [
    "p,t,s,o"
   ]
  },
  {
   "cell_type": "code",
   "execution_count": 35,
   "metadata": {
    "collapsed": false
   },
   "outputs": [],
   "source": [
    "lat,lon,mtime = (ds.variables['LATITUDE'][0], ds.variables['LONGITUDE'][0], ds.variables['JULD'][0])"
   ]
  },
  {
   "cell_type": "code",
   "execution_count": 36,
   "metadata": {
    "collapsed": false,
    "scrolled": true
   },
   "outputs": [
    {
     "data": {
      "text/plain": [
       "(6.0310000000000006, -14.026, 21985.069212962964)"
      ]
     },
     "execution_count": 36,
     "metadata": {},
     "output_type": "execute_result"
    }
   ],
   "source": [
    "lat,lon,mtime"
   ]
  },
  {
   "cell_type": "code",
   "execution_count": 118,
   "metadata": {
    "collapsed": false
   },
   "outputs": [
    {
     "ename": "SyntaxError",
     "evalue": "invalid syntax (<ipython-input-118-819d3bb21dd0>, line 5)",
     "output_type": "error",
     "traceback": [
      "\u001b[1;36m  File \u001b[1;32m\"<ipython-input-118-819d3bb21dd0>\"\u001b[1;36m, line \u001b[1;32m5\u001b[0m\n\u001b[1;33m    B =  .808 - (.0085*p)\u001b[0m\n\u001b[1;37m    ^\u001b[0m\n\u001b[1;31mSyntaxError\u001b[0m\u001b[1;31m:\u001b[0m invalid syntax\n"
     ]
    }
   ],
   "source": [
    "#The p here is for depth...maybe\n",
    "#That's why it said the unit was km\n",
    "def dens_formula(p , t , s):\n",
    "    C = (999.83 + (5.053*p) - (.048*(p**2))\n",
    "    B =  .808 - (.0085*p)\n",
    "    a = .0708*((1 + (.351*p)) + .068*(1 - (.0683*p))*t)\n",
    "    y = .003*(1 - (.059*p) - .012*(1 - .064*p)*t)\n",
    "    dens = C + (B*s) - (a*t) - ((y*(35 - s))*t)\n",
    "    return dens"
   ]
  },
  {
   "cell_type": "code",
   "execution_count": 115,
   "metadata": {
    "collapsed": false
   },
   "outputs": [
    {
     "data": {
      "text/plain": [
       "1039.220347679988"
      ]
     },
     "execution_count": 115,
     "metadata": {},
     "output_type": "execute_result"
    }
   ],
   "source": [
    "dens_formula(p , t , s)"
   ]
  },
  {
   "cell_type": "code",
   "execution_count": null,
   "metadata": {
    "collapsed": true
   },
   "outputs": [],
   "source": [
    "def dens_formula(p , t , s):\n",
    "    p = p / 10.0\n",
    "    pw = 999.842594 + ((6.793952 * (10**-abs(2)))*t) - ((9.095290 * (10**-abs(3)))*(t**2)) + ((1.001685 * (10**-abs(4)))*(t**3)) - ((1.120083 * (10**-abs(6)))*(t**4)) + ((6.536332 * (10**-abs(9))*(t**5))        \n",
    "    "
   ]
  }
 ],
 "metadata": {
  "kernelspec": {
   "display_name": "Python 2",
   "language": "python",
   "name": "python2"
  },
  "language_info": {
   "codemirror_mode": {
    "name": "ipython",
    "version": 2
   },
   "file_extension": ".py",
   "mimetype": "text/x-python",
   "name": "python",
   "nbconvert_exporter": "python",
   "pygments_lexer": "ipython2",
   "version": "2.7.9"
  }
 },
 "nbformat": 4,
 "nbformat_minor": 0
}
