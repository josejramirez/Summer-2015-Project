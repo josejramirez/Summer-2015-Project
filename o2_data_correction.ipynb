{
 "cells": [
  {
   "cell_type": "code",
   "execution_count": 1,
   "metadata": {
    "collapsed": true
   },
   "outputs": [],
   "source": [
    "#Saturated Oxygen Data Correction\n",
    "import oxyfloat"
   ]
  },
  {
   "cell_type": "code",
   "execution_count": 2,
   "metadata": {
    "collapsed": false
   },
   "outputs": [
    {
     "name": "stderr",
     "output_type": "stream",
     "text": [
      "DEBUG 2015-07-29 08:22:06,053 __init__.py get_oxy_floats():34 Reading data from http://argo.jcommops.org/FTPRoot/Argo/Status/argo_all.txt\n",
      "DEBUG:oxyfloat:Reading data from http://argo.jcommops.org/FTPRoot/Argo/Status/argo_all.txt\n",
      "DEBUG 2015-07-29 08:22:25,990 __init__.py get_oxy_floats():52 Merging records with oxygen, not greylisted, and age >= 340\n",
      "DEBUG:oxyfloat:Merging records with oxygen, not greylisted, and age >= 340\n"
     ]
    }
   ],
   "source": [
    "oga_floats = oxyfloat.get_oxy_floats()"
   ]
  },
  {
   "cell_type": "code",
   "execution_count": null,
   "metadata": {
    "collapsed": false
   },
   "outputs": [
    {
     "name": "stderr",
     "output_type": "stream",
     "text": [
      "DEBUG 2015-07-29 08:26:23,895 __init__.py get_dac_urls():66 Reading data from ftp://ftp.ifremer.fr/ifremer/argo/ar_index_global_meta.txt\n",
      "DEBUG:oxyfloat:Reading data from ftp://ftp.ifremer.fr/ifremer/argo/ar_index_global_meta.txt\n",
      "DEBUG 2015-07-29 08:26:28,493 __init__.py get_dac_urls():83 Found 555 dac_urls\n",
      "DEBUG:oxyfloat:Found 555 dac_urls\n",
      "DEBUG 2015-07-29 08:26:28,498 __init__.py get_profile_opendap_urls():94 Parsing http://thredds.aodn.org.au/thredds/catalog/IMOS/Argo/dac/aoml/1900722/profiles/catalog.xml\n",
      "DEBUG:oxyfloat:Parsing http://thredds.aodn.org.au/thredds/catalog/IMOS/Argo/dac/aoml/1900722/profiles/catalog.xml\n",
      "DEBUG 2015-07-29 08:26:29,602 __init__.py get_profile_opendap_urls():116 Found 405 netCDF files in 1.1 seconds\n",
      "DEBUG:oxyfloat:Found 405 netCDF files in 1.1 seconds\n",
      "DEBUG 2015-07-29 08:26:29,607 __init__.py get_profile_data():123 Opening http://thredds.aodn.org.au/thredds/dodsC/IMOS/Argo/dac/aoml/1900722/profiles/MD1900722_135.nc\n",
      "DEBUG:oxyfloat:Opening http://thredds.aodn.org.au/thredds/dodsC/IMOS/Argo/dac/aoml/1900722/profiles/MD1900722_135.nc\n"
     ]
    }
   ],
   "source": [
    "for dac_url in oxyfloat.get_dac_urls(oga_floats):\n",
    "    for profile_url in oxyfloat.get_profile_opendap_urls(dac_url):\n",
    "        print 'Reading data from ...%s', profile_url[40:]\n",
    "        try:\n",
    "            float_data = oxyfloat.get_profile_data(profile_url)\n",
    "        except oxyfloat.RequiredVariableNotPresent as e:\n",
    "            logger.warn(e)\n",
    "        else:\n",
    "            print float_data\n"
   ]
  },
  {
   "cell_type": "markdown",
   "metadata": {},
   "source": [
    "The above cell failed with a chashing of the kernel at the 'ds = Dataset(url)' call.\n",
    "\n",
    "The code below is form the old notebook. Some of it may be folded into oxyfloat functions."
   ]
  },
  {
   "cell_type": "code",
   "execution_count": null,
   "metadata": {
    "collapsed": false,
    "scrolled": true
   },
   "outputs": [],
   "source": [
    "floatLookup = {}\n",
    "for url in urls:\n",
    "    print url\n",
    "    ds = Dataset(url)\n",
    "    floatNum = url.split('/')[9]\n",
    "    print floatNum\n",
    "    p,t,s,o = (ds.variables['PRES_ADJUSTED'][0][0], ds.variables['TEMP_ADJUSTED'][0][0], \n",
    "               ds.variables['PSAL_ADJUSTED'][0][0], ds.variables['DOXY_ADJUSTED'][0][0])\n",
    "    lat,lon,mtime = (ds.variables['LATITUDE'][0], ds.variables['LONGITUDE'][0], ds.variables['JULD'][0])\n",
    "    \n",
    "    # Convert o from micromol/kg to ml/l \n",
    "    ##perc_sat = 100 * convertTomll(o) / satO2(s,t) \n",
    "    print s,t,perc_sat\n",
    "    floatLookup[floatNum] = (p,t,s,o,lat,lon,mtime)"
   ]
  },
  {
   "cell_type": "code",
   "execution_count": null,
   "metadata": {
    "collapsed": false,
    "scrolled": true
   },
   "outputs": [],
   "source": [
    "floatLookup"
   ]
  },
  {
   "cell_type": "code",
   "execution_count": 33,
   "metadata": {
    "collapsed": false
   },
   "outputs": [
    {
     "name": "stdout",
     "output_type": "stream",
     "text": [
      "\n"
     ]
    }
   ],
   "source": [
    "p,t,s,o = (ds.variables['PRES_ADJUSTED'][0][0], ds.variables['TEMP_ADJUSTED'][0][0], ds.variables['PSAL_ADJUSTED'][0][0], ds.variables['DOXY_ADJUSTED'][0][0])"
   ]
  },
  {
   "cell_type": "code",
   "execution_count": 53,
   "metadata": {
    "collapsed": false,
    "scrolled": true
   },
   "outputs": [
    {
     "data": {
      "text/plain": [
       "(4.3000002, 29.790001, 34.827457, 206.49001)"
      ]
     },
     "execution_count": 53,
     "metadata": {},
     "output_type": "execute_result"
    }
   ],
   "source": [
    "p,t,s,o"
   ]
  },
  {
   "cell_type": "code",
   "execution_count": 35,
   "metadata": {
    "collapsed": false
   },
   "outputs": [],
   "source": [
    "lat,lon,mtime = (ds.variables['LATITUDE'][0], ds.variables['LONGITUDE'][0], ds.variables['JULD'][0])"
   ]
  },
  {
   "cell_type": "code",
   "execution_count": 36,
   "metadata": {
    "collapsed": false,
    "scrolled": true
   },
   "outputs": [
    {
     "data": {
      "text/plain": [
       "(6.0310000000000006, -14.026, 21985.069212962964)"
      ]
     },
     "execution_count": 36,
     "metadata": {},
     "output_type": "execute_result"
    }
   ],
   "source": [
    "lat,lon,mtime"
   ]
  },
  {
   "cell_type": "code",
   "execution_count": 118,
   "metadata": {
    "collapsed": false
   },
   "outputs": [
    {
     "ename": "SyntaxError",
     "evalue": "invalid syntax (<ipython-input-118-819d3bb21dd0>, line 5)",
     "output_type": "error",
     "traceback": [
      "\u001b[1;36m  File \u001b[1;32m\"<ipython-input-118-819d3bb21dd0>\"\u001b[1;36m, line \u001b[1;32m5\u001b[0m\n\u001b[1;33m    B =  .808 - (.0085*p)\u001b[0m\n\u001b[1;37m    ^\u001b[0m\n\u001b[1;31mSyntaxError\u001b[0m\u001b[1;31m:\u001b[0m invalid syntax\n"
     ]
    }
   ],
   "source": [
    "#The p here is for depth...maybe\n",
    "#That's why it said the unit was km\n",
    "def dens_formula(p , t , s):\n",
    "    C = (999.83 + (5.053*p) - (.048*(p**2))\n",
    "    B =  .808 - (.0085*p)\n",
    "    a = .0708*((1 + (.351*p)) + .068*(1 - (.0683*p))*t)\n",
    "    y = .003*(1 - (.059*p) - .012*(1 - .064*p)*t)\n",
    "    dens = C + (B*s) - (a*t) - ((y*(35 - s))*t)\n",
    "    return dens"
   ]
  },
  {
   "cell_type": "code",
   "execution_count": 115,
   "metadata": {
    "collapsed": false
   },
   "outputs": [
    {
     "data": {
      "text/plain": [
       "1039.220347679988"
      ]
     },
     "execution_count": 115,
     "metadata": {},
     "output_type": "execute_result"
    }
   ],
   "source": [
    "dens_formula(p , t , s)"
   ]
  },
  {
   "cell_type": "code",
   "execution_count": null,
   "metadata": {
    "collapsed": true
   },
   "outputs": [],
   "source": [
    "def dens_formula(p , t , s):\n",
    "    p = p / 10.0\n",
    "    pw = 999.842594 + ((6.793952 * (10**-abs(2)))*t) - ((9.095290 * (10**-abs(3)))*(t**2)) + ((1.001685 * (10**-abs(4)))*(t**3)) - ((1.120083 * (10**-abs(6)))*(t**4)) + ((6.536332 * (10**-abs(9))*(t**5))        \n",
    "    "
   ]
  }
 ],
 "metadata": {
  "kernelspec": {
   "display_name": "Python 2",
   "language": "python",
   "name": "python2"
  },
  "language_info": {
   "codemirror_mode": {
    "name": "ipython",
    "version": 2
   },
   "file_extension": ".py",
   "mimetype": "text/x-python",
   "name": "python",
   "nbconvert_exporter": "python",
   "pygments_lexer": "ipython2",
   "version": "2.7.9"
  }
 },
 "nbformat": 4,
 "nbformat_minor": 0
}
