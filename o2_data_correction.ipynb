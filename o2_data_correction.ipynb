{
 "cells": [
  {
   "cell_type": "code",
   "execution_count": 5,
   "metadata": {
    "collapsed": true
   },
   "outputs": [],
   "source": [
    "#Saturated Oxygen Data Correction"
   ]
  },
  {
   "cell_type": "code",
   "execution_count": 27,
   "metadata": {
    "collapsed": false
   },
   "outputs": [
    {
     "name": "stdout",
     "output_type": "stream",
     "text": [
      "Populating the interactive namespace from numpy and matplotlib\n"
     ]
    }
   ],
   "source": [
    "#This is to import libraries of different functions that allows the program do what it's doing\n",
    "%pylab inline\n",
    "from netCDF4 import Dataset\n",
    "import pandas as pd\n",
    "from pandas import Series , DataFrame\n",
    "import csv\n",
    "from IPython.core.display import Image\n",
    "import urllib2\n",
    "import StringIO\n",
    "from thredds_crawler.crawl import Crawl\n",
    "import seawater"
   ]
  },
  {
   "cell_type": "code",
   "execution_count": 7,
   "metadata": {
    "collapsed": false
   },
   "outputs": [
    {
     "data": {
      "text/plain": [
       "'3900380,27643,ARGOS,\" \",1510,09/02/2005,11/02/2005,02,2005,-56.47,-58.54,\" \",\" \",,0,0,APEX,\"Turton, Jon\",jon.turton@metoffice.gov.uk,Argo UK,UNITED KINGDOM,0,0,0,0,0,0,0,240,1500,2000,0,0,0,0,0,0,0,0,0,0,0,0,0,0,0,0'"
      ]
     },
     "execution_count": 7,
     "metadata": {},
     "output_type": "execute_result"
    }
   ],
   "source": [
    "data = urllib2.urlopen(\"http://argo.jcommops.org/FTPRoot/Argo/Status/argo_all.txt\").readlines()\n",
    "data[1].replace('\\0' , '').replace('\\xff' , '').replace('\\xfe' , '').replace('\\r\\n' , '')\n",
    "#So this works for a specific row but not the whole thing O.o\n",
    "#Make a loop that runs through all of the rows one by one (since all together doesn't work)"
   ]
  },
  {
   "cell_type": "code",
   "execution_count": 8,
   "metadata": {
    "collapsed": false
   },
   "outputs": [
    {
     "data": {
      "text/plain": [
       "['WMO,TELECOM,TTYPE,MY_ID,SERIAL_NO,DATE0,NOTIF_DATE,MONTH0,YEAR0,LAT0,LON0,SHIP,CRUISE,DATE_,LAT_,LON_,MODEL,FULL_NAME,EMAIL,PROGRAM,COUNTRY,AGE,AGE_WEIGHT,GTS,PROFILES,DMPROFILES,GTSPRESS,GREYLIST,CYCLE_TIME,DRIFT_PRESS,PROFILE_PRESS,OXYGEN,FLUO,TURBIDITY,RAFOS,CDOM,BEAM,BACKSCATT,DOWNWELL,SST,SSS,PAL,OTHER,ICE_DETECT,ACTIVE,BEACHED,RETIRED',\n",
       " '3900380,27643,ARGOS,\" \",1510,09/02/2005,11/02/2005,02,2005,-56.47,-58.54,\" \",\" \",,0,0,APEX,\"Turton, Jon\",jon.turton@metoffice.gov.uk,Argo UK,UNITED KINGDOM,0,0,0,0,0,0,0,240,1500,2000,0,0,0,0,0,0,0,0,0,0,0,0,0,0,0,0',\n",
       " '3900381,27645,ARGOS,\" \",1511,09/02/2005,11/02/2005,02,2005,-58.78,-58.77,\" \",\" \",17/09/2009,-50.7143,33.9768,APEX,\"Turton, Jon\",jon.turton@metoffice.gov.uk,Argo UK,UNITED KINGDOM,1681.1643,0,1,168,168,2003,0,240,1500,2000,0,0,0,0,0,0,0,0,0,0,0,0,0,0,0,0',\n",
       " '3900382,27652,ARGOS,\" \",1512,09/02/2005,11/02/2005,02,2005,-57.49,-58.9,\" \",\" \",,0,0,APEX,\"Turton, Jon\",jon.turton@metoffice.gov.uk,Argo UK,UNITED KINGDOM,0,0,0,0,0,0,0,240,1500,2000,0,0,0,0,0,0,0,0,0,0,0,0,0,0,0,0',\n",
       " '3900399,46233,ARGOS,1201,\" \",07/02/2005,14/02/2005,02,2005,-25.2461,-25.2369,RONALD BROWN,n/a,01/08/2010,-26.0516,-42.4516,SOLO_W,\"Robbins, P. E.\",probbins@whoi.edu,Argo WHOI,UNITED STATES,2001.7359,0,1,201,201,1822,1,240,1000,1000,0,0,0,0,0,0,0,0,0,0,0,0,0,0,0,0']"
      ]
     },
     "execution_count": 8,
     "metadata": {},
     "output_type": "execute_result"
    }
   ],
   "source": [
    "d2 = [d.replace('\\0' , '').replace('\\xff' , '').replace('\\xfe' , '').replace('\\r\\n' , '') for d in data]\n",
    "d2[:5]"
   ]
  },
  {
   "cell_type": "code",
   "execution_count": 9,
   "metadata": {
    "collapsed": false,
    "scrolled": true
   },
   "outputs": [
    {
     "data": {
      "text/html": [
       "<div>\n",
       "<table border=\"1\" class=\"dataframe\">\n",
       "  <thead>\n",
       "    <tr style=\"text-align: right;\">\n",
       "      <th></th>\n",
       "      <th>WMO</th>\n",
       "      <th>TELECOM</th>\n",
       "      <th>TTYPE</th>\n",
       "      <th>MY_ID</th>\n",
       "      <th>SERIAL_NO</th>\n",
       "      <th>DATE0</th>\n",
       "      <th>NOTIF_DATE</th>\n",
       "      <th>MONTH0</th>\n",
       "      <th>YEAR0</th>\n",
       "      <th>LAT0</th>\n",
       "      <th>...</th>\n",
       "      <th>BACKSCATT</th>\n",
       "      <th>DOWNWELL</th>\n",
       "      <th>SST</th>\n",
       "      <th>SSS</th>\n",
       "      <th>PAL</th>\n",
       "      <th>OTHER</th>\n",
       "      <th>ICE_DETECT</th>\n",
       "      <th>ACTIVE</th>\n",
       "      <th>BEACHED</th>\n",
       "      <th>RETIRED</th>\n",
       "    </tr>\n",
       "  </thead>\n",
       "  <tbody>\n",
       "    <tr>\n",
       "      <th>0</th>\n",
       "      <td>3900380</td>\n",
       "      <td>27643</td>\n",
       "      <td>ARGOS</td>\n",
       "      <td></td>\n",
       "      <td>1510</td>\n",
       "      <td>09/02/2005</td>\n",
       "      <td>11/02/2005</td>\n",
       "      <td>2</td>\n",
       "      <td>2005</td>\n",
       "      <td>-56.4700</td>\n",
       "      <td>...</td>\n",
       "      <td>0</td>\n",
       "      <td>0</td>\n",
       "      <td>0</td>\n",
       "      <td>0</td>\n",
       "      <td>0</td>\n",
       "      <td>0</td>\n",
       "      <td>0</td>\n",
       "      <td>0</td>\n",
       "      <td>0</td>\n",
       "      <td>0</td>\n",
       "    </tr>\n",
       "    <tr>\n",
       "      <th>1</th>\n",
       "      <td>3900381</td>\n",
       "      <td>27645</td>\n",
       "      <td>ARGOS</td>\n",
       "      <td></td>\n",
       "      <td>1511</td>\n",
       "      <td>09/02/2005</td>\n",
       "      <td>11/02/2005</td>\n",
       "      <td>2</td>\n",
       "      <td>2005</td>\n",
       "      <td>-58.7800</td>\n",
       "      <td>...</td>\n",
       "      <td>0</td>\n",
       "      <td>0</td>\n",
       "      <td>0</td>\n",
       "      <td>0</td>\n",
       "      <td>0</td>\n",
       "      <td>0</td>\n",
       "      <td>0</td>\n",
       "      <td>0</td>\n",
       "      <td>0</td>\n",
       "      <td>0</td>\n",
       "    </tr>\n",
       "    <tr>\n",
       "      <th>2</th>\n",
       "      <td>3900382</td>\n",
       "      <td>27652</td>\n",
       "      <td>ARGOS</td>\n",
       "      <td></td>\n",
       "      <td>1512</td>\n",
       "      <td>09/02/2005</td>\n",
       "      <td>11/02/2005</td>\n",
       "      <td>2</td>\n",
       "      <td>2005</td>\n",
       "      <td>-57.4900</td>\n",
       "      <td>...</td>\n",
       "      <td>0</td>\n",
       "      <td>0</td>\n",
       "      <td>0</td>\n",
       "      <td>0</td>\n",
       "      <td>0</td>\n",
       "      <td>0</td>\n",
       "      <td>0</td>\n",
       "      <td>0</td>\n",
       "      <td>0</td>\n",
       "      <td>0</td>\n",
       "    </tr>\n",
       "    <tr>\n",
       "      <th>3</th>\n",
       "      <td>3900399</td>\n",
       "      <td>46233</td>\n",
       "      <td>ARGOS</td>\n",
       "      <td>1201</td>\n",
       "      <td></td>\n",
       "      <td>07/02/2005</td>\n",
       "      <td>14/02/2005</td>\n",
       "      <td>2</td>\n",
       "      <td>2005</td>\n",
       "      <td>-25.2461</td>\n",
       "      <td>...</td>\n",
       "      <td>0</td>\n",
       "      <td>0</td>\n",
       "      <td>0</td>\n",
       "      <td>0</td>\n",
       "      <td>0</td>\n",
       "      <td>0</td>\n",
       "      <td>0</td>\n",
       "      <td>0</td>\n",
       "      <td>0</td>\n",
       "      <td>0</td>\n",
       "    </tr>\n",
       "    <tr>\n",
       "      <th>4</th>\n",
       "      <td>3900400</td>\n",
       "      <td>46234</td>\n",
       "      <td>ARGOS</td>\n",
       "      <td>1202</td>\n",
       "      <td></td>\n",
       "      <td>09/02/2005</td>\n",
       "      <td>14/02/2005</td>\n",
       "      <td>2</td>\n",
       "      <td>2005</td>\n",
       "      <td>-22.7369</td>\n",
       "      <td>...</td>\n",
       "      <td>0</td>\n",
       "      <td>0</td>\n",
       "      <td>0</td>\n",
       "      <td>0</td>\n",
       "      <td>0</td>\n",
       "      <td>0</td>\n",
       "      <td>0</td>\n",
       "      <td>0</td>\n",
       "      <td>0</td>\n",
       "      <td>0</td>\n",
       "    </tr>\n",
       "  </tbody>\n",
       "</table>\n",
       "<p>5 rows × 47 columns</p>\n",
       "</div>"
      ],
      "text/plain": [
       "       WMO TELECOM  TTYPE MY_ID SERIAL_NO       DATE0  NOTIF_DATE  MONTH0  \\\n",
       "0  3900380   27643  ARGOS            1510  09/02/2005  11/02/2005       2   \n",
       "1  3900381   27645  ARGOS            1511  09/02/2005  11/02/2005       2   \n",
       "2  3900382   27652  ARGOS            1512  09/02/2005  11/02/2005       2   \n",
       "3  3900399   46233  ARGOS  1201            07/02/2005  14/02/2005       2   \n",
       "4  3900400   46234  ARGOS  1202            09/02/2005  14/02/2005       2   \n",
       "\n",
       "   YEAR0     LAT0   ...    BACKSCATT DOWNWELL SST SSS  PAL  OTHER ICE_DETECT  \\\n",
       "0   2005 -56.4700   ...            0        0   0   0    0      0          0   \n",
       "1   2005 -58.7800   ...            0        0   0   0    0      0          0   \n",
       "2   2005 -57.4900   ...            0        0   0   0    0      0          0   \n",
       "3   2005 -25.2461   ...            0        0   0   0    0      0          0   \n",
       "4   2005 -22.7369   ...            0        0   0   0    0      0          0   \n",
       "\n",
       "  ACTIVE BEACHED RETIRED  \n",
       "0      0       0       0  \n",
       "1      0       0       0  \n",
       "2      0       0       0  \n",
       "3      0       0       0  \n",
       "4      0       0       0  \n",
       "\n",
       "[5 rows x 47 columns]"
      ]
     },
     "execution_count": 9,
     "metadata": {},
     "output_type": "execute_result"
    }
   ],
   "source": [
    "with open('d2.csv', 'w') as f:\n",
    "    for row in d2:\n",
    "        f.write(row + '\\n')\n",
    "\n",
    "df = pd.read_csv('d2.csv')\n",
    "df[:5]"
   ]
  },
  {
   "cell_type": "code",
   "execution_count": 10,
   "metadata": {
    "collapsed": false,
    "scrolled": true
   },
   "outputs": [
    {
     "data": {
      "text/html": [
       "<div>\n",
       "<table border=\"1\" class=\"dataframe\">\n",
       "  <thead>\n",
       "    <tr style=\"text-align: right;\">\n",
       "      <th></th>\n",
       "      <th>WMO</th>\n",
       "      <th>OXYGEN</th>\n",
       "      <th>GREYLIST</th>\n",
       "      <th>AGE</th>\n",
       "      <th>DATE_</th>\n",
       "      <th>LAT_</th>\n",
       "      <th>LON_</th>\n",
       "    </tr>\n",
       "  </thead>\n",
       "  <tbody>\n",
       "    <tr>\n",
       "      <th>0</th>\n",
       "      <td>3900380</td>\n",
       "      <td>0</td>\n",
       "      <td>0</td>\n",
       "      <td>0.0000</td>\n",
       "      <td>NaN</td>\n",
       "      <td>0.0000</td>\n",
       "      <td>0.0000</td>\n",
       "    </tr>\n",
       "    <tr>\n",
       "      <th>1</th>\n",
       "      <td>3900381</td>\n",
       "      <td>0</td>\n",
       "      <td>0</td>\n",
       "      <td>1681.1643</td>\n",
       "      <td>17/09/2009</td>\n",
       "      <td>-50.7143</td>\n",
       "      <td>33.9768</td>\n",
       "    </tr>\n",
       "    <tr>\n",
       "      <th>2</th>\n",
       "      <td>3900382</td>\n",
       "      <td>0</td>\n",
       "      <td>0</td>\n",
       "      <td>0.0000</td>\n",
       "      <td>NaN</td>\n",
       "      <td>0.0000</td>\n",
       "      <td>0.0000</td>\n",
       "    </tr>\n",
       "    <tr>\n",
       "      <th>3</th>\n",
       "      <td>3900399</td>\n",
       "      <td>0</td>\n",
       "      <td>1</td>\n",
       "      <td>2001.7359</td>\n",
       "      <td>01/08/2010</td>\n",
       "      <td>-26.0516</td>\n",
       "      <td>-42.4516</td>\n",
       "    </tr>\n",
       "    <tr>\n",
       "      <th>4</th>\n",
       "      <td>3900400</td>\n",
       "      <td>0</td>\n",
       "      <td>1</td>\n",
       "      <td>1941.0619</td>\n",
       "      <td>04/06/2010</td>\n",
       "      <td>-26.5448</td>\n",
       "      <td>-42.5100</td>\n",
       "    </tr>\n",
       "  </tbody>\n",
       "</table>\n",
       "</div>"
      ],
      "text/plain": [
       "       WMO  OXYGEN  GREYLIST        AGE       DATE_     LAT_     LON_\n",
       "0  3900380       0         0     0.0000         NaN   0.0000   0.0000\n",
       "1  3900381       0         0  1681.1643  17/09/2009 -50.7143  33.9768\n",
       "2  3900382       0         0     0.0000         NaN   0.0000   0.0000\n",
       "3  3900399       0         1  2001.7359  01/08/2010 -26.0516 -42.4516\n",
       "4  3900400       0         1  1941.0619  04/06/2010 -26.5448 -42.5100"
      ]
     },
     "execution_count": 10,
     "metadata": {},
     "output_type": "execute_result"
    }
   ],
   "source": [
    "#This prints out certain columns (of my choosing) with all the rows still present\n",
    "fd_oga = df.loc[: , ['WMO' , 'OXYGEN' , 'GREYLIST' , 'AGE' , 'DATE_' , 'LAT_' , 'LON_'] ] # oga = oxygen, grey list, and age\n",
    "fd_oga[:5]"
   ]
  },
  {
   "cell_type": "code",
   "execution_count": 11,
   "metadata": {
    "collapsed": false,
    "scrolled": true
   },
   "outputs": [
    {
     "data": {
      "text/html": [
       "<div>\n",
       "<table border=\"1\" class=\"dataframe\">\n",
       "  <thead>\n",
       "    <tr style=\"text-align: right;\">\n",
       "      <th></th>\n",
       "      <th>WMO</th>\n",
       "      <th>OXYGEN</th>\n",
       "      <th>GREYLIST</th>\n",
       "      <th>AGE</th>\n",
       "      <th>DATE_</th>\n",
       "      <th>LAT_</th>\n",
       "      <th>LON_</th>\n",
       "    </tr>\n",
       "  </thead>\n",
       "  <tbody>\n",
       "    <tr>\n",
       "      <th>84</th>\n",
       "      <td>5900245</td>\n",
       "      <td>1</td>\n",
       "      <td>0</td>\n",
       "      <td>1097.1958</td>\n",
       "      <td>05/01/2006</td>\n",
       "      <td>-36.2894</td>\n",
       "      <td>165.6669</td>\n",
       "    </tr>\n",
       "    <tr>\n",
       "      <th>196</th>\n",
       "      <td>4900637</td>\n",
       "      <td>1</td>\n",
       "      <td>0</td>\n",
       "      <td>1640.5049</td>\n",
       "      <td>21/08/2009</td>\n",
       "      <td>45.9560</td>\n",
       "      <td>-128.0490</td>\n",
       "    </tr>\n",
       "    <tr>\n",
       "      <th>317</th>\n",
       "      <td>4900497</td>\n",
       "      <td>1</td>\n",
       "      <td>0</td>\n",
       "      <td>1030.1457</td>\n",
       "      <td>26/02/2007</td>\n",
       "      <td>34.7538</td>\n",
       "      <td>-63.6900</td>\n",
       "    </tr>\n",
       "    <tr>\n",
       "      <th>368</th>\n",
       "      <td>2900460</td>\n",
       "      <td>1</td>\n",
       "      <td>0</td>\n",
       "      <td>792.1306</td>\n",
       "      <td>26/04/2007</td>\n",
       "      <td>44.4140</td>\n",
       "      <td>-153.7139</td>\n",
       "    </tr>\n",
       "    <tr>\n",
       "      <th>436</th>\n",
       "      <td>4900651</td>\n",
       "      <td>1</td>\n",
       "      <td>0</td>\n",
       "      <td>1200.1958</td>\n",
       "      <td>12/11/2008</td>\n",
       "      <td>38.4279</td>\n",
       "      <td>-157.9447</td>\n",
       "    </tr>\n",
       "  </tbody>\n",
       "</table>\n",
       "</div>"
      ],
      "text/plain": [
       "         WMO  OXYGEN  GREYLIST        AGE       DATE_     LAT_      LON_\n",
       "84   5900245       1         0  1097.1958  05/01/2006 -36.2894  165.6669\n",
       "196  4900637       1         0  1640.5049  21/08/2009  45.9560 -128.0490\n",
       "317  4900497       1         0  1030.1457  26/02/2007  34.7538  -63.6900\n",
       "368  2900460       1         0   792.1306  26/04/2007  44.4140 -153.7139\n",
       "436  4900651       1         0  1200.1958  12/11/2008  38.4279 -157.9447"
      ]
     },
     "execution_count": 11,
     "metadata": {},
     "output_type": "execute_result"
    }
   ],
   "source": [
    "#This takes the fd_oga table and only shows the rows that have oxygen data\n",
    "fd_oxygen = fd_oga.loc[ fd_oga.loc[: , 'OXYGEN'] == 1 , :]\n",
    "fd_oxygen[:5]"
   ]
  },
  {
   "cell_type": "code",
   "execution_count": 12,
   "metadata": {
    "collapsed": false,
    "scrolled": true
   },
   "outputs": [
    {
     "data": {
      "text/html": [
       "<div>\n",
       "<table border=\"1\" class=\"dataframe\">\n",
       "  <thead>\n",
       "    <tr style=\"text-align: right;\">\n",
       "      <th></th>\n",
       "      <th>WMO</th>\n",
       "      <th>OXYGEN</th>\n",
       "      <th>GREYLIST</th>\n",
       "      <th>AGE</th>\n",
       "      <th>DATE_</th>\n",
       "      <th>LAT_</th>\n",
       "      <th>LON_</th>\n",
       "    </tr>\n",
       "  </thead>\n",
       "  <tbody>\n",
       "    <tr>\n",
       "      <th>0</th>\n",
       "      <td>3900380</td>\n",
       "      <td>0</td>\n",
       "      <td>0</td>\n",
       "      <td>0.0000</td>\n",
       "      <td>NaN</td>\n",
       "      <td>0.0000</td>\n",
       "      <td>0.0000</td>\n",
       "    </tr>\n",
       "    <tr>\n",
       "      <th>1</th>\n",
       "      <td>3900381</td>\n",
       "      <td>0</td>\n",
       "      <td>0</td>\n",
       "      <td>1681.1643</td>\n",
       "      <td>17/09/2009</td>\n",
       "      <td>-50.7143</td>\n",
       "      <td>33.9768</td>\n",
       "    </tr>\n",
       "    <tr>\n",
       "      <th>2</th>\n",
       "      <td>3900382</td>\n",
       "      <td>0</td>\n",
       "      <td>0</td>\n",
       "      <td>0.0000</td>\n",
       "      <td>NaN</td>\n",
       "      <td>0.0000</td>\n",
       "      <td>0.0000</td>\n",
       "    </tr>\n",
       "    <tr>\n",
       "      <th>5</th>\n",
       "      <td>5900339</td>\n",
       "      <td>0</td>\n",
       "      <td>0</td>\n",
       "      <td>2781.0015</td>\n",
       "      <td>23/09/2012</td>\n",
       "      <td>-56.0493</td>\n",
       "      <td>-65.4248</td>\n",
       "    </tr>\n",
       "    <tr>\n",
       "      <th>6</th>\n",
       "      <td>5900346</td>\n",
       "      <td>0</td>\n",
       "      <td>0</td>\n",
       "      <td>3130.1958</td>\n",
       "      <td>08/09/2013</td>\n",
       "      <td>-58.1230</td>\n",
       "      <td>-22.3040</td>\n",
       "    </tr>\n",
       "  </tbody>\n",
       "</table>\n",
       "</div>"
      ],
      "text/plain": [
       "       WMO  OXYGEN  GREYLIST        AGE       DATE_     LAT_     LON_\n",
       "0  3900380       0         0     0.0000         NaN   0.0000   0.0000\n",
       "1  3900381       0         0  1681.1643  17/09/2009 -50.7143  33.9768\n",
       "2  3900382       0         0     0.0000         NaN   0.0000   0.0000\n",
       "5  5900339       0         0  2781.0015  23/09/2012 -56.0493 -65.4248\n",
       "6  5900346       0         0  3130.1958  08/09/2013 -58.1230 -22.3040"
      ]
     },
     "execution_count": 12,
     "metadata": {},
     "output_type": "execute_result"
    }
   ],
   "source": [
    "#This takes the fd_oga table and only shows the rows that aren't grey listed     #gl = grey list\n",
    "fd_gl = fd_oga.loc[ fd_oga.loc[: , 'GREYLIST'] == 0 , :] #gl = grey list\n",
    "fd_gl[:5]"
   ]
  },
  {
   "cell_type": "code",
   "execution_count": 13,
   "metadata": {
    "collapsed": false,
    "scrolled": true
   },
   "outputs": [
    {
     "data": {
      "text/html": [
       "<div>\n",
       "<table border=\"1\" class=\"dataframe\">\n",
       "  <thead>\n",
       "    <tr style=\"text-align: right;\">\n",
       "      <th></th>\n",
       "      <th>WMO</th>\n",
       "      <th>OXYGEN</th>\n",
       "      <th>GREYLIST</th>\n",
       "      <th>AGE</th>\n",
       "      <th>DATE_</th>\n",
       "      <th>LAT_</th>\n",
       "      <th>LON_</th>\n",
       "    </tr>\n",
       "  </thead>\n",
       "  <tbody>\n",
       "    <tr>\n",
       "      <th>1</th>\n",
       "      <td>3900381</td>\n",
       "      <td>0</td>\n",
       "      <td>0</td>\n",
       "      <td>1681.1643</td>\n",
       "      <td>17/09/2009</td>\n",
       "      <td>-50.7143</td>\n",
       "      <td>33.9768</td>\n",
       "    </tr>\n",
       "    <tr>\n",
       "      <th>3</th>\n",
       "      <td>3900399</td>\n",
       "      <td>0</td>\n",
       "      <td>1</td>\n",
       "      <td>2001.7359</td>\n",
       "      <td>01/08/2010</td>\n",
       "      <td>-26.0516</td>\n",
       "      <td>-42.4516</td>\n",
       "    </tr>\n",
       "    <tr>\n",
       "      <th>4</th>\n",
       "      <td>3900400</td>\n",
       "      <td>0</td>\n",
       "      <td>1</td>\n",
       "      <td>1941.0619</td>\n",
       "      <td>04/06/2010</td>\n",
       "      <td>-26.5448</td>\n",
       "      <td>-42.5100</td>\n",
       "    </tr>\n",
       "    <tr>\n",
       "      <th>5</th>\n",
       "      <td>5900339</td>\n",
       "      <td>0</td>\n",
       "      <td>0</td>\n",
       "      <td>2781.0015</td>\n",
       "      <td>23/09/2012</td>\n",
       "      <td>-56.0493</td>\n",
       "      <td>-65.4248</td>\n",
       "    </tr>\n",
       "    <tr>\n",
       "      <th>6</th>\n",
       "      <td>5900346</td>\n",
       "      <td>0</td>\n",
       "      <td>0</td>\n",
       "      <td>3130.1958</td>\n",
       "      <td>08/09/2013</td>\n",
       "      <td>-58.1230</td>\n",
       "      <td>-22.3040</td>\n",
       "    </tr>\n",
       "  </tbody>\n",
       "</table>\n",
       "</div>"
      ],
      "text/plain": [
       "       WMO  OXYGEN  GREYLIST        AGE       DATE_     LAT_     LON_\n",
       "1  3900381       0         0  1681.1643  17/09/2009 -50.7143  33.9768\n",
       "3  3900399       0         1  2001.7359  01/08/2010 -26.0516 -42.4516\n",
       "4  3900400       0         1  1941.0619  04/06/2010 -26.5448 -42.5100\n",
       "5  5900339       0         0  2781.0015  23/09/2012 -56.0493 -65.4248\n",
       "6  5900346       0         0  3130.1958  08/09/2013 -58.1230 -22.3040"
      ]
     },
     "execution_count": 13,
     "metadata": {},
     "output_type": "execute_result"
    }
   ],
   "source": [
    "#This takes the fd_oga table and only shows the rows that are at least 340 days old\n",
    "fd_age = fd_oga.loc[ fd_oga.loc[: , 'AGE'] >= 340. , :]\n",
    "fd_age[:5]"
   ]
  },
  {
   "cell_type": "code",
   "execution_count": 14,
   "metadata": {
    "collapsed": false,
    "scrolled": true
   },
   "outputs": [
    {
     "data": {
      "text/html": [
       "<div>\n",
       "<table border=\"1\" class=\"dataframe\">\n",
       "  <thead>\n",
       "    <tr style=\"text-align: right;\">\n",
       "      <th></th>\n",
       "      <th>WMO</th>\n",
       "      <th>OXYGEN</th>\n",
       "      <th>GREYLIST</th>\n",
       "      <th>AGE</th>\n",
       "      <th>DATE_</th>\n",
       "      <th>LAT_</th>\n",
       "      <th>LON_</th>\n",
       "    </tr>\n",
       "  </thead>\n",
       "  <tbody>\n",
       "    <tr>\n",
       "      <th>0</th>\n",
       "      <td>5900245</td>\n",
       "      <td>1</td>\n",
       "      <td>0</td>\n",
       "      <td>1097.1958</td>\n",
       "      <td>05/01/2006</td>\n",
       "      <td>-36.2894</td>\n",
       "      <td>165.6669</td>\n",
       "    </tr>\n",
       "    <tr>\n",
       "      <th>1</th>\n",
       "      <td>4900637</td>\n",
       "      <td>1</td>\n",
       "      <td>0</td>\n",
       "      <td>1640.5049</td>\n",
       "      <td>21/08/2009</td>\n",
       "      <td>45.9560</td>\n",
       "      <td>-128.0490</td>\n",
       "    </tr>\n",
       "    <tr>\n",
       "      <th>2</th>\n",
       "      <td>4900497</td>\n",
       "      <td>1</td>\n",
       "      <td>0</td>\n",
       "      <td>1030.1457</td>\n",
       "      <td>26/02/2007</td>\n",
       "      <td>34.7538</td>\n",
       "      <td>-63.6900</td>\n",
       "    </tr>\n",
       "    <tr>\n",
       "      <th>3</th>\n",
       "      <td>2900460</td>\n",
       "      <td>1</td>\n",
       "      <td>0</td>\n",
       "      <td>792.1306</td>\n",
       "      <td>26/04/2007</td>\n",
       "      <td>44.4140</td>\n",
       "      <td>-153.7139</td>\n",
       "    </tr>\n",
       "    <tr>\n",
       "      <th>4</th>\n",
       "      <td>4900651</td>\n",
       "      <td>1</td>\n",
       "      <td>0</td>\n",
       "      <td>1200.1958</td>\n",
       "      <td>12/11/2008</td>\n",
       "      <td>38.4279</td>\n",
       "      <td>-157.9447</td>\n",
       "    </tr>\n",
       "  </tbody>\n",
       "</table>\n",
       "</div>"
      ],
      "text/plain": [
       "       WMO  OXYGEN  GREYLIST        AGE       DATE_     LAT_      LON_\n",
       "0  5900245       1         0  1097.1958  05/01/2006 -36.2894  165.6669\n",
       "1  4900637       1         0  1640.5049  21/08/2009  45.9560 -128.0490\n",
       "2  4900497       1         0  1030.1457  26/02/2007  34.7538  -63.6900\n",
       "3  2900460       1         0   792.1306  26/04/2007  44.4140 -153.7139\n",
       "4  4900651       1         0  1200.1958  12/11/2008  38.4279 -157.9447"
      ]
     },
     "execution_count": 14,
     "metadata": {},
     "output_type": "execute_result"
    }
   ],
   "source": [
    "#Merging the fd_oxygen table with the fd_gl table\n",
    "fd_merge_og = pd.merge(fd_oxygen , fd_gl) #og = oxygen and grey list\n",
    "fd_merge_og[:5]"
   ]
  },
  {
   "cell_type": "code",
   "execution_count": 15,
   "metadata": {
    "collapsed": false,
    "scrolled": true
   },
   "outputs": [
    {
     "data": {
      "text/html": [
       "<div>\n",
       "<table border=\"1\" class=\"dataframe\">\n",
       "  <thead>\n",
       "    <tr style=\"text-align: right;\">\n",
       "      <th></th>\n",
       "      <th>WMO</th>\n",
       "      <th>OXYGEN</th>\n",
       "      <th>GREYLIST</th>\n",
       "      <th>AGE</th>\n",
       "      <th>DATE_</th>\n",
       "      <th>LAT_</th>\n",
       "      <th>LON_</th>\n",
       "    </tr>\n",
       "  </thead>\n",
       "  <tbody>\n",
       "    <tr>\n",
       "      <th>0</th>\n",
       "      <td>5900245</td>\n",
       "      <td>1</td>\n",
       "      <td>0</td>\n",
       "      <td>1097.1958</td>\n",
       "      <td>05/01/2006</td>\n",
       "      <td>-36.2894</td>\n",
       "      <td>165.6669</td>\n",
       "    </tr>\n",
       "    <tr>\n",
       "      <th>1</th>\n",
       "      <td>4900637</td>\n",
       "      <td>1</td>\n",
       "      <td>0</td>\n",
       "      <td>1640.5049</td>\n",
       "      <td>21/08/2009</td>\n",
       "      <td>45.9560</td>\n",
       "      <td>-128.0490</td>\n",
       "    </tr>\n",
       "    <tr>\n",
       "      <th>2</th>\n",
       "      <td>4900497</td>\n",
       "      <td>1</td>\n",
       "      <td>0</td>\n",
       "      <td>1030.1457</td>\n",
       "      <td>26/02/2007</td>\n",
       "      <td>34.7538</td>\n",
       "      <td>-63.6900</td>\n",
       "    </tr>\n",
       "    <tr>\n",
       "      <th>3</th>\n",
       "      <td>2900460</td>\n",
       "      <td>1</td>\n",
       "      <td>0</td>\n",
       "      <td>792.1306</td>\n",
       "      <td>26/04/2007</td>\n",
       "      <td>44.4140</td>\n",
       "      <td>-153.7139</td>\n",
       "    </tr>\n",
       "    <tr>\n",
       "      <th>4</th>\n",
       "      <td>4900651</td>\n",
       "      <td>1</td>\n",
       "      <td>0</td>\n",
       "      <td>1200.1958</td>\n",
       "      <td>12/11/2008</td>\n",
       "      <td>38.4279</td>\n",
       "      <td>-157.9447</td>\n",
       "    </tr>\n",
       "  </tbody>\n",
       "</table>\n",
       "</div>"
      ],
      "text/plain": [
       "       WMO  OXYGEN  GREYLIST        AGE       DATE_     LAT_      LON_\n",
       "0  5900245       1         0  1097.1958  05/01/2006 -36.2894  165.6669\n",
       "1  4900637       1         0  1640.5049  21/08/2009  45.9560 -128.0490\n",
       "2  4900497       1         0  1030.1457  26/02/2007  34.7538  -63.6900\n",
       "3  2900460       1         0   792.1306  26/04/2007  44.4140 -153.7139\n",
       "4  4900651       1         0  1200.1958  12/11/2008  38.4279 -157.9447"
      ]
     },
     "execution_count": 15,
     "metadata": {},
     "output_type": "execute_result"
    }
   ],
   "source": [
    "#Later work will go off of this table\n",
    "\n",
    "#FINALLY HAVE ONLY THE DATA I DESIRE\n",
    "#PRAISE HELIX\n",
    "#After all the trial and error (=^.^=)\n",
    "\n",
    "fd_merge_oga = pd.merge(fd_merge_og , fd_age)\n",
    "fd_merge_oga[:5]\n",
    "#Merged the fd_merge_og table with the fd_age table\n",
    "\n",
    "#Inactive -> active = 0"
   ]
  },
  {
   "cell_type": "code",
   "execution_count": 16,
   "metadata": {
    "collapsed": false
   },
   "outputs": [
    {
     "data": {
      "text/plain": [
       "['# Title : Metadata directory file of the Argo Global Data Assembly Center\\n',\n",
       " '# Description : The directory file describes all metadata files of the argo GDAC ftp site.\\n',\n",
       " '# Project : ARGO\\n',\n",
       " '# Format version : 2.0\\n',\n",
       " '# Date of update : 20150727162538\\n',\n",
       " '# FTP root number 1 : ftp://ftp.ifremer.fr/ifremer/argo/dac\\n',\n",
       " '# FTP root number 2 : ftp://usgodae.usgodae.org/pub/outgoing/argo/dac\\n',\n",
       " '# GDAC node : CORIOLIS\\n',\n",
       " 'file,profiler_type,institution,date_update\\n',\n",
       " 'aoml/13857/13857_meta.nc,845,AO,20120521144513\\n']"
      ]
     },
     "execution_count": 16,
     "metadata": {},
     "output_type": "execute_result"
    }
   ],
   "source": [
    "gd = urllib2.urlopen(\"ftp://ftp.ifremer.fr/ifremer/argo/ar_index_global_meta.txt\").readlines()\n",
    "gd[:10]"
   ]
  },
  {
   "cell_type": "code",
   "execution_count": 17,
   "metadata": {
    "collapsed": false,
    "scrolled": true
   },
   "outputs": [
    {
     "data": {
      "text/plain": [
       "['# Title : Metadata directory file of the Argo Global Data Assembly Center\\n',\n",
       " '# Description : The directory file describes all metadata files of the argo GDAC ftp site.\\n',\n",
       " '# Project : ARGO\\n',\n",
       " '# Format version : 2.0\\n',\n",
       " '# Date of update : 20150727162538\\n',\n",
       " '# FTP root number 1 : ftp://ftp.ifremer.fr/ifremer/argo/dac\\n',\n",
       " '# FTP root number 2 : ftp://usgodae.usgodae.org/pub/outgoing/argo/dac\\n',\n",
       " '# GDAC node : CORIOLIS\\n',\n",
       " 'file,profiler_type,institution,date_update\\n',\n",
       " 'aoml/13857/13857_meta.nc,845,AO,20120521144513\\n']"
      ]
     },
     "execution_count": 17,
     "metadata": {},
     "output_type": "execute_result"
    }
   ],
   "source": [
    "#May or may not even need this\n",
    "gd = urllib2.urlopen(\"ftp://ftp.ifremer.fr/ifremer/argo/ar_index_global_meta.txt\").readlines() #gd = global data\n",
    "\n",
    "gd1 = [g.replace('\\0' , '').replace('\\xff' , '').replace('\\xfe' , '').replace('\\r\\n' , '') for g in gd]\n",
    "\n",
    "gd1[:10]\n",
    "#Now to get it so when a user inputs a float number, the DAC of that number shows up"
   ]
  },
  {
   "cell_type": "code",
   "execution_count": 18,
   "metadata": {
    "collapsed": false,
    "scrolled": true
   },
   "outputs": [
    {
     "data": {
      "text/html": [
       "<div>\n",
       "<table border=\"1\" class=\"dataframe\">\n",
       "  <thead>\n",
       "    <tr style=\"text-align: right;\">\n",
       "      <th></th>\n",
       "      <th>file</th>\n",
       "      <th>profiler_type</th>\n",
       "      <th>institution</th>\n",
       "      <th>date_update</th>\n",
       "    </tr>\n",
       "  </thead>\n",
       "  <tbody>\n",
       "    <tr>\n",
       "      <th>0</th>\n",
       "      <td>aoml/13857/13857_meta.nc</td>\n",
       "      <td>845</td>\n",
       "      <td>AO</td>\n",
       "      <td>20120521144513</td>\n",
       "    </tr>\n",
       "    <tr>\n",
       "      <th>1</th>\n",
       "      <td>aoml/13858/13858_meta.nc</td>\n",
       "      <td>845</td>\n",
       "      <td>AO</td>\n",
       "      <td>20130222100319</td>\n",
       "    </tr>\n",
       "    <tr>\n",
       "      <th>2</th>\n",
       "      <td>aoml/13859/13859_meta.nc</td>\n",
       "      <td>845</td>\n",
       "      <td>AO</td>\n",
       "      <td>20120521144513</td>\n",
       "    </tr>\n",
       "    <tr>\n",
       "      <th>3</th>\n",
       "      <td>aoml/15819/15819_meta.nc</td>\n",
       "      <td>845</td>\n",
       "      <td>AO</td>\n",
       "      <td>20120521144513</td>\n",
       "    </tr>\n",
       "    <tr>\n",
       "      <th>4</th>\n",
       "      <td>aoml/15820/15820_meta.nc</td>\n",
       "      <td>845</td>\n",
       "      <td>AO</td>\n",
       "      <td>20120521144513</td>\n",
       "    </tr>\n",
       "  </tbody>\n",
       "</table>\n",
       "</div>"
      ],
      "text/plain": [
       "                       file  profiler_type institution     date_update\n",
       "0  aoml/13857/13857_meta.nc            845          AO  20120521144513\n",
       "1  aoml/13858/13858_meta.nc            845          AO  20130222100319\n",
       "2  aoml/13859/13859_meta.nc            845          AO  20120521144513\n",
       "3  aoml/15819/15819_meta.nc            845          AO  20120521144513\n",
       "4  aoml/15820/15820_meta.nc            845          AO  20120521144513"
      ]
     },
     "execution_count": 18,
     "metadata": {},
     "output_type": "execute_result"
    }
   ],
   "source": [
    "with open('gd1.csv', 'w') as f:\n",
    "    for row in gd1:\n",
    "        f.write(row + '\\n')\n",
    "\n",
    "gd_table = pd.read_csv('gd1.csv' , comment = '#')\n",
    "gd_table[:5]"
   ]
  },
  {
   "cell_type": "code",
   "execution_count": 19,
   "metadata": {
    "collapsed": false,
    "scrolled": true
   },
   "outputs": [
    {
     "data": {
      "text/html": [
       "<div>\n",
       "<table border=\"1\" class=\"dataframe\">\n",
       "  <thead>\n",
       "    <tr style=\"text-align: right;\">\n",
       "      <th></th>\n",
       "      <th>file</th>\n",
       "    </tr>\n",
       "  </thead>\n",
       "  <tbody>\n",
       "    <tr>\n",
       "      <th>0</th>\n",
       "      <td>aoml/13857/13857_meta.nc</td>\n",
       "    </tr>\n",
       "    <tr>\n",
       "      <th>1</th>\n",
       "      <td>aoml/13858/13858_meta.nc</td>\n",
       "    </tr>\n",
       "    <tr>\n",
       "      <th>2</th>\n",
       "      <td>aoml/13859/13859_meta.nc</td>\n",
       "    </tr>\n",
       "    <tr>\n",
       "      <th>3</th>\n",
       "      <td>aoml/15819/15819_meta.nc</td>\n",
       "    </tr>\n",
       "    <tr>\n",
       "      <th>4</th>\n",
       "      <td>aoml/15820/15820_meta.nc</td>\n",
       "    </tr>\n",
       "    <tr>\n",
       "      <th>5</th>\n",
       "      <td>aoml/15851/15851_meta.nc</td>\n",
       "    </tr>\n",
       "    <tr>\n",
       "      <th>6</th>\n",
       "      <td>aoml/15852/15852_meta.nc</td>\n",
       "    </tr>\n",
       "    <tr>\n",
       "      <th>7</th>\n",
       "      <td>aoml/15853/15853_meta.nc</td>\n",
       "    </tr>\n",
       "    <tr>\n",
       "      <th>8</th>\n",
       "      <td>aoml/15854/15854_meta.nc</td>\n",
       "    </tr>\n",
       "    <tr>\n",
       "      <th>9</th>\n",
       "      <td>aoml/15855/15855_meta.nc</td>\n",
       "    </tr>\n",
       "  </tbody>\n",
       "</table>\n",
       "</div>"
      ],
      "text/plain": [
       "                       file\n",
       "0  aoml/13857/13857_meta.nc\n",
       "1  aoml/13858/13858_meta.nc\n",
       "2  aoml/13859/13859_meta.nc\n",
       "3  aoml/15819/15819_meta.nc\n",
       "4  aoml/15820/15820_meta.nc\n",
       "5  aoml/15851/15851_meta.nc\n",
       "6  aoml/15852/15852_meta.nc\n",
       "7  aoml/15853/15853_meta.nc\n",
       "8  aoml/15854/15854_meta.nc\n",
       "9  aoml/15855/15855_meta.nc"
      ]
     },
     "execution_count": 19,
     "metadata": {},
     "output_type": "execute_result"
    }
   ],
   "source": [
    "# Would like to read off Internet\n",
    "gd_table.loc[:,['file']][:10]"
   ]
  },
  {
   "cell_type": "code",
   "execution_count": 20,
   "metadata": {
    "collapsed": false
   },
   "outputs": [
    {
     "name": "stdout",
     "output_type": "stream",
     "text": [
      "12 in bList\n",
      "35 in bList\n"
     ]
    }
   ],
   "source": [
    "bList =[12,35,67,98]\n",
    "for i in range(50):\n",
    "    if i in bList:\n",
    "        print i, \"in bList\""
   ]
  },
  {
   "cell_type": "code",
   "execution_count": 25,
   "metadata": {
    "collapsed": false
   },
   "outputs": [
    {
     "name": "stdout",
     "output_type": "stream",
     "text": [
      "['5900245', '4900637', '4900497', '2900460', '4900651', '4900652', '5900420', '5900421', '5900422', '3900274']\n"
     ]
    }
   ],
   "source": [
    "good_floats = []\n",
    "for index,row in fd_merge_oga.loc[:,['WMO']].iterrows():\n",
    "    good_floats.append(row['WMO'])\n",
    "print good_floats[:10]"
   ]
  },
  {
   "cell_type": "code",
   "execution_count": 24,
   "metadata": {
    "collapsed": false
   },
   "outputs": [
    {
     "ename": "NameError",
     "evalue": "name 'all_floats' is not defined",
     "output_type": "error",
     "traceback": [
      "\u001b[1;31m---------------------------------------------------------------------------\u001b[0m",
      "\u001b[1;31mNameError\u001b[0m                                 Traceback (most recent call last)",
      "\u001b[1;32m<ipython-input-24-28398e9c8015>\u001b[0m in \u001b[0;36m<module>\u001b[1;34m()\u001b[0m\n\u001b[0;32m      2\u001b[0m \u001b[1;32mfor\u001b[0m \u001b[0mindex\u001b[0m\u001b[1;33m,\u001b[0m\u001b[0mrow\u001b[0m \u001b[1;32min\u001b[0m \u001b[0mgd_table\u001b[0m\u001b[1;33m.\u001b[0m\u001b[0mloc\u001b[0m\u001b[1;33m[\u001b[0m\u001b[1;33m:\u001b[0m\u001b[1;33m,\u001b[0m\u001b[1;33m[\u001b[0m\u001b[1;34m'file'\u001b[0m\u001b[1;33m]\u001b[0m\u001b[1;33m]\u001b[0m\u001b[1;33m.\u001b[0m\u001b[0miterrows\u001b[0m\u001b[1;33m(\u001b[0m\u001b[1;33m)\u001b[0m\u001b[1;33m:\u001b[0m\u001b[1;33m\u001b[0m\u001b[0m\n\u001b[0;32m      3\u001b[0m     \u001b[0mfloatNum\u001b[0m \u001b[1;33m=\u001b[0m \u001b[0mrow\u001b[0m\u001b[1;33m[\u001b[0m\u001b[1;34m'file'\u001b[0m\u001b[1;33m]\u001b[0m\u001b[1;33m.\u001b[0m\u001b[0msplit\u001b[0m\u001b[1;33m(\u001b[0m\u001b[1;34m'/'\u001b[0m\u001b[1;33m)\u001b[0m\u001b[1;33m[\u001b[0m\u001b[1;36m1\u001b[0m\u001b[1;33m]\u001b[0m\u001b[1;33m\u001b[0m\u001b[0m\n\u001b[1;32m----> 4\u001b[1;33m     \u001b[0mall_floats\u001b[0m\u001b[1;33m.\u001b[0m\u001b[0mappend\u001b[0m\u001b[1;33m(\u001b[0m\u001b[0mfloatNum\u001b[0m\u001b[1;33m)\u001b[0m\u001b[1;33m\u001b[0m\u001b[0m\n\u001b[0m\u001b[0;32m      5\u001b[0m \u001b[1;33m\u001b[0m\u001b[0m\n\u001b[0;32m      6\u001b[0m     \u001b[1;32mif\u001b[0m \u001b[0mfloatNum\u001b[0m \u001b[1;32min\u001b[0m \u001b[0mgood_floats\u001b[0m\u001b[1;33m:\u001b[0m\u001b[1;33m\u001b[0m\u001b[0m\n",
      "\u001b[1;31mNameError\u001b[0m: name 'all_floats' is not defined"
     ]
    }
   ],
   "source": [
    "dac_substring = []\n",
    "for index,row in gd_table.loc[:,['file']].iterrows():\n",
    "    floatNum = row['file'].split('/')[1]\n",
    "    all_floats.append(floatNum)\n",
    "\n",
    "    if floatNum in good_floats:\n",
    "        dac_substring.append(row['file'])\n",
    "    "
   ]
  },
  {
   "cell_type": "code",
   "execution_count": null,
   "metadata": {
    "collapsed": false
   },
   "outputs": [],
   "source": [
    "print dac_substring[:10]"
   ]
  },
  {
   "cell_type": "code",
   "execution_count": 23,
   "metadata": {
    "collapsed": false
   },
   "outputs": [
    {
     "ename": "NameError",
     "evalue": "name 'dac_substring' is not defined",
     "output_type": "error",
     "traceback": [
      "\u001b[1;31m---------------------------------------------------------------------------\u001b[0m",
      "\u001b[1;31mNameError\u001b[0m                                 Traceback (most recent call last)",
      "\u001b[1;32m<ipython-input-23-ac800907f3c4>\u001b[0m in \u001b[0;36m<module>\u001b[1;34m()\u001b[0m\n\u001b[0;32m      1\u001b[0m \u001b[0mtdsUrl\u001b[0m \u001b[1;33m=\u001b[0m \u001b[1;34m''\u001b[0m\u001b[1;33m\u001b[0m\u001b[0m\n\u001b[1;32m----> 2\u001b[1;33m \u001b[1;32mfor\u001b[0m \u001b[0mdac\u001b[0m \u001b[1;32min\u001b[0m \u001b[0mdac_substring\u001b[0m\u001b[1;33m:\u001b[0m\u001b[1;33m\u001b[0m\u001b[0m\n\u001b[0m\u001b[0;32m      3\u001b[0m     \u001b[0mtdsUrl\u001b[0m \u001b[1;33m+=\u001b[0m \u001b[1;34m\"http://thredds.aodn.org.au/thredds/catalog/IMOS/Argo/dac/\"\u001b[0m\u001b[1;33m\u001b[0m\u001b[0m\n\u001b[0;32m      4\u001b[0m     \u001b[0mtdsUrl\u001b[0m \u001b[1;33m+=\u001b[0m \u001b[1;34m'/'\u001b[0m\u001b[1;33m.\u001b[0m\u001b[0mjoin\u001b[0m\u001b[1;33m(\u001b[0m\u001b[0mdac\u001b[0m\u001b[1;33m.\u001b[0m\u001b[0msplit\u001b[0m\u001b[1;33m(\u001b[0m\u001b[1;34m'/'\u001b[0m\u001b[1;33m)\u001b[0m\u001b[1;33m[\u001b[0m\u001b[1;33m:\u001b[0m\u001b[1;36m2\u001b[0m\u001b[1;33m]\u001b[0m\u001b[1;33m)\u001b[0m\u001b[1;33m\u001b[0m\u001b[0m\n\u001b[0;32m      5\u001b[0m     \u001b[0mtdsUrl\u001b[0m \u001b[1;33m+=\u001b[0m \u001b[1;34m\"/profiles/catalog.xml\"\u001b[0m\u001b[1;33m\u001b[0m\u001b[0m\n",
      "\u001b[1;31mNameError\u001b[0m: name 'dac_substring' is not defined"
     ]
    }
   ],
   "source": [
    "tdsUrl = ''\n",
    "for dac in dac_substring:\n",
    "    tdsUrl += \"http://thredds.aodn.org.au/thredds/catalog/IMOS/Argo/dac/\"\n",
    "    tdsUrl += '/'.join(dac.split('/')[:2])\n",
    "    tdsUrl += \"/profiles/catalog.xml\"\n",
    "    print tdsUrl\n",
    "    break"
   ]
  },
  {
   "cell_type": "code",
   "execution_count": 22,
   "metadata": {
    "collapsed": false,
    "scrolled": true
   },
   "outputs": [],
   "source": [
    "c = Crawl(\"http://thredds.aodn.org.au/thredds/catalog/IMOS/Argo/dac/coriolis/1900650/profiles/catalog.xml\")\n",
    "urls = [s.get(\"url\") for d in c.datasets for s in d.services if s.get(\"service\").lower() == \"opendap\"]"
   ]
  },
  {
   "cell_type": "code",
   "execution_count": null,
   "metadata": {
    "collapsed": true
   },
   "outputs": [],
   "source": [
    "def conv"
   ]
  },
  {
   "cell_type": "code",
   "execution_count": null,
   "metadata": {
    "collapsed": false,
    "scrolled": true
   },
   "outputs": [],
   "source": [
    "floatLookup = {}\n",
    "for url in urls:\n",
    "    print url\n",
    "    ds = Dataset(url)\n",
    "    floatNum = url.split('/')[9]\n",
    "    print floatNum\n",
    "    p,t,s,o = (ds.variables['PRES_ADJUSTED'][0][0], ds.variables['TEMP_ADJUSTED'][0][0], \n",
    "               ds.variables['PSAL_ADJUSTED'][0][0], ds.variables['DOXY_ADJUSTED'][0][0])\n",
    "    lat,lon,mtime = (ds.variables['LATITUDE'][0], ds.variables['LONGITUDE'][0], ds.variables['JULD'][0])\n",
    "    \n",
    "    # Convert o from micromol/kg to ml/l \n",
    "    ##perc_sat = 100 * convertTomll(o) / satO2(s,t) \n",
    "    print s,t,perc_sat\n",
    "    floatLookup[floatNum] = (p,t,s,o,lat,lon,mtime)"
   ]
  },
  {
   "cell_type": "code",
   "execution_count": null,
   "metadata": {
    "collapsed": false,
    "scrolled": true
   },
   "outputs": [],
   "source": [
    "floatLookup"
   ]
  },
  {
   "cell_type": "code",
   "execution_count": null,
   "metadata": {
    "collapsed": false
   },
   "outputs": [],
   "source": [
    "p,t,s,o = (ds.variables['PRES_ADJUSTED'][0][0], ds.variables['TEMP_ADJUSTED'][0][0], ds.variables['PSAL_ADJUSTED'][0][0], ds.variables['DOXY_ADJUSTED'][0][0])"
   ]
  },
  {
   "cell_type": "code",
   "execution_count": null,
   "metadata": {
    "collapsed": false,
    "scrolled": true
   },
   "outputs": [],
   "source": [
    "p,t,s,o"
   ]
  },
  {
   "cell_type": "code",
   "execution_count": 35,
   "metadata": {
    "collapsed": false
   },
   "outputs": [],
   "source": [
    "lat,lon,mtime = (ds.variables['LATITUDE'][0], ds.variables['LONGITUDE'][0], ds.variables['JULD'][0])"
   ]
  },
  {
   "cell_type": "code",
   "execution_count": 36,
   "metadata": {
    "collapsed": false,
    "scrolled": true
   },
   "outputs": [
    {
     "data": {
      "text/plain": [
       "(6.0310000000000006, -14.026, 21985.069212962964)"
      ]
     },
     "execution_count": 36,
     "metadata": {},
     "output_type": "execute_result"
    }
   ],
   "source": [
    "lat,lon,mtime"
   ]
  },
  {
   "cell_type": "code",
   "execution_count": 115,
   "metadata": {
    "collapsed": false
   },
   "outputs": [
    {
     "data": {
      "text/plain": [
       "1039.220347679988"
      ]
     },
     "execution_count": 115,
     "metadata": {},
     "output_type": "execute_result"
    }
   ],
   "source": [
    "dens_formula(p , t , s)"
   ]
  },
  {
   "cell_type": "code",
   "execution_count": 28,
   "metadata": {
    "collapsed": false
   },
   "outputs": [
    {
     "ename": "NameError",
     "evalue": "name 't' is not defined",
     "output_type": "error",
     "traceback": [
      "\u001b[1;31m---------------------------------------------------------------------------\u001b[0m",
      "\u001b[1;31mNameError\u001b[0m                                 Traceback (most recent call last)",
      "\u001b[1;32m<ipython-input-28-47ad0257aa17>\u001b[0m in \u001b[0;36m<module>\u001b[1;34m()\u001b[0m\n\u001b[1;32m----> 1\u001b[1;33m \u001b[0mseawater\u001b[0m\u001b[1;33m.\u001b[0m\u001b[0meos80\u001b[0m\u001b[1;33m.\u001b[0m\u001b[0mdens0\u001b[0m\u001b[1;33m(\u001b[0m\u001b[0ms\u001b[0m\u001b[1;33m,\u001b[0m \u001b[0mt\u001b[0m\u001b[1;33m)\u001b[0m\u001b[1;33m\u001b[0m\u001b[0m\n\u001b[0m",
      "\u001b[1;31mNameError\u001b[0m: name 't' is not defined"
     ]
    }
   ],
   "source": [
    "seawater.eos80.dens0(s, t)"
   ]
  }
 ],
 "metadata": {
  "kernelspec": {
   "display_name": "Python 2",
   "language": "python",
   "name": "python2"
  },
  "language_info": {
   "codemirror_mode": {
    "name": "ipython",
    "version": 2
   },
   "file_extension": ".py",
   "mimetype": "text/x-python",
   "name": "python",
   "nbconvert_exporter": "python",
   "pygments_lexer": "ipython2",
   "version": "2.7.9"
  }
 },
 "nbformat": 4,
 "nbformat_minor": 0
}
