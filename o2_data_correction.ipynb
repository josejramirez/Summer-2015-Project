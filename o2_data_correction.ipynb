{
 "cells": [
  {
   "cell_type": "code",
   "execution_count": 1,
   "metadata": {
    "collapsed": false
   },
   "outputs": [],
   "source": [
    "#Saturated Oxygen Data Correction\n",
    "from oxyfloat import OxyFloat, RequiredVariableNotPresent, OpenDAPServerError\n",
    "\n",
    "of = OxyFloat()"
   ]
  },
  {
   "cell_type": "code",
   "execution_count": 2,
   "metadata": {
    "collapsed": false
   },
   "outputs": [],
   "source": [
    "oga_floats = of.get_oxy_floats()"
   ]
  },
  {
   "cell_type": "code",
   "execution_count": 5,
   "metadata": {
    "collapsed": true
   },
   "outputs": [],
   "source": [
    "# Testing with a float that has data\n",
    "oga_floats = ['1900650']\n",
    "test_file = 'D1900650_137.nc'"
   ]
  },
  {
   "cell_type": "code",
   "execution_count": 6,
   "metadata": {
    "collapsed": false
   },
   "outputs": [
    {
     "name": "stdout",
     "output_type": "stream",
     "text": [
      "Reading data from ...%s IOLIS-ARGO-GDAC-OBS/coriolis/1900650/profiles/D1900650_137.nc\n"
     ]
    }
   ],
   "source": [
    "for dac_url in of.get_dac_urls(oga_floats):\n",
    "    for profile_url in of.get_profile_opendap_urls(dac_url):\n",
    "        if test_file:\n",
    "            if not profile_url.endswith(test_file):\n",
    "                continue\n",
    "        print 'Reading data from ...%s', profile_url[40:]\n",
    "        try:\n",
    "            d = of.get_profile_data(profile_url)\n",
    "        except RequiredVariableNotPresent as e:\n",
    "            print e\n",
    "        except OpenDAPServerError as e:\n",
    "            print e"
   ]
  },
  {
   "cell_type": "code",
   "execution_count": 7,
   "metadata": {
    "collapsed": false
   },
   "outputs": [
    {
     "name": "stdout",
     "output_type": "stream",
     "text": [
      "['lon', 'o', 'p', 's', 't', 'lat', 'dt']\n",
      "SEA PRESSURE (decibar)\n",
      "[  4.30000019   5.9000001    9.10000038  13.90000057  19.5         24.39999962\n",
      "  29.5         34.5         39.59999847  44.59999847]\n",
      "DISSOLVED OXYGEN (micromole/kg)\n",
      "[ 206.49000549  206.38000488  206.30000305  206.8500061   206.86000061\n",
      "  211.50999451  218.30999756  232.38000488  216.80000305  190.08000183]\n"
     ]
    }
   ],
   "source": [
    "# Demonstrate reading the data\n",
    "print d.keys()\n",
    "print d['p'][0]['long_name'] + ' (' + d['p'][0]['units'] + ')'\n",
    "print d['p'][1][:10]\n",
    "print d['o'][0]['long_name'] + ' (' + d['o'][0]['units'] + ')'\n",
    "print d['o'][1][:10]"
   ]
  },
  {
   "cell_type": "markdown",
   "metadata": {},
   "source": [
    "The code below is form the old notebook. Some of it may be folded into oxyfloat functions."
   ]
  },
  {
   "cell_type": "code",
   "execution_count": null,
   "metadata": {
    "collapsed": false,
    "scrolled": true
   },
   "outputs": [],
   "source": [
    "floatLookup = {}\n",
    "for url in urls:\n",
    "    print url\n",
    "    ds = Dataset(url)\n",
    "    floatNum = url.split('/')[9]\n",
    "    print floatNum\n",
    "    p,t,s,o = (ds.variables['PRES_ADJUSTED'][0][0], ds.variables['TEMP_ADJUSTED'][0][0], \n",
    "               ds.variables['PSAL_ADJUSTED'][0][0], ds.variables['DOXY_ADJUSTED'][0][0])\n",
    "    lat,lon,mtime = (ds.variables['LATITUDE'][0], ds.variables['LONGITUDE'][0], ds.variables['JULD'][0])\n",
    "    \n",
    "    # Convert o from micromol/kg to ml/l \n",
    "    ##perc_sat = 100 * convertTomll(o) / satO2(s,t) \n",
    "    print s,t,perc_sat\n",
    "    floatLookup[floatNum] = (p,t,s,o,lat,lon,mtime)"
   ]
  },
  {
   "cell_type": "code",
   "execution_count": null,
   "metadata": {
    "collapsed": false,
    "scrolled": true
   },
   "outputs": [],
   "source": [
    "floatLookup"
   ]
  },
  {
   "cell_type": "code",
   "execution_count": 33,
   "metadata": {
    "collapsed": false
   },
   "outputs": [
    {
     "name": "stdout",
     "output_type": "stream",
     "text": [
      "\n"
     ]
    }
   ],
   "source": [
    "p,t,s,o = (ds.variables['PRES_ADJUSTED'][0][0], ds.variables['TEMP_ADJUSTED'][0][0], ds.variables['PSAL_ADJUSTED'][0][0], ds.variables['DOXY_ADJUSTED'][0][0])"
   ]
  },
  {
   "cell_type": "code",
   "execution_count": 53,
   "metadata": {
    "collapsed": false,
    "scrolled": true
   },
   "outputs": [
    {
     "data": {
      "text/plain": [
       "(4.3000002, 29.790001, 34.827457, 206.49001)"
      ]
     },
     "execution_count": 53,
     "metadata": {},
     "output_type": "execute_result"
    }
   ],
   "source": [
    "p,t,s,o"
   ]
  },
  {
   "cell_type": "code",
   "execution_count": 35,
   "metadata": {
    "collapsed": false
   },
   "outputs": [],
   "source": [
    "lat,lon,mtime = (ds.variables['LATITUDE'][0], ds.variables['LONGITUDE'][0], ds.variables['JULD'][0])"
   ]
  },
  {
   "cell_type": "code",
   "execution_count": 36,
   "metadata": {
    "collapsed": false,
    "scrolled": true
   },
   "outputs": [
    {
     "data": {
      "text/plain": [
       "(6.0310000000000006, -14.026, 21985.069212962964)"
      ]
     },
     "execution_count": 36,
     "metadata": {},
     "output_type": "execute_result"
    }
   ],
   "source": [
    "lat,lon,mtime"
   ]
  },
  {
   "cell_type": "code",
   "execution_count": 118,
   "metadata": {
    "collapsed": false
   },
   "outputs": [
    {
     "ename": "SyntaxError",
     "evalue": "invalid syntax (<ipython-input-118-819d3bb21dd0>, line 5)",
     "output_type": "error",
     "traceback": [
      "\u001b[1;36m  File \u001b[1;32m\"<ipython-input-118-819d3bb21dd0>\"\u001b[1;36m, line \u001b[1;32m5\u001b[0m\n\u001b[1;33m    B =  .808 - (.0085*p)\u001b[0m\n\u001b[1;37m    ^\u001b[0m\n\u001b[1;31mSyntaxError\u001b[0m\u001b[1;31m:\u001b[0m invalid syntax\n"
     ]
    }
   ],
   "source": [
    "#The p here is for depth...maybe\n",
    "#That's why it said the unit was km\n",
    "def dens_formula(p , t , s):\n",
    "    C = (999.83 + (5.053*p) - (.048*(p**2))\n",
    "    B =  .808 - (.0085*p)\n",
    "    a = .0708*((1 + (.351*p)) + .068*(1 - (.0683*p))*t)\n",
    "    y = .003*(1 - (.059*p) - .012*(1 - .064*p)*t)\n",
    "    dens = C + (B*s) - (a*t) - ((y*(35 - s))*t)\n",
    "    return dens"
   ]
  },
  {
   "cell_type": "code",
   "execution_count": 115,
   "metadata": {
    "collapsed": false
   },
   "outputs": [
    {
     "data": {
      "text/plain": [
       "1039.220347679988"
      ]
     },
     "execution_count": 115,
     "metadata": {},
     "output_type": "execute_result"
    }
   ],
   "source": [
    "dens_formula(p , t , s)"
   ]
  },
  {
   "cell_type": "code",
   "execution_count": null,
   "metadata": {
    "collapsed": true
   },
   "outputs": [],
   "source": [
    "def dens_formula(p , t , s):\n",
    "    p = p / 10.0\n",
    "    pw = 999.842594 + ((6.793952 * (10**-abs(2)))*t) - ((9.095290 * (10**-abs(3)))*(t**2)) + ((1.001685 * (10**-abs(4)))*(t**3)) - ((1.120083 * (10**-abs(6)))*(t**4)) + ((6.536332 * (10**-abs(9))*(t**5))        \n",
    "    "
   ]
  }
 ],
 "metadata": {
  "kernelspec": {
   "display_name": "Python 2",
   "language": "python",
   "name": "python2"
  },
  "language_info": {
   "codemirror_mode": {
    "name": "ipython",
    "version": 2
   },
   "file_extension": ".py",
   "mimetype": "text/x-python",
   "name": "python",
   "nbconvert_exporter": "python",
   "pygments_lexer": "ipython2",
   "version": "2.7.9"
  }
 },
 "nbformat": 4,
 "nbformat_minor": 0
}
