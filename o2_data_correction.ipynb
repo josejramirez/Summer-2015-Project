{
 "cells": [
  {
   "cell_type": "code",
   "execution_count": 9,
   "metadata": {
    "collapsed": false
   },
   "outputs": [],
   "source": [
    "#Saturated Oxygen Data Correction\n",
    "from oxyfloat import OxyFloat, RequiredVariableNotPresent, OpenDAPServerError\n",
    "\n",
    "of = OxyFloat()"
   ]
  },
  {
   "cell_type": "code",
   "execution_count": 10,
   "metadata": {
    "collapsed": false
   },
   "outputs": [],
   "source": [
    "oga_floats = of.get_oxy_floats()"
   ]
  },
  {
   "cell_type": "code",
   "execution_count": 11,
   "metadata": {
    "collapsed": true
   },
   "outputs": [],
   "source": [
    "# Testing with a float that has data\n",
    "oga_floats = ['1900650']\n",
    "test_file = 'D1900650_137.nc'"
   ]
  },
  {
   "cell_type": "code",
   "execution_count": 12,
   "metadata": {
    "collapsed": false
   },
   "outputs": [
    {
     "name": "stdout",
     "output_type": "stream",
     "text": [
      "Reading data from ...%s IOLIS-ARGO-GDAC-OBS/coriolis/1900650/profiles/D1900650_137.nc\n"
     ]
    }
   ],
   "source": [
    "for dac_url in of.get_dac_urls(oga_floats):\n",
    "    for profile_url in of.get_profile_opendap_urls(dac_url):\n",
    "        if test_file:\n",
    "            if not profile_url.endswith(test_file):\n",
    "                continue\n",
    "        print 'Reading data from ...%s', profile_url[40:]\n",
    "        try:\n",
    "            d = of.get_profile_data(profile_url)\n",
    "        except RequiredVariableNotPresent as e:\n",
    "            print e\n",
    "        except OpenDAPServerError as e:\n",
    "            print e"
   ]
  },
  {
   "cell_type": "code",
   "execution_count": 13,
   "metadata": {
    "collapsed": false
   },
   "outputs": [
    {
     "name": "stdout",
     "output_type": "stream",
     "text": [
      "['lon', 'o', 'p', 's', 't', 'lat', 'dt']\n",
      "SEA PRESSURE (decibar)\n",
      "[  4.30000019   5.9000001    9.10000038  13.90000057  19.5         24.39999962\n",
      "  29.5         34.5         39.59999847  44.59999847]\n",
      "DISSOLVED OXYGEN (micromole/kg)\n",
      "[ 206.49000549  206.38000488  206.30000305  206.8500061   206.86000061\n",
      "  211.50999451  218.30999756  232.38000488  216.80000305  190.08000183]\n"
     ]
    }
   ],
   "source": [
    "# Demonstrate reading the data\n",
    "print d.keys()\n",
    "print d['p'][0]['long_name'] + ' (' + d['p'][0]['units'] + ')'\n",
    "print d['p'][1][:10]\n",
    "print d['o'][0]['long_name'] + ' (' + d['o'][0]['units'] + ')'\n",
    "print d['o'][1][:10]"
   ]
  },
  {
   "cell_type": "code",
   "execution_count": 17,
   "metadata": {
    "collapsed": false
   },
   "outputs": [
    {
     "data": {
      "text/plain": [
       "<matplotlib.text.Text at 0xb4dd898>"
      ]
     },
     "execution_count": 17,
     "metadata": {},
     "output_type": "execute_result"
    },
    {
     "data": {
      "image/png": "[encoded data removed]",
      "text/plain": [
       "<matplotlib.figure.Figure at 0xcc57358>"
      ]
     },
     "metadata": {},
     "output_type": "display_data"
    }
   ],
   "source": [
    "plot(d['o'][1][:10] , d['p'][1][:10] , 'o')\n",
    "title('OXY_ADJUSTED VS. PRES_ADJUSTED')\n",
    "xlabel('DOXY_ADJUSTED in umol/kg')\n",
    "ylabel('PRES_ADJUSTED in decibars')"
   ]
  },
  {
   "cell_type": "markdown",
   "metadata": {},
   "source": [
    "The code below is form the old notebook. Some of it may be folded into oxyfloat functions."
   ]
  },
  {
   "cell_type": "code",
   "execution_count": null,
   "metadata": {
    "collapsed": false,
    "scrolled": true
   },
   "outputs": [],
   "source": [
    "floatLookup = {}\n",
    "for url in urls:\n",
    "    print url\n",
    "    ds = Dataset(url)\n",
    "    floatNum = url.split('/')[9]\n",
    "    print floatNum\n",
    "    p,t,s,o = (ds.variables['PRES_ADJUSTED'][0][0], ds.variables['TEMP_ADJUSTED'][0][0], \n",
    "               ds.variables['PSAL_ADJUSTED'][0][0], ds.variables['DOXY_ADJUSTED'][0][0])\n",
    "    lat,lon,mtime = (ds.variables['LATITUDE'][0], ds.variables['LONGITUDE'][0], ds.variables['JULD'][0])\n",
    "    \n",
    "    # Convert o from micromol/kg to ml/l \n",
    "    ##perc_sat = 100 * convertTomll(o) / satO2(s,t) \n",
    "    print s,t,perc_sat\n",
    "    floatLookup[floatNum] = (p,t,s,o,lat,lon,mtime)"
   ]
  },
  {
   "cell_type": "code",
   "execution_count": null,
   "metadata": {
    "collapsed": false,
    "scrolled": true
   },
   "outputs": [],
   "source": [
    "floatLookup"
   ]
  },
  {
   "cell_type": "code",
   "execution_count": null,
   "metadata": {
    "collapsed": false
   },
   "outputs": [],
   "source": [
    "p,t,s,o = (ds.variables['PRES_ADJUSTED'][0][0], ds.variables['TEMP_ADJUSTED'][0][0], ds.variables['PSAL_ADJUSTED'][0][0], ds.variables['DOXY_ADJUSTED'][0][0])"
   ]
  },
  {
   "cell_type": "code",
   "execution_count": null,
   "metadata": {
    "collapsed": false,
    "scrolled": true
   },
   "outputs": [],
   "source": [
    "p,t,s,o"
   ]
  },
  {
   "cell_type": "code",
   "execution_count": null,
   "metadata": {
    "collapsed": false
   },
   "outputs": [],
   "source": [
    "lat,lon,mtime = (ds.variables['LATITUDE'][0], ds.variables['LONGITUDE'][0], ds.variables['JULD'][0])"
   ]
  },
  {
   "cell_type": "code",
   "execution_count": null,
   "metadata": {
    "collapsed": false,
    "scrolled": true
   },
   "outputs": [],
   "source": [
    "lat,lon,mtime"
   ]
  },
  {
   "cell_type": "code",
   "execution_count": null,
   "metadata": {
    "collapsed": true
   },
   "outputs": [],
   "source": [
    "oxygen arange(0. , 651. , 350.) #In umol/kg"
   ]
  },
  {
   "cell_type": "markdown",
   "metadata": {},
   "source": [
    " "
   ]
  },
  {
   "cell_type": "markdown",
   "metadata": {},
   "source": [
    " "
   ]
  },
  {
   "cell_type": "code",
   "execution_count": 2,
   "metadata": {
    "collapsed": false
   },
   "outputs": [
    {
     "name": "stdout",
     "output_type": "stream",
     "text": [
      "Populating the interactive namespace from numpy and matplotlib\n"
     ]
    }
   ],
   "source": [
    "%pylab inline"
   ]
  },
  {
   "cell_type": "code",
   "execution_count": 3,
   "metadata": {
    "collapsed": false
   },
   "outputs": [],
   "source": [
    "oxygen = arange(0. , 651. , 50.) #In umol/kg\n",
    "pressure = arange(0. , 13001. , 1000.) #In decibars"
   ]
  },
  {
   "cell_type": "code",
   "execution_count": 4,
   "metadata": {
    "collapsed": false
   },
   "outputs": [
    {
     "data": {
      "text/plain": [
       "array([   0.,   50.,  100.,  150.,  200.,  250.,  300.,  350.,  400.,\n",
       "        450.,  500.,  550.,  600.,  650.])"
      ]
     },
     "execution_count": 4,
     "metadata": {},
     "output_type": "execute_result"
    }
   ],
   "source": [
    "oxygen"
   ]
  },
  {
   "cell_type": "code",
   "execution_count": 5,
   "metadata": {
    "collapsed": false
   },
   "outputs": [
    {
     "data": {
      "text/plain": [
       "array([     0.,   1000.,   2000.,   3000.,   4000.,   5000.,   6000.,\n",
       "         7000.,   8000.,   9000.,  10000.,  11000.,  12000.,  13000.])"
      ]
     },
     "execution_count": 5,
     "metadata": {},
     "output_type": "execute_result"
    }
   ],
   "source": [
    "pressure"
   ]
  },
  {
   "cell_type": "code",
   "execution_count": 6,
   "metadata": {
    "collapsed": false
   },
   "outputs": [
    {
     "data": {
      "text/plain": [
       "<matplotlib.text.Text at 0x9968fd0>"
      ]
     },
     "execution_count": 6,
     "metadata": {},
     "output_type": "execute_result"
    },
    {
     "data": {
      "image/png": "[encoded data removed]",
      "text/plain": [
       "<matplotlib.figure.Figure at 0x98d6588>"
      ]
     },
     "metadata": {},
     "output_type": "display_data"
    }
   ],
   "source": [
    "plot(oxygen , pressure , 'o')\n",
    "title('OXY_ADJUSTED VS. PRES_ADJUSTED')\n",
    "xlabel('DOXY_ADJUSTED in umol/kg')\n",
    "ylabel('PRES_ADJUSTED in decibars')"
   ]
  },
  {
   "cell_type": "code",
   "execution_count": 7,
   "metadata": {
    "collapsed": true
   },
   "outputs": [],
   "source": [
    "oxy = array([650. , 532.1 , 420.9 , 357.43 , 231.2 , 101.1 , 85.4])\n",
    "\n",
    "\n",
    "pres = array([12000. , 8943.32 , 5421.8 , 4932.7 , 3547.19 , 2017.69 , 958.3])"
   ]
  },
  {
   "cell_type": "code",
   "execution_count": 8,
   "metadata": {
    "collapsed": false
   },
   "outputs": [
    {
     "data": {
      "text/plain": [
       "<matplotlib.text.Text at 0x9972c88>"
      ]
     },
     "execution_count": 8,
     "metadata": {},
     "output_type": "execute_result"
    },
    {
     "data": {
      "image/png": "[encoded data removed]",
      "text/plain": [
       "<matplotlib.figure.Figure at 0x9b234e0>"
      ]
     },
     "metadata": {},
     "output_type": "display_data"
    }
   ],
   "source": [
    "plot(oxy , pres , 'o')\n",
    "title('OXY_ADJUSTED VS. PRES_ADJUSTED')\n",
    "xlabel('DOXY_ADJUSTED in umol/kg')\n",
    "ylabel('PRES_ADJUSTED in decibars')"
   ]
  },
  {
   "cell_type": "code",
   "execution_count": null,
   "metadata": {
    "collapsed": true
   },
   "outputs": [],
   "source": []
  }
 ],
 "metadata": {
  "kernelspec": {
   "display_name": "Python 2",
   "language": "python",
   "name": "python2"
  },
  "language_info": {
   "codemirror_mode": {
    "name": "ipython",
    "version": 2
   },
   "file_extension": ".py",
   "mimetype": "text/x-python",
   "name": "python",
   "nbconvert_exporter": "python",
   "pygments_lexer": "ipython2",
   "version": "2.7.9"
  }
 },
 "nbformat": 4,
 "nbformat_minor": 0
}
