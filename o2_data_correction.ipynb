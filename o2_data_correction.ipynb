{
 "cells": [
  {
   "cell_type": "code",
   "execution_count": 1,
   "metadata": {
    "collapsed": true
   },
   "outputs": [],
   "source": [
    "#Saturated Oxygen Data Correction"
   ]
  },
  {
   "cell_type": "code",
   "execution_count": 49,
   "metadata": {
    "collapsed": false
   },
   "outputs": [
    {
     "ename": "NameError",
     "evalue": "global name 'urllib2' is not defined",
     "output_type": "error",
     "traceback": [
      "\u001b[1;31m---------------------------------------------------------------------------\u001b[0m",
      "\u001b[1;31mNameError\u001b[0m                                 Traceback (most recent call last)",
      "\u001b[1;32m<ipython-input-49-5a1e3aeea32d>\u001b[0m in \u001b[0;36m<module>\u001b[1;34m()\u001b[0m\n\u001b[0;32m      1\u001b[0m \u001b[1;32mfrom\u001b[0m \u001b[0moxyfloat\u001b[0m \u001b[1;32mimport\u001b[0m \u001b[1;33m*\u001b[0m\u001b[1;33m\u001b[0m\u001b[0m\n\u001b[0;32m      2\u001b[0m \u001b[1;33m\u001b[0m\u001b[0m\n\u001b[1;32m----> 3\u001b[1;33m \u001b[1;32mprint\u001b[0m \u001b[0mget_oxy_floats\u001b[0m\u001b[1;33m(\u001b[0m\u001b[1;33m)\u001b[0m\u001b[1;33m\u001b[0m\u001b[0m\n\u001b[0m",
      "\u001b[1;32m/home/mccann/dev/Summer-2015-Project/oxyfloat/__init__.py\u001b[0m in \u001b[0;36mget_oxy_floats\u001b[1;34m(age)\u001b[0m\n\u001b[0;32m      6\u001b[0m \u001b[1;32mfrom\u001b[0m \u001b[0mnetCDF4\u001b[0m \u001b[1;32mimport\u001b[0m \u001b[0mDataset\u001b[0m\u001b[1;33m\u001b[0m\u001b[0m\n\u001b[0;32m      7\u001b[0m \u001b[1;32mfrom\u001b[0m \u001b[0mthredds_crawler\u001b[0m\u001b[1;33m.\u001b[0m\u001b[0mcrawl\u001b[0m \u001b[1;32mimport\u001b[0m \u001b[0mCrawl\u001b[0m\u001b[1;33m\u001b[0m\u001b[0m\n\u001b[1;32m----> 8\u001b[1;33m \u001b[1;33m\u001b[0m\u001b[0m\n\u001b[0m\u001b[0;32m      9\u001b[0m \u001b[1;33m\u001b[0m\u001b[0m\n\u001b[0;32m     10\u001b[0m \u001b[1;32mdef\u001b[0m \u001b[0mget_oxy_floats\u001b[0m\u001b[1;33m(\u001b[0m\u001b[0mage\u001b[0m\u001b[1;33m=\u001b[0m\u001b[1;36m340\u001b[0m\u001b[1;33m)\u001b[0m\u001b[1;33m:\u001b[0m\u001b[1;33m\u001b[0m\u001b[0m\n",
      "\u001b[1;31mNameError\u001b[0m: global name 'urllib2' is not defined"
     ]
    }
   ],
   "source": [
    "from oxyfloat import *\n",
    "\n",
    "print get_oxy_floats()"
   ]
  },
  {
   "cell_type": "code",
   "execution_count": 36,
   "metadata": {
    "collapsed": false
   },
   "outputs": [
    {
     "name": "stdout",
     "output_type": "stream",
     "text": [
      "Populating the interactive namespace from numpy and matplotlib\n"
     ]
    }
   ],
   "source": [
    "#This is to import libraries of different functions that allows the program do what it's doing\n",
    "%pylab inline\n",
    "from netCDF4 import Dataset\n",
    "import pandas as pd\n",
    "from pandas import Series , DataFrame\n",
    "import csv\n",
    "from IPython.core.display import Image\n",
    "import urllib2\n",
    "import StringIO\n",
    "from thredds_crawler.crawl import Crawl\n",
    "from seawater.extras import satO2\n",
    "import time"
   ]
  },
  {
   "cell_type": "code",
   "execution_count": 35,
   "metadata": {
    "collapsed": false
   },
   "outputs": [
    {
     "data": {
      "text/plain": [
       "'6900877,99731,ARGOS,5058,5058,29/06/2014,17/04/2014,06,2014,57.5161,-21.8886,POSEIDON,P741,26/07/2015,59.7852,-22.6254,APEX,\"Giese, Holger\",holger.giese@bsh.de,Argo BSH,GERMANY,391.3461,0.86,1,79,0,0,0,120,1000,1200,1,0,0,0,0,0,0,0,0,0,0,0,0,1,0,0'"
      ]
     },
     "execution_count": 35,
     "metadata": {},
     "output_type": "execute_result"
    }
   ],
   "source": [
    "data = urllib2.urlopen(\"http://argo.jcommops.org/FTPRoot/Argo/Status/argo_all.txt\").readlines()\n",
    "data[1].replace('\\0' , '').replace('\\xff' , '').replace('\\xfe' , '').replace('\\r\\n' , '')\n",
    "#So this works for a specific row but not the whole thing O.o\n",
    "#Make a loop that runs through all of the rows one by one (since all together doesn't work)"
   ]
  },
  {
   "cell_type": "code",
   "execution_count": 3,
   "metadata": {
    "collapsed": false
   },
   "outputs": [
    {
     "data": {
      "text/plain": [
       "['WMO,TELECOM,TTYPE,MY_ID,SERIAL_NO,DATE0,NOTIF_DATE,MONTH0,YEAR0,LAT0,LON0,SHIP,CRUISE,DATE_,LAT_,LON_,MODEL,FULL_NAME,EMAIL,PROGRAM,COUNTRY,AGE,AGE_WEIGHT,GTS,PROFILES,DMPROFILES,GTSPRESS,GREYLIST,CYCLE_TIME,DRIFT_PRESS,PROFILE_PRESS,OXYGEN,FLUO,TURBIDITY,RAFOS,CDOM,BEAM,BACKSCATT,DOWNWELL,SST,SSS,PAL,OTHER,ICE_DETECT,ACTIVE,BEACHED,RETIRED',\n",
       " '3900380,27643,ARGOS,\" \",1510,09/02/2005,11/02/2005,02,2005,-56.47,-58.54,\" \",\" \",,0,0,APEX,\"Turton, Jon\",jon.turton@metoffice.gov.uk,Argo UK,UNITED KINGDOM,0,0,0,0,0,0,0,240,1500,2000,0,0,0,0,0,0,0,0,0,0,0,0,0,0,0,0',\n",
       " '3900381,27645,ARGOS,\" \",1511,09/02/2005,11/02/2005,02,2005,-58.78,-58.77,\" \",\" \",17/09/2009,-50.7143,33.9768,APEX,\"Turton, Jon\",jon.turton@metoffice.gov.uk,Argo UK,UNITED KINGDOM,1681.1643,0,1,168,168,2003,0,240,1500,2000,0,0,0,0,0,0,0,0,0,0,0,0,0,0,0,0',\n",
       " '3900382,27652,ARGOS,\" \",1512,09/02/2005,11/02/2005,02,2005,-57.49,-58.9,\" \",\" \",,0,0,APEX,\"Turton, Jon\",jon.turton@metoffice.gov.uk,Argo UK,UNITED KINGDOM,0,0,0,0,0,0,0,240,1500,2000,0,0,0,0,0,0,0,0,0,0,0,0,0,0,0,0',\n",
       " '3900399,46233,ARGOS,1201,\" \",07/02/2005,14/02/2005,02,2005,-25.2461,-25.2369,RONALD BROWN,n/a,01/08/2010,-26.0516,-42.4516,SOLO_W,\"Robbins, P. E.\",probbins@whoi.edu,Argo WHOI,UNITED STATES,2001.7359,0,1,201,201,1822,1,240,1000,1000,0,0,0,0,0,0,0,0,0,0,0,0,0,0,0,0']"
      ]
     },
     "execution_count": 3,
     "metadata": {},
     "output_type": "execute_result"
    }
   ],
   "source": [
    "d2 = [d.replace('\\0' , '').replace('\\xff' , '').replace('\\xfe' , '').replace('\\r\\n' , '') for d in data]\n",
    "d2[:5]"
   ]
  },
  {
   "cell_type": "code",
   "execution_count": 4,
   "metadata": {
    "collapsed": false
   },
   "outputs": [
    {
     "data": {
      "text/plain": [
       "pandas.core.frame.DataFrame"
      ]
     },
     "execution_count": 4,
     "metadata": {},
     "output_type": "execute_result"
    }
   ],
   "source": [
    "#Latest attempt\n",
    "df = pd.DataFrame(d2)\n",
    "type(df)"
   ]
  },
  {
   "cell_type": "code",
   "execution_count": 5,
   "metadata": {
    "collapsed": false,
    "scrolled": true
   },
   "outputs": [
    {
     "data": {
      "text/html": [
       "<div>\n",
       "<table border=\"1\" class=\"dataframe\">\n",
       "  <thead>\n",
       "    <tr style=\"text-align: right;\">\n",
       "      <th></th>\n",
       "      <th>WMO</th>\n",
       "      <th>TELECOM</th>\n",
       "      <th>TTYPE</th>\n",
       "      <th>MY_ID</th>\n",
       "      <th>SERIAL_NO</th>\n",
       "      <th>DATE0</th>\n",
       "      <th>NOTIF_DATE</th>\n",
       "      <th>MONTH0</th>\n",
       "      <th>YEAR0</th>\n",
       "      <th>LAT0</th>\n",
       "      <th>...</th>\n",
       "      <th>BACKSCATT</th>\n",
       "      <th>DOWNWELL</th>\n",
       "      <th>SST</th>\n",
       "      <th>SSS</th>\n",
       "      <th>PAL</th>\n",
       "      <th>OTHER</th>\n",
       "      <th>ICE_DETECT</th>\n",
       "      <th>ACTIVE</th>\n",
       "      <th>BEACHED</th>\n",
       "      <th>RETIRED</th>\n",
       "    </tr>\n",
       "  </thead>\n",
       "  <tbody>\n",
       "    <tr>\n",
       "      <th>0</th>\n",
       "      <td>3900380</td>\n",
       "      <td>27643</td>\n",
       "      <td>ARGOS</td>\n",
       "      <td></td>\n",
       "      <td>1510</td>\n",
       "      <td>09/02/2005</td>\n",
       "      <td>11/02/2005</td>\n",
       "      <td>2</td>\n",
       "      <td>2005</td>\n",
       "      <td>-56.4700</td>\n",
       "      <td>...</td>\n",
       "      <td>0</td>\n",
       "      <td>0</td>\n",
       "      <td>0</td>\n",
       "      <td>0</td>\n",
       "      <td>0</td>\n",
       "      <td>0</td>\n",
       "      <td>0</td>\n",
       "      <td>0</td>\n",
       "      <td>0</td>\n",
       "      <td>0</td>\n",
       "    </tr>\n",
       "    <tr>\n",
       "      <th>1</th>\n",
       "      <td>3900381</td>\n",
       "      <td>27645</td>\n",
       "      <td>ARGOS</td>\n",
       "      <td></td>\n",
       "      <td>1511</td>\n",
       "      <td>09/02/2005</td>\n",
       "      <td>11/02/2005</td>\n",
       "      <td>2</td>\n",
       "      <td>2005</td>\n",
       "      <td>-58.7800</td>\n",
       "      <td>...</td>\n",
       "      <td>0</td>\n",
       "      <td>0</td>\n",
       "      <td>0</td>\n",
       "      <td>0</td>\n",
       "      <td>0</td>\n",
       "      <td>0</td>\n",
       "      <td>0</td>\n",
       "      <td>0</td>\n",
       "      <td>0</td>\n",
       "      <td>0</td>\n",
       "    </tr>\n",
       "    <tr>\n",
       "      <th>2</th>\n",
       "      <td>3900382</td>\n",
       "      <td>27652</td>\n",
       "      <td>ARGOS</td>\n",
       "      <td></td>\n",
       "      <td>1512</td>\n",
       "      <td>09/02/2005</td>\n",
       "      <td>11/02/2005</td>\n",
       "      <td>2</td>\n",
       "      <td>2005</td>\n",
       "      <td>-57.4900</td>\n",
       "      <td>...</td>\n",
       "      <td>0</td>\n",
       "      <td>0</td>\n",
       "      <td>0</td>\n",
       "      <td>0</td>\n",
       "      <td>0</td>\n",
       "      <td>0</td>\n",
       "      <td>0</td>\n",
       "      <td>0</td>\n",
       "      <td>0</td>\n",
       "      <td>0</td>\n",
       "    </tr>\n",
       "    <tr>\n",
       "      <th>3</th>\n",
       "      <td>3900399</td>\n",
       "      <td>46233</td>\n",
       "      <td>ARGOS</td>\n",
       "      <td>1201</td>\n",
       "      <td></td>\n",
       "      <td>07/02/2005</td>\n",
       "      <td>14/02/2005</td>\n",
       "      <td>2</td>\n",
       "      <td>2005</td>\n",
       "      <td>-25.2461</td>\n",
       "      <td>...</td>\n",
       "      <td>0</td>\n",
       "      <td>0</td>\n",
       "      <td>0</td>\n",
       "      <td>0</td>\n",
       "      <td>0</td>\n",
       "      <td>0</td>\n",
       "      <td>0</td>\n",
       "      <td>0</td>\n",
       "      <td>0</td>\n",
       "      <td>0</td>\n",
       "    </tr>\n",
       "    <tr>\n",
       "      <th>4</th>\n",
       "      <td>3900400</td>\n",
       "      <td>46234</td>\n",
       "      <td>ARGOS</td>\n",
       "      <td>1202</td>\n",
       "      <td></td>\n",
       "      <td>09/02/2005</td>\n",
       "      <td>14/02/2005</td>\n",
       "      <td>2</td>\n",
       "      <td>2005</td>\n",
       "      <td>-22.7369</td>\n",
       "      <td>...</td>\n",
       "      <td>0</td>\n",
       "      <td>0</td>\n",
       "      <td>0</td>\n",
       "      <td>0</td>\n",
       "      <td>0</td>\n",
       "      <td>0</td>\n",
       "      <td>0</td>\n",
       "      <td>0</td>\n",
       "      <td>0</td>\n",
       "      <td>0</td>\n",
       "    </tr>\n",
       "  </tbody>\n",
       "</table>\n",
       "<p>5 rows × 47 columns</p>\n",
       "</div>"
      ],
      "text/plain": [
       "       WMO TELECOM  TTYPE MY_ID SERIAL_NO       DATE0  NOTIF_DATE  MONTH0  \\\n",
       "0  3900380   27643  ARGOS            1510  09/02/2005  11/02/2005       2   \n",
       "1  3900381   27645  ARGOS            1511  09/02/2005  11/02/2005       2   \n",
       "2  3900382   27652  ARGOS            1512  09/02/2005  11/02/2005       2   \n",
       "3  3900399   46233  ARGOS  1201            07/02/2005  14/02/2005       2   \n",
       "4  3900400   46234  ARGOS  1202            09/02/2005  14/02/2005       2   \n",
       "\n",
       "   YEAR0     LAT0   ...    BACKSCATT DOWNWELL SST SSS  PAL  OTHER ICE_DETECT  \\\n",
       "0   2005 -56.4700   ...            0        0   0   0    0      0          0   \n",
       "1   2005 -58.7800   ...            0        0   0   0    0      0          0   \n",
       "2   2005 -57.4900   ...            0        0   0   0    0      0          0   \n",
       "3   2005 -25.2461   ...            0        0   0   0    0      0          0   \n",
       "4   2005 -22.7369   ...            0        0   0   0    0      0          0   \n",
       "\n",
       "  ACTIVE BEACHED RETIRED  \n",
       "0      0       0       0  \n",
       "1      0       0       0  \n",
       "2      0       0       0  \n",
       "3      0       0       0  \n",
       "4      0       0       0  \n",
       "\n",
       "[5 rows x 47 columns]"
      ]
     },
     "execution_count": 5,
     "metadata": {},
     "output_type": "execute_result"
    }
   ],
   "source": [
    "with open('d2.csv', 'w') as f:\n",
    "    for row in d2:\n",
    "        f.write(row + '\\n')\n",
    "\n",
    "df = pd.read_csv('d2.csv')\n",
    "df[:5]"
   ]
  },
  {
   "cell_type": "code",
   "execution_count": 6,
   "metadata": {
    "collapsed": false,
    "scrolled": true
   },
   "outputs": [
    {
     "data": {
      "text/html": [
       "<div>\n",
       "<table border=\"1\" class=\"dataframe\">\n",
       "  <thead>\n",
       "    <tr style=\"text-align: right;\">\n",
       "      <th></th>\n",
       "      <th>WMO</th>\n",
       "      <th>OXYGEN</th>\n",
       "      <th>GREYLIST</th>\n",
       "      <th>AGE</th>\n",
       "      <th>DATE_</th>\n",
       "      <th>LAT_</th>\n",
       "      <th>LON_</th>\n",
       "    </tr>\n",
       "  </thead>\n",
       "  <tbody>\n",
       "    <tr>\n",
       "      <th>0</th>\n",
       "      <td>3900380</td>\n",
       "      <td>0</td>\n",
       "      <td>0</td>\n",
       "      <td>0.0000</td>\n",
       "      <td>NaN</td>\n",
       "      <td>0.0000</td>\n",
       "      <td>0.0000</td>\n",
       "    </tr>\n",
       "    <tr>\n",
       "      <th>1</th>\n",
       "      <td>3900381</td>\n",
       "      <td>0</td>\n",
       "      <td>0</td>\n",
       "      <td>1681.1643</td>\n",
       "      <td>17/09/2009</td>\n",
       "      <td>-50.7143</td>\n",
       "      <td>33.9768</td>\n",
       "    </tr>\n",
       "    <tr>\n",
       "      <th>2</th>\n",
       "      <td>3900382</td>\n",
       "      <td>0</td>\n",
       "      <td>0</td>\n",
       "      <td>0.0000</td>\n",
       "      <td>NaN</td>\n",
       "      <td>0.0000</td>\n",
       "      <td>0.0000</td>\n",
       "    </tr>\n",
       "    <tr>\n",
       "      <th>3</th>\n",
       "      <td>3900399</td>\n",
       "      <td>0</td>\n",
       "      <td>1</td>\n",
       "      <td>2001.7359</td>\n",
       "      <td>01/08/2010</td>\n",
       "      <td>-26.0516</td>\n",
       "      <td>-42.4516</td>\n",
       "    </tr>\n",
       "    <tr>\n",
       "      <th>4</th>\n",
       "      <td>3900400</td>\n",
       "      <td>0</td>\n",
       "      <td>1</td>\n",
       "      <td>1941.0619</td>\n",
       "      <td>04/06/2010</td>\n",
       "      <td>-26.5448</td>\n",
       "      <td>-42.5100</td>\n",
       "    </tr>\n",
       "  </tbody>\n",
       "</table>\n",
       "</div>"
      ],
      "text/plain": [
       "       WMO  OXYGEN  GREYLIST        AGE       DATE_     LAT_     LON_\n",
       "0  3900380       0         0     0.0000         NaN   0.0000   0.0000\n",
       "1  3900381       0         0  1681.1643  17/09/2009 -50.7143  33.9768\n",
       "2  3900382       0         0     0.0000         NaN   0.0000   0.0000\n",
       "3  3900399       0         1  2001.7359  01/08/2010 -26.0516 -42.4516\n",
       "4  3900400       0         1  1941.0619  04/06/2010 -26.5448 -42.5100"
      ]
     },
     "execution_count": 6,
     "metadata": {},
     "output_type": "execute_result"
    }
   ],
   "source": [
    "#This prints out certain columns (of my choosing) with all the rows still present\n",
    "fd_oga = df.loc[: , ['WMO' , 'OXYGEN' , 'GREYLIST' , 'AGE' , 'DATE_' , 'LAT_' , 'LON_'] ] # oga = oxygen, grey list, and age\n",
    "fd_oga[:5]"
   ]
  },
  {
   "cell_type": "code",
   "execution_count": 7,
   "metadata": {
    "collapsed": false,
    "scrolled": true
   },
   "outputs": [
    {
     "data": {
      "text/html": [
       "<div>\n",
       "<table border=\"1\" class=\"dataframe\">\n",
       "  <thead>\n",
       "    <tr style=\"text-align: right;\">\n",
       "      <th></th>\n",
       "      <th>WMO</th>\n",
       "      <th>OXYGEN</th>\n",
       "      <th>GREYLIST</th>\n",
       "      <th>AGE</th>\n",
       "      <th>DATE_</th>\n",
       "      <th>LAT_</th>\n",
       "      <th>LON_</th>\n",
       "    </tr>\n",
       "  </thead>\n",
       "  <tbody>\n",
       "    <tr>\n",
       "      <th>84</th>\n",
       "      <td>5900245</td>\n",
       "      <td>1</td>\n",
       "      <td>0</td>\n",
       "      <td>1097.1958</td>\n",
       "      <td>05/01/2006</td>\n",
       "      <td>-36.2894</td>\n",
       "      <td>165.6669</td>\n",
       "    </tr>\n",
       "    <tr>\n",
       "      <th>196</th>\n",
       "      <td>4900637</td>\n",
       "      <td>1</td>\n",
       "      <td>0</td>\n",
       "      <td>1640.5049</td>\n",
       "      <td>21/08/2009</td>\n",
       "      <td>45.9560</td>\n",
       "      <td>-128.0490</td>\n",
       "    </tr>\n",
       "    <tr>\n",
       "      <th>317</th>\n",
       "      <td>4900497</td>\n",
       "      <td>1</td>\n",
       "      <td>0</td>\n",
       "      <td>1030.1457</td>\n",
       "      <td>26/02/2007</td>\n",
       "      <td>34.7538</td>\n",
       "      <td>-63.6900</td>\n",
       "    </tr>\n",
       "    <tr>\n",
       "      <th>368</th>\n",
       "      <td>2900460</td>\n",
       "      <td>1</td>\n",
       "      <td>0</td>\n",
       "      <td>792.1306</td>\n",
       "      <td>26/04/2007</td>\n",
       "      <td>44.4140</td>\n",
       "      <td>-153.7139</td>\n",
       "    </tr>\n",
       "    <tr>\n",
       "      <th>436</th>\n",
       "      <td>4900651</td>\n",
       "      <td>1</td>\n",
       "      <td>0</td>\n",
       "      <td>1200.1958</td>\n",
       "      <td>12/11/2008</td>\n",
       "      <td>38.4279</td>\n",
       "      <td>-157.9447</td>\n",
       "    </tr>\n",
       "  </tbody>\n",
       "</table>\n",
       "</div>"
      ],
      "text/plain": [
       "         WMO  OXYGEN  GREYLIST        AGE       DATE_     LAT_      LON_\n",
       "84   5900245       1         0  1097.1958  05/01/2006 -36.2894  165.6669\n",
       "196  4900637       1         0  1640.5049  21/08/2009  45.9560 -128.0490\n",
       "317  4900497       1         0  1030.1457  26/02/2007  34.7538  -63.6900\n",
       "368  2900460       1         0   792.1306  26/04/2007  44.4140 -153.7139\n",
       "436  4900651       1         0  1200.1958  12/11/2008  38.4279 -157.9447"
      ]
     },
     "execution_count": 7,
     "metadata": {},
     "output_type": "execute_result"
    }
   ],
   "source": [
    "#This takes the fd_oga table and only shows the rows that have oxygen data\n",
    "fd_oxygen = fd_oga.loc[ fd_oga.loc[: , 'OXYGEN'] == 1 , :]\n",
    "fd_oxygen[:5]"
   ]
  },
  {
   "cell_type": "code",
   "execution_count": 8,
   "metadata": {
    "collapsed": false,
    "scrolled": true
   },
   "outputs": [
    {
     "data": {
      "text/html": [
       "<div>\n",
       "<table border=\"1\" class=\"dataframe\">\n",
       "  <thead>\n",
       "    <tr style=\"text-align: right;\">\n",
       "      <th></th>\n",
       "      <th>WMO</th>\n",
       "      <th>OXYGEN</th>\n",
       "      <th>GREYLIST</th>\n",
       "      <th>AGE</th>\n",
       "      <th>DATE_</th>\n",
       "      <th>LAT_</th>\n",
       "      <th>LON_</th>\n",
       "    </tr>\n",
       "  </thead>\n",
       "  <tbody>\n",
       "    <tr>\n",
       "      <th>0</th>\n",
       "      <td>3900380</td>\n",
       "      <td>0</td>\n",
       "      <td>0</td>\n",
       "      <td>0.0000</td>\n",
       "      <td>NaN</td>\n",
       "      <td>0.0000</td>\n",
       "      <td>0.0000</td>\n",
       "    </tr>\n",
       "    <tr>\n",
       "      <th>1</th>\n",
       "      <td>3900381</td>\n",
       "      <td>0</td>\n",
       "      <td>0</td>\n",
       "      <td>1681.1643</td>\n",
       "      <td>17/09/2009</td>\n",
       "      <td>-50.7143</td>\n",
       "      <td>33.9768</td>\n",
       "    </tr>\n",
       "    <tr>\n",
       "      <th>2</th>\n",
       "      <td>3900382</td>\n",
       "      <td>0</td>\n",
       "      <td>0</td>\n",
       "      <td>0.0000</td>\n",
       "      <td>NaN</td>\n",
       "      <td>0.0000</td>\n",
       "      <td>0.0000</td>\n",
       "    </tr>\n",
       "    <tr>\n",
       "      <th>5</th>\n",
       "      <td>5900339</td>\n",
       "      <td>0</td>\n",
       "      <td>0</td>\n",
       "      <td>2781.0015</td>\n",
       "      <td>23/09/2012</td>\n",
       "      <td>-56.0493</td>\n",
       "      <td>-65.4248</td>\n",
       "    </tr>\n",
       "    <tr>\n",
       "      <th>6</th>\n",
       "      <td>5900346</td>\n",
       "      <td>0</td>\n",
       "      <td>0</td>\n",
       "      <td>3130.1958</td>\n",
       "      <td>08/09/2013</td>\n",
       "      <td>-58.1230</td>\n",
       "      <td>-22.3040</td>\n",
       "    </tr>\n",
       "  </tbody>\n",
       "</table>\n",
       "</div>"
      ],
      "text/plain": [
       "       WMO  OXYGEN  GREYLIST        AGE       DATE_     LAT_     LON_\n",
       "0  3900380       0         0     0.0000         NaN   0.0000   0.0000\n",
       "1  3900381       0         0  1681.1643  17/09/2009 -50.7143  33.9768\n",
       "2  3900382       0         0     0.0000         NaN   0.0000   0.0000\n",
       "5  5900339       0         0  2781.0015  23/09/2012 -56.0493 -65.4248\n",
       "6  5900346       0         0  3130.1958  08/09/2013 -58.1230 -22.3040"
      ]
     },
     "execution_count": 8,
     "metadata": {},
     "output_type": "execute_result"
    }
   ],
   "source": [
    "#This takes the fd_oga table and only shows the rows that aren't grey listed     #gl = grey list\n",
    "fd_gl = fd_oga.loc[ fd_oga.loc[: , 'GREYLIST'] == 0 , :] #gl = grey list\n",
    "fd_gl[:5]"
   ]
  },
  {
   "cell_type": "code",
   "execution_count": 9,
   "metadata": {
    "collapsed": false,
    "scrolled": true
   },
   "outputs": [
    {
     "data": {
      "text/html": [
       "<div>\n",
       "<table border=\"1\" class=\"dataframe\">\n",
       "  <thead>\n",
       "    <tr style=\"text-align: right;\">\n",
       "      <th></th>\n",
       "      <th>WMO</th>\n",
       "      <th>OXYGEN</th>\n",
       "      <th>GREYLIST</th>\n",
       "      <th>AGE</th>\n",
       "      <th>DATE_</th>\n",
       "      <th>LAT_</th>\n",
       "      <th>LON_</th>\n",
       "    </tr>\n",
       "  </thead>\n",
       "  <tbody>\n",
       "    <tr>\n",
       "      <th>1</th>\n",
       "      <td>3900381</td>\n",
       "      <td>0</td>\n",
       "      <td>0</td>\n",
       "      <td>1681.1643</td>\n",
       "      <td>17/09/2009</td>\n",
       "      <td>-50.7143</td>\n",
       "      <td>33.9768</td>\n",
       "    </tr>\n",
       "    <tr>\n",
       "      <th>3</th>\n",
       "      <td>3900399</td>\n",
       "      <td>0</td>\n",
       "      <td>1</td>\n",
       "      <td>2001.7359</td>\n",
       "      <td>01/08/2010</td>\n",
       "      <td>-26.0516</td>\n",
       "      <td>-42.4516</td>\n",
       "    </tr>\n",
       "    <tr>\n",
       "      <th>4</th>\n",
       "      <td>3900400</td>\n",
       "      <td>0</td>\n",
       "      <td>1</td>\n",
       "      <td>1941.0619</td>\n",
       "      <td>04/06/2010</td>\n",
       "      <td>-26.5448</td>\n",
       "      <td>-42.5100</td>\n",
       "    </tr>\n",
       "    <tr>\n",
       "      <th>5</th>\n",
       "      <td>5900339</td>\n",
       "      <td>0</td>\n",
       "      <td>0</td>\n",
       "      <td>2781.0015</td>\n",
       "      <td>23/09/2012</td>\n",
       "      <td>-56.0493</td>\n",
       "      <td>-65.4248</td>\n",
       "    </tr>\n",
       "    <tr>\n",
       "      <th>6</th>\n",
       "      <td>5900346</td>\n",
       "      <td>0</td>\n",
       "      <td>0</td>\n",
       "      <td>3130.1958</td>\n",
       "      <td>08/09/2013</td>\n",
       "      <td>-58.1230</td>\n",
       "      <td>-22.3040</td>\n",
       "    </tr>\n",
       "  </tbody>\n",
       "</table>\n",
       "</div>"
      ],
      "text/plain": [
       "       WMO  OXYGEN  GREYLIST        AGE       DATE_     LAT_     LON_\n",
       "1  3900381       0         0  1681.1643  17/09/2009 -50.7143  33.9768\n",
       "3  3900399       0         1  2001.7359  01/08/2010 -26.0516 -42.4516\n",
       "4  3900400       0         1  1941.0619  04/06/2010 -26.5448 -42.5100\n",
       "5  5900339       0         0  2781.0015  23/09/2012 -56.0493 -65.4248\n",
       "6  5900346       0         0  3130.1958  08/09/2013 -58.1230 -22.3040"
      ]
     },
     "execution_count": 9,
     "metadata": {},
     "output_type": "execute_result"
    }
   ],
   "source": [
    "#This takes the fd_oga table and only shows the rows that are at least 340 days old\n",
    "fd_age = fd_oga.loc[ fd_oga.loc[: , 'AGE'] >= 340. , :]\n",
    "fd_age[:5]"
   ]
  },
  {
   "cell_type": "code",
   "execution_count": 10,
   "metadata": {
    "collapsed": false,
    "scrolled": true
   },
   "outputs": [
    {
     "data": {
      "text/html": [
       "<div>\n",
       "<table border=\"1\" class=\"dataframe\">\n",
       "  <thead>\n",
       "    <tr style=\"text-align: right;\">\n",
       "      <th></th>\n",
       "      <th>WMO</th>\n",
       "      <th>OXYGEN</th>\n",
       "      <th>GREYLIST</th>\n",
       "      <th>AGE</th>\n",
       "      <th>DATE_</th>\n",
       "      <th>LAT_</th>\n",
       "      <th>LON_</th>\n",
       "    </tr>\n",
       "  </thead>\n",
       "  <tbody>\n",
       "    <tr>\n",
       "      <th>0</th>\n",
       "      <td>5900245</td>\n",
       "      <td>1</td>\n",
       "      <td>0</td>\n",
       "      <td>1097.1958</td>\n",
       "      <td>05/01/2006</td>\n",
       "      <td>-36.2894</td>\n",
       "      <td>165.6669</td>\n",
       "    </tr>\n",
       "    <tr>\n",
       "      <th>1</th>\n",
       "      <td>4900637</td>\n",
       "      <td>1</td>\n",
       "      <td>0</td>\n",
       "      <td>1640.5049</td>\n",
       "      <td>21/08/2009</td>\n",
       "      <td>45.9560</td>\n",
       "      <td>-128.0490</td>\n",
       "    </tr>\n",
       "    <tr>\n",
       "      <th>2</th>\n",
       "      <td>4900497</td>\n",
       "      <td>1</td>\n",
       "      <td>0</td>\n",
       "      <td>1030.1457</td>\n",
       "      <td>26/02/2007</td>\n",
       "      <td>34.7538</td>\n",
       "      <td>-63.6900</td>\n",
       "    </tr>\n",
       "    <tr>\n",
       "      <th>3</th>\n",
       "      <td>2900460</td>\n",
       "      <td>1</td>\n",
       "      <td>0</td>\n",
       "      <td>792.1306</td>\n",
       "      <td>26/04/2007</td>\n",
       "      <td>44.4140</td>\n",
       "      <td>-153.7139</td>\n",
       "    </tr>\n",
       "    <tr>\n",
       "      <th>4</th>\n",
       "      <td>4900651</td>\n",
       "      <td>1</td>\n",
       "      <td>0</td>\n",
       "      <td>1200.1958</td>\n",
       "      <td>12/11/2008</td>\n",
       "      <td>38.4279</td>\n",
       "      <td>-157.9447</td>\n",
       "    </tr>\n",
       "  </tbody>\n",
       "</table>\n",
       "</div>"
      ],
      "text/plain": [
       "       WMO  OXYGEN  GREYLIST        AGE       DATE_     LAT_      LON_\n",
       "0  5900245       1         0  1097.1958  05/01/2006 -36.2894  165.6669\n",
       "1  4900637       1         0  1640.5049  21/08/2009  45.9560 -128.0490\n",
       "2  4900497       1         0  1030.1457  26/02/2007  34.7538  -63.6900\n",
       "3  2900460       1         0   792.1306  26/04/2007  44.4140 -153.7139\n",
       "4  4900651       1         0  1200.1958  12/11/2008  38.4279 -157.9447"
      ]
     },
     "execution_count": 10,
     "metadata": {},
     "output_type": "execute_result"
    }
   ],
   "source": [
    "#Merging the fd_oxygen table with the fd_gl table\n",
    "fd_merge_og = pd.merge(fd_oxygen , fd_gl) #og = oxygen and grey list\n",
    "fd_merge_og[:5]"
   ]
  },
  {
   "cell_type": "code",
   "execution_count": 11,
   "metadata": {
    "collapsed": false,
    "scrolled": true
   },
   "outputs": [
    {
     "data": {
      "text/html": [
       "<div>\n",
       "<table border=\"1\" class=\"dataframe\">\n",
       "  <thead>\n",
       "    <tr style=\"text-align: right;\">\n",
       "      <th></th>\n",
       "      <th>WMO</th>\n",
       "      <th>OXYGEN</th>\n",
       "      <th>GREYLIST</th>\n",
       "      <th>AGE</th>\n",
       "      <th>DATE_</th>\n",
       "      <th>LAT_</th>\n",
       "      <th>LON_</th>\n",
       "    </tr>\n",
       "  </thead>\n",
       "  <tbody>\n",
       "    <tr>\n",
       "      <th>0</th>\n",
       "      <td>5900245</td>\n",
       "      <td>1</td>\n",
       "      <td>0</td>\n",
       "      <td>1097.1958</td>\n",
       "      <td>05/01/2006</td>\n",
       "      <td>-36.2894</td>\n",
       "      <td>165.6669</td>\n",
       "    </tr>\n",
       "    <tr>\n",
       "      <th>1</th>\n",
       "      <td>4900637</td>\n",
       "      <td>1</td>\n",
       "      <td>0</td>\n",
       "      <td>1640.5049</td>\n",
       "      <td>21/08/2009</td>\n",
       "      <td>45.9560</td>\n",
       "      <td>-128.0490</td>\n",
       "    </tr>\n",
       "    <tr>\n",
       "      <th>2</th>\n",
       "      <td>4900497</td>\n",
       "      <td>1</td>\n",
       "      <td>0</td>\n",
       "      <td>1030.1457</td>\n",
       "      <td>26/02/2007</td>\n",
       "      <td>34.7538</td>\n",
       "      <td>-63.6900</td>\n",
       "    </tr>\n",
       "    <tr>\n",
       "      <th>3</th>\n",
       "      <td>2900460</td>\n",
       "      <td>1</td>\n",
       "      <td>0</td>\n",
       "      <td>792.1306</td>\n",
       "      <td>26/04/2007</td>\n",
       "      <td>44.4140</td>\n",
       "      <td>-153.7139</td>\n",
       "    </tr>\n",
       "    <tr>\n",
       "      <th>4</th>\n",
       "      <td>4900651</td>\n",
       "      <td>1</td>\n",
       "      <td>0</td>\n",
       "      <td>1200.1958</td>\n",
       "      <td>12/11/2008</td>\n",
       "      <td>38.4279</td>\n",
       "      <td>-157.9447</td>\n",
       "    </tr>\n",
       "  </tbody>\n",
       "</table>\n",
       "</div>"
      ],
      "text/plain": [
       "       WMO  OXYGEN  GREYLIST        AGE       DATE_     LAT_      LON_\n",
       "0  5900245       1         0  1097.1958  05/01/2006 -36.2894  165.6669\n",
       "1  4900637       1         0  1640.5049  21/08/2009  45.9560 -128.0490\n",
       "2  4900497       1         0  1030.1457  26/02/2007  34.7538  -63.6900\n",
       "3  2900460       1         0   792.1306  26/04/2007  44.4140 -153.7139\n",
       "4  4900651       1         0  1200.1958  12/11/2008  38.4279 -157.9447"
      ]
     },
     "execution_count": 11,
     "metadata": {},
     "output_type": "execute_result"
    }
   ],
   "source": [
    "#Later work will go off of this table\n",
    "\n",
    "#FINALLY HAVE ONLY THE DATA I DESIRE\n",
    "#PRAISE HELIX\n",
    "#After all the trial and error (=^.^=)\n",
    "\n",
    "fd_merge_oga = pd.merge(fd_merge_og , fd_age)\n",
    "fd_merge_oga[:5]\n",
    "#Merged the fd_merge_og table with the fd_age table\n",
    "\n",
    "#Inactive -> active = 0"
   ]
  },
  {
   "cell_type": "code",
   "execution_count": 12,
   "metadata": {
    "collapsed": false
   },
   "outputs": [
    {
     "data": {
      "text/plain": [
       "['# Title : Metadata directory file of the Argo Global Data Assembly Center\\n',\n",
       " '# Description : The directory file describes all metadata files of the argo GDAC ftp site.\\n',\n",
       " '# Project : ARGO\\n',\n",
       " '# Format version : 2.0\\n',\n",
       " '# Date of update : 20150727162538\\n',\n",
       " '# FTP root number 1 : ftp://ftp.ifremer.fr/ifremer/argo/dac\\n',\n",
       " '# FTP root number 2 : ftp://usgodae.usgodae.org/pub/outgoing/argo/dac\\n',\n",
       " '# GDAC node : CORIOLIS\\n',\n",
       " 'file,profiler_type,institution,date_update\\n',\n",
       " 'aoml/13857/13857_meta.nc,845,AO,20120521144513\\n']"
      ]
     },
     "execution_count": 12,
     "metadata": {},
     "output_type": "execute_result"
    }
   ],
   "source": [
    "gd = urllib2.urlopen(\"ftp://ftp.ifremer.fr/ifremer/argo/ar_index_global_meta.txt\").readlines()\n",
    "gd[:10]"
   ]
  },
  {
   "cell_type": "code",
   "execution_count": 43,
   "metadata": {
    "collapsed": false,
    "scrolled": true
   },
   "outputs": [
    {
     "data": {
      "text/plain": [
       "['# Title : Metadata directory file of the Argo Global Data Assembly Center\\n',\n",
       " '# Description : The directory file describes all metadata files of the argo GDAC ftp site.\\n',\n",
       " '# Project : ARGO\\n',\n",
       " '# Format version : 2.0\\n',\n",
       " '# Date of update : 20150727162538\\n',\n",
       " '# FTP root number 1 : ftp://ftp.ifremer.fr/ifremer/argo/dac\\n',\n",
       " '# FTP root number 2 : ftp://usgodae.usgodae.org/pub/outgoing/argo/dac\\n',\n",
       " '# GDAC node : CORIOLIS\\n',\n",
       " 'file,profiler_type,institution,date_update\\n',\n",
       " 'aoml/13857/13857_meta.nc,845,AO,20120521144513\\n']"
      ]
     },
     "execution_count": 43,
     "metadata": {},
     "output_type": "execute_result"
    }
   ],
   "source": [
    "#May or may not even need this\n",
    "gd = urllib2.urlopen(\"ftp://ftp.ifremer.fr/ifremer/argo/ar_index_global_meta.txt\").readlines() #gd = global data\n",
    "\n",
    "##gd1 = [g.replace('\\0' , '').replace('\\xff' , '').replace('\\xfe' , '').replace('\\r\\n' , '') for g in gd]\n",
    "\n",
    "gd1[:10]\n",
    "#Now to get it so when a user inputs a float number, the DAC of that number shows up"
   ]
  },
  {
   "cell_type": "code",
   "execution_count": 14,
   "metadata": {
    "collapsed": false,
    "scrolled": true
   },
   "outputs": [
    {
     "data": {
      "text/html": [
       "<div>\n",
       "<table border=\"1\" class=\"dataframe\">\n",
       "  <thead>\n",
       "    <tr style=\"text-align: right;\">\n",
       "      <th></th>\n",
       "      <th>file</th>\n",
       "      <th>profiler_type</th>\n",
       "      <th>institution</th>\n",
       "      <th>date_update</th>\n",
       "    </tr>\n",
       "  </thead>\n",
       "  <tbody>\n",
       "    <tr>\n",
       "      <th>0</th>\n",
       "      <td>aoml/13857/13857_meta.nc</td>\n",
       "      <td>845</td>\n",
       "      <td>AO</td>\n",
       "      <td>20120521144513</td>\n",
       "    </tr>\n",
       "    <tr>\n",
       "      <th>1</th>\n",
       "      <td>aoml/13858/13858_meta.nc</td>\n",
       "      <td>845</td>\n",
       "      <td>AO</td>\n",
       "      <td>20130222100319</td>\n",
       "    </tr>\n",
       "    <tr>\n",
       "      <th>2</th>\n",
       "      <td>aoml/13859/13859_meta.nc</td>\n",
       "      <td>845</td>\n",
       "      <td>AO</td>\n",
       "      <td>20120521144513</td>\n",
       "    </tr>\n",
       "    <tr>\n",
       "      <th>3</th>\n",
       "      <td>aoml/15819/15819_meta.nc</td>\n",
       "      <td>845</td>\n",
       "      <td>AO</td>\n",
       "      <td>20120521144513</td>\n",
       "    </tr>\n",
       "    <tr>\n",
       "      <th>4</th>\n",
       "      <td>aoml/15820/15820_meta.nc</td>\n",
       "      <td>845</td>\n",
       "      <td>AO</td>\n",
       "      <td>20120521144513</td>\n",
       "    </tr>\n",
       "  </tbody>\n",
       "</table>\n",
       "</div>"
      ],
      "text/plain": [
       "                       file  profiler_type institution     date_update\n",
       "0  aoml/13857/13857_meta.nc            845          AO  20120521144513\n",
       "1  aoml/13858/13858_meta.nc            845          AO  20130222100319\n",
       "2  aoml/13859/13859_meta.nc            845          AO  20120521144513\n",
       "3  aoml/15819/15819_meta.nc            845          AO  20120521144513\n",
       "4  aoml/15820/15820_meta.nc            845          AO  20120521144513"
      ]
     },
     "execution_count": 14,
     "metadata": {},
     "output_type": "execute_result"
    }
   ],
   "source": [
    "with open('gd1.csv', 'w') as f:\n",
    "    for row in gd1:\n",
    "        f.write(row + '\\n')\n",
    "\n",
    "gd_table = pd.read_csv('gd1.csv' , comment = '#')\n",
    "gd_table[:5]"
   ]
  },
  {
   "cell_type": "code",
   "execution_count": 15,
   "metadata": {
    "collapsed": false,
    "scrolled": true
   },
   "outputs": [
    {
     "data": {
      "text/html": [
       "<div>\n",
       "<table border=\"1\" class=\"dataframe\">\n",
       "  <thead>\n",
       "    <tr style=\"text-align: right;\">\n",
       "      <th></th>\n",
       "      <th>file</th>\n",
       "    </tr>\n",
       "  </thead>\n",
       "  <tbody>\n",
       "    <tr>\n",
       "      <th>0</th>\n",
       "      <td>aoml/13857/13857_meta.nc</td>\n",
       "    </tr>\n",
       "    <tr>\n",
       "      <th>1</th>\n",
       "      <td>aoml/13858/13858_meta.nc</td>\n",
       "    </tr>\n",
       "    <tr>\n",
       "      <th>2</th>\n",
       "      <td>aoml/13859/13859_meta.nc</td>\n",
       "    </tr>\n",
       "    <tr>\n",
       "      <th>3</th>\n",
       "      <td>aoml/15819/15819_meta.nc</td>\n",
       "    </tr>\n",
       "    <tr>\n",
       "      <th>4</th>\n",
       "      <td>aoml/15820/15820_meta.nc</td>\n",
       "    </tr>\n",
       "  </tbody>\n",
       "</table>\n",
       "</div>"
      ],
      "text/plain": [
       "                       file\n",
       "0  aoml/13857/13857_meta.nc\n",
       "1  aoml/13858/13858_meta.nc\n",
       "2  aoml/13859/13859_meta.nc\n",
       "3  aoml/15819/15819_meta.nc\n",
       "4  aoml/15820/15820_meta.nc"
      ]
     },
     "execution_count": 15,
     "metadata": {},
     "output_type": "execute_result"
    }
   ],
   "source": [
    "# Would like to read off Internet\n",
    "gd_table.loc[:,['file']][:5]"
   ]
  },
  {
   "cell_type": "code",
   "execution_count": 16,
   "metadata": {
    "collapsed": false
   },
   "outputs": [
    {
     "name": "stdout",
     "output_type": "stream",
     "text": [
      "['5900245', '4900637', '4900497', '2900460', '4900651', '4900652', '5900420', '5900421', '5900422', '3900274']\n"
     ]
    }
   ],
   "source": [
    "good_floats = []\n",
    "for index,row in fd_merge_oga.loc[:,['WMO']].iterrows():\n",
    "    good_floats.append(row['WMO'])\n",
    "print good_floats[:10]"
   ]
  },
  {
   "cell_type": "code",
   "execution_count": 17,
   "metadata": {
    "collapsed": false
   },
   "outputs": [],
   "source": [
    "dac_substring = []\n",
    "all_floats = []\n",
    "for index,row in gd_table.loc[:,['file']].iterrows():\n",
    "    floatNum = row['file'].split('/')[1]\n",
    "    all_floats.append(floatNum)\n",
    "\n",
    "    if floatNum in good_floats:\n",
    "        dac_substring.append(row['file'])\n",
    "    "
   ]
  },
  {
   "cell_type": "code",
   "execution_count": 18,
   "metadata": {
    "collapsed": false
   },
   "outputs": [],
   "source": [
    "i=0\n",
    "dacUrls = []\n",
    "for dac in dac_substring:\n",
    "    tdsUrl = ''\n",
    "    tdsUrl += \"http://thredds.aodn.org.au/thredds/catalog/IMOS/Argo/dac/\"\n",
    "    tdsUrl += '/'.join(dac.split('/')[:2])\n",
    "    tdsUrl += \"/profiles/catalog.xml\"\n",
    "    dacUrls.append(tdsUrl)\n",
    "    i += 1"
   ]
  },
  {
   "cell_type": "code",
   "execution_count": 19,
   "metadata": {
    "collapsed": false
   },
   "outputs": [
    {
     "name": "stdout",
     "output_type": "stream",
     "text": [
      "553\n"
     ]
    },
    {
     "data": {
      "text/plain": [
       "['http://thredds.aodn.org.au/thredds/catalog/IMOS/Argo/dac/aoml/1900722/profiles/catalog.xml',\n",
       " 'http://thredds.aodn.org.au/thredds/catalog/IMOS/Argo/dac/aoml/1901378/profiles/catalog.xml',\n",
       " 'http://thredds.aodn.org.au/thredds/catalog/IMOS/Argo/dac/aoml/2900114/profiles/catalog.xml',\n",
       " 'http://thredds.aodn.org.au/thredds/catalog/IMOS/Argo/dac/aoml/2900115/profiles/catalog.xml',\n",
       " 'http://thredds.aodn.org.au/thredds/catalog/IMOS/Argo/dac/aoml/2900116/profiles/catalog.xml']"
      ]
     },
     "execution_count": 19,
     "metadata": {},
     "output_type": "execute_result"
    }
   ],
   "source": [
    "print len(dacUrls)\n",
    "dacUrls[:5]"
   ]
  },
  {
   "cell_type": "code",
   "execution_count": 20,
   "metadata": {
    "collapsed": false,
    "scrolled": true
   },
   "outputs": [
    {
     "name": "stdout",
     "output_type": "stream",
     "text": [
      "Crawling http://thredds.aodn.org.au/thredds/catalog/IMOS/Argo/dac/aoml/1900722/profiles/catalog.xml\n",
      "Found 405 netCDF files in 168.2 seconds\n",
      "Crawling http://thredds.aodn.org.au/thredds/catalog/IMOS/Argo/dac/aoml/1901378/profiles/catalog.xml\n",
      "Found 265 netCDF files in 106.5 seconds\n",
      "Crawling http://thredds.aodn.org.au/thredds/catalog/IMOS/Argo/dac/aoml/2900114/profiles/catalog.xml\n",
      "Found 216 netCDF files in 84.9 seconds\n",
      "Crawling http://thredds.aodn.org.au/thredds/catalog/IMOS/Argo/dac/aoml/2900115/profiles/catalog.xml\n",
      "Found 118 netCDF files in 45.4 seconds\n",
      "Crawling http://thredds.aodn.org.au/thredds/catalog/IMOS/Argo/dac/aoml/2900116/profiles/catalog.xml\n",
      "Found 239 netCDF files in 94.3 seconds\n",
      "Crawling http://thredds.aodn.org.au/thredds/catalog/IMOS/Argo/dac/aoml/2900117/profiles/catalog.xml\n",
      "Found 236 netCDF files in 93.1 seconds\n",
      "Crawling http://thredds.aodn.org.au/thredds/catalog/IMOS/Argo/dac/aoml/2900118/profiles/catalog.xml\n",
      "Found 130 netCDF files in 50.0 seconds\n",
      "Crawling http://thredds.aodn.org.au/thredds/catalog/IMOS/Argo/dac/aoml/2900119/profiles/catalog.xml\n",
      "Found 84 netCDF files in 32.0 seconds\n",
      "Crawling http://thredds.aodn.org.au/thredds/catalog/IMOS/Argo/dac/aoml/2900120/profiles/catalog.xml\n",
      "Found 217 netCDF files in 85.7 seconds\n",
      "Crawling http://thredds.aodn.org.au/thredds/catalog/IMOS/Argo/dac/aoml/2900123/profiles/catalog.xml\n",
      "Found 176 netCDF files in 68.4 seconds\n",
      "Crawling http://thredds.aodn.org.au/thredds/catalog/IMOS/Argo/dac/aoml/2900124/profiles/catalog.xml\n",
      "Found 64 netCDF files in 24.3 seconds\n",
      "Crawling http://thredds.aodn.org.au/thredds/catalog/IMOS/Argo/dac/aoml/2900125/profiles/catalog.xml\n",
      "Found 213 netCDF files in 83.8 seconds\n",
      "Crawling http://thredds.aodn.org.au/thredds/catalog/IMOS/Argo/dac/aoml/2900126/profiles/catalog.xml\n",
      "Found 237 netCDF files in 94.1 seconds\n",
      "Crawling http://thredds.aodn.org.au/thredds/catalog/IMOS/Argo/dac/aoml/2900127/profiles/catalog.xml\n",
      "Found 193 netCDF files in 75.5 seconds\n",
      "Crawling http://thredds.aodn.org.au/thredds/catalog/IMOS/Argo/dac/aoml/2900128/profiles/catalog.xml\n",
      "Found 224 netCDF files in 88.4 seconds\n",
      "Crawling http://thredds.aodn.org.au/thredds/catalog/IMOS/Argo/dac/aoml/2900129/profiles/catalog.xml\n",
      "Found 199 netCDF files in 77.9 seconds\n",
      "Crawling http://thredds.aodn.org.au/thredds/catalog/IMOS/Argo/dac/aoml/3900333/profiles/catalog.xml\n",
      "Found 771 netCDF files in 351.6 seconds\n",
      "Crawling http://thredds.aodn.org.au/thredds/catalog/IMOS/Argo/dac/aoml/3900334/profiles/catalog.xml\n",
      "Found 816 netCDF files in 379.1 seconds\n",
      "Crawling http://thredds.aodn.org.au/thredds/catalog/IMOS/Argo/dac/aoml/3900344/profiles/catalog.xml\n",
      "Found 753 netCDF files in 345.0 seconds\n",
      "Crawling http://thredds.aodn.org.au/thredds/catalog/IMOS/Argo/dac/aoml/3900345/profiles/catalog.xml\n",
      "Found 570 netCDF files in 246.5 seconds\n",
      "Crawling http://thredds.aodn.org.au/thredds/catalog/IMOS/Argo/dac/aoml/3900346/profiles/catalog.xml\n",
      "Found 708 netCDF files in 318.1 seconds\n",
      "Crawling http://thredds.aodn.org.au/thredds/catalog/IMOS/Argo/dac/aoml/3900347/profiles/catalog.xml\n",
      "Found 711 netCDF files in 319.3 seconds\n",
      "Crawling http://thredds.aodn.org.au/thredds/catalog/IMOS/Argo/dac/aoml/3900348/profiles/catalog.xml\n",
      "Found 567 netCDF files in 246.8 seconds\n",
      "Crawling http://thredds.aodn.org.au/thredds/catalog/IMOS/Argo/dac/aoml/3900715/profiles/catalog.xml\n",
      "Found 264 netCDF files in 106.2 seconds\n",
      "Crawling http://thredds.aodn.org.au/thredds/catalog/IMOS/Argo/dac/aoml/3900718/profiles/catalog.xml\n",
      "Found 117 netCDF files in 45.2 seconds\n",
      "Crawling http://thredds.aodn.org.au/thredds/catalog/IMOS/Argo/dac/aoml/3900727/profiles/catalog.xml\n",
      "Found 311 netCDF files in 128.1 seconds\n",
      "Crawling http://thredds.aodn.org.au/thredds/catalog/IMOS/Argo/dac/aoml/3900728/profiles/catalog.xml\n",
      "Found 284 netCDF files in 114.0 seconds\n",
      "Crawling http://thredds.aodn.org.au/thredds/catalog/IMOS/Argo/dac/aoml/3900729/profiles/catalog.xml\n",
      "Found 289 netCDF files in 116.1 seconds\n",
      "Crawling http://thredds.aodn.org.au/thredds/catalog/IMOS/Argo/dac/aoml/4900093/profiles/catalog.xml\n",
      "Found 336 netCDF files in 136.8 seconds\n",
      "Crawling http://thredds.aodn.org.au/thredds/catalog/IMOS/Argo/dac/aoml/4900320/profiles/catalog.xml\n",
      "Found 342 netCDF files in 139.5 seconds\n",
      "Crawling http://thredds.aodn.org.au/thredds/catalog/IMOS/Argo/dac/aoml/4900345/profiles/catalog.xml\n",
      "Found 663 netCDF files in 297.1 seconds\n",
      "Crawling http://thredds.aodn.org.au/thredds/catalog/IMOS/Argo/dac/aoml/4900474/profiles/catalog.xml\n",
      "Found 414 netCDF files in 173.2 seconds\n",
      "Crawling http://thredds.aodn.org.au/thredds/catalog/IMOS/Argo/dac/aoml/4900475/profiles/catalog.xml\n",
      "Found 750 netCDF files in 341.5 seconds\n",
      "Crawling http://thredds.aodn.org.au/thredds/catalog/IMOS/Argo/dac/aoml/4900476/profiles/catalog.xml\n",
      "Found 597 netCDF files in 262.9 seconds\n",
      "Crawling http://thredds.aodn.org.au/thredds/catalog/IMOS/Argo/dac/aoml/4900480/profiles/catalog.xml\n",
      "Found 181 netCDF files in 71.4 seconds\n",
      "Crawling http://thredds.aodn.org.au/thredds/catalog/IMOS/Argo/dac/aoml/4900481/profiles/catalog.xml\n",
      "Found 117 netCDF files in 45.7 seconds\n",
      "Crawling http://thredds.aodn.org.au/thredds/catalog/IMOS/Argo/dac/aoml/4900482/profiles/catalog.xml\n",
      "Found 162 netCDF files in 63.2 seconds\n",
      "Crawling http://thredds.aodn.org.au/thredds/catalog/IMOS/Argo/dac/aoml/4900483/profiles/catalog.xml\n",
      "Found 573 netCDF files in 250.8 seconds\n",
      "Crawling http://thredds.aodn.org.au/thredds/catalog/IMOS/Argo/dac/aoml/4900485/profiles/catalog.xml\n",
      "Found 597 netCDF files in 262.3 seconds\n",
      "Crawling http://thredds.aodn.org.au/thredds/catalog/IMOS/Argo/dac/aoml/4900487/profiles/catalog.xml\n",
      "Found 468 netCDF files in 198.1 seconds\n",
      "Crawling http://thredds.aodn.org.au/thredds/catalog/IMOS/Argo/dac/aoml/4900845/profiles/catalog.xml\n",
      "Found 195 netCDF files in 77.3 seconds\n",
      "Crawling http://thredds.aodn.org.au/thredds/catalog/IMOS/Argo/dac/aoml/5900245/profiles/catalog.xml\n",
      "Found 312 netCDF files in 127.7 seconds\n",
      "Crawling http://thredds.aodn.org.au/thredds/catalog/IMOS/Argo/dac/aoml/5900420/profiles/catalog.xml\n",
      "Found 312 netCDF files in 128.6 seconds\n",
      "Crawling http://thredds.aodn.org.au/thredds/catalog/IMOS/Argo/dac/aoml/5900421/profiles/catalog.xml\n",
      "Found 216 netCDF files in 86.3 seconds\n",
      "Crawling http://thredds.aodn.org.au/thredds/catalog/IMOS/Argo/dac/aoml/5900422/profiles/catalog.xml\n",
      "Found 207 netCDF files in 84.8 seconds\n",
      "Crawling http://thredds.aodn.org.au/thredds/catalog/IMOS/Argo/dac/aoml/5900952/profiles/catalog.xml\n",
      "Found 753 netCDF files in 341.2 seconds\n",
      "Crawling http://thredds.aodn.org.au/thredds/catalog/IMOS/Argo/dac/aoml/5900961/profiles/catalog.xml\n",
      "Found 1041 netCDF files in 511.6 seconds\n",
      "Crawling http://thredds.aodn.org.au/thredds/catalog/IMOS/Argo/dac/aoml/5900965/profiles/catalog.xml\n",
      "Found 768 netCDF files in 352.0 seconds\n",
      "Crawling http://thredds.aodn.org.au/thredds/catalog/IMOS/Argo/dac/aoml/5900966/profiles/catalog.xml\n",
      "Found 672 netCDF files in 301.9 seconds\n",
      "Crawling http://thredds.aodn.org.au/thredds/catalog/IMOS/Argo/dac/aoml/5901042/profiles/catalog.xml\n",
      "Found 687 netCDF files in 309.2 seconds\n",
      "Crawling http://thredds.aodn.org.au/thredds/catalog/IMOS/Argo/dac/aoml/5901043/profiles/catalog.xml\n",
      "Found 711 netCDF files in 327.9 seconds\n",
      "Crawling http://thredds.aodn.org.au/thredds/catalog/IMOS/Argo/dac/aoml/5901044/profiles/catalog.xml\n",
      "Found 672 netCDF files in 299.1 seconds\n",
      "Crawling http://thredds.aodn.org.au/thredds/catalog/IMOS/Argo/dac/aoml/5901045/profiles/catalog.xml\n",
      "Found 783 netCDF files in 359.6 seconds\n",
      "Crawling http://thredds.aodn.org.au/thredds/catalog/IMOS/Argo/dac/aoml/5901046/profiles/catalog.xml\n",
      "Found 771 netCDF files in 351.6 seconds\n",
      "Crawling http://thredds.aodn.org.au/thredds/catalog/IMOS/Argo/dac/aoml/5901047/profiles/catalog.xml\n",
      "Found 699 netCDF files in 312.7 seconds\n",
      "Crawling http://thredds.aodn.org.au/thredds/catalog/IMOS/Argo/dac/aoml/5901048/profiles/catalog.xml\n",
      "Found 708 netCDF files in 321.3 seconds\n",
      "Crawling http://thredds.aodn.org.au/thredds/catalog/IMOS/Argo/dac/aoml/5901049/profiles/catalog.xml\n",
      "Found 774 netCDF files in 351.9 seconds\n",
      "Crawling http://thredds.aodn.org.au/thredds/catalog/IMOS/Argo/dac/aoml/5901050/profiles/catalog.xml\n",
      "Found 723 netCDF files in 324.8 seconds\n",
      "Crawling http://thredds.aodn.org.au/thredds/catalog/IMOS/Argo/dac/aoml/5901051/profiles/catalog.xml\n",
      "Found 801 netCDF files in 371.5 seconds\n",
      "Crawling http://thredds.aodn.org.au/thredds/catalog/IMOS/Argo/dac/aoml/5901052/profiles/catalog.xml\n",
      "Found 801 netCDF files in 368.2 seconds\n",
      "Crawling http://thredds.aodn.org.au/thredds/catalog/IMOS/Argo/dac/aoml/5901053/profiles/catalog.xml\n",
      "Found 675 netCDF files in 301.2 seconds\n",
      "Crawling http://thredds.aodn.org.au/thredds/catalog/IMOS/Argo/dac/aoml/5901054/profiles/catalog.xml\n",
      "Found 750 netCDF files in 346.7 seconds\n",
      "Crawling http://thredds.aodn.org.au/thredds/catalog/IMOS/Argo/dac/aoml/5901069/profiles/catalog.xml\n",
      "Found 1065 netCDF files in 530.3 seconds\n",
      "Crawling http://thredds.aodn.org.au/thredds/catalog/IMOS/Argo/dac/aoml/5901071/profiles/catalog.xml\n",
      "Found 205 netCDF files in 80.6 seconds\n",
      "Crawling http://thredds.aodn.org.au/thredds/catalog/IMOS/Argo/dac/aoml/5901072/profiles/catalog.xml\n",
      "Found 292 netCDF files in 117.6 seconds\n",
      "Crawling http://thredds.aodn.org.au/thredds/catalog/IMOS/Argo/dac/aoml/5901073/profiles/catalog.xml\n",
      "Found 124 netCDF files in 49.1 seconds\n",
      "Crawling http://thredds.aodn.org.au/thredds/catalog/IMOS/Argo/dac/aoml/5901310/profiles/catalog.xml\n",
      "Found 465 netCDF files in 196.2 seconds\n",
      "Crawling http://thredds.aodn.org.au/thredds/catalog/IMOS/Argo/dac/aoml/5901311/profiles/catalog.xml\n",
      "Found 229 netCDF files in 90.6 seconds\n",
      "Crawling http://thredds.aodn.org.au/thredds/catalog/IMOS/Argo/dac/aoml/5901313/profiles/catalog.xml\n",
      "Found 546 netCDF files in 234.4 seconds\n",
      "Crawling http://thredds.aodn.org.au/thredds/catalog/IMOS/Argo/dac/aoml/5901314/profiles/catalog.xml\n",
      "Found 245 netCDF files in 97.2 seconds\n",
      "Crawling http://thredds.aodn.org.au/thredds/catalog/IMOS/Argo/dac/aoml/5901315/profiles/catalog.xml\n",
      "Found 324 netCDF files in 131.3 seconds\n",
      "Crawling http://thredds.aodn.org.au/thredds/catalog/IMOS/Argo/dac/aoml/5901316/profiles/catalog.xml\n",
      "Found 252 netCDF files in 100.3 seconds\n",
      "Crawling http://thredds.aodn.org.au/thredds/catalog/IMOS/Argo/dac/aoml/5901336/profiles/catalog.xml\n"
     ]
    },
    {
     "ename": "ConnectionError",
     "evalue": "('Connection aborted.', error(104, 'Connection reset by peer'))",
     "output_type": "error",
     "traceback": [
      "\u001b[1;31m---------------------------------------------------------------------------\u001b[0m",
      "\u001b[1;31mConnectionError\u001b[0m                           Traceback (most recent call last)",
      "\u001b[1;32m<ipython-input-20-e6eb1aa70a94>\u001b[0m in \u001b[0;36m<module>\u001b[1;34m()\u001b[0m\n\u001b[0;32m      3\u001b[0m     \u001b[1;32mprint\u001b[0m \u001b[1;34m\"Crawling \"\u001b[0m \u001b[1;33m+\u001b[0m \u001b[0mdac_url\u001b[0m\u001b[1;33m\u001b[0m\u001b[0m\n\u001b[0;32m      4\u001b[0m     \u001b[0msys\u001b[0m\u001b[1;33m.\u001b[0m\u001b[0mstdout\u001b[0m\u001b[1;33m.\u001b[0m\u001b[0mflush\u001b[0m\u001b[1;33m(\u001b[0m\u001b[1;33m)\u001b[0m\u001b[1;33m\u001b[0m\u001b[0m\n\u001b[1;32m----> 5\u001b[1;33m     \u001b[0mc\u001b[0m \u001b[1;33m=\u001b[0m \u001b[0mCrawl\u001b[0m\u001b[1;33m(\u001b[0m\u001b[0mdac_url\u001b[0m\u001b[1;33m)\u001b[0m\u001b[1;33m\u001b[0m\u001b[0m\n\u001b[0m\u001b[0;32m      6\u001b[0m     urls = [s.get(\"url\") for d in c.datasets \n\u001b[0;32m      7\u001b[0m                 for s in d.services if s.get(\"service\").lower() == \"opendap\"]\n",
      "\u001b[1;32m/home/mccann/VirtualEnvs/development/lib/python2.7/site-packages/thredds_crawler/crawl.pyc\u001b[0m in \u001b[0;36m__init__\u001b[1;34m(self, catalog_url, select, skip, debug)\u001b[0m\n\u001b[0;32m     54\u001b[0m \u001b[1;33m\u001b[0m\u001b[0m\n\u001b[0;32m     55\u001b[0m         \u001b[0mself\u001b[0m\u001b[1;33m.\u001b[0m\u001b[0mvisited\u001b[0m  \u001b[1;33m=\u001b[0m \u001b[1;33m[\u001b[0m\u001b[1;33m]\u001b[0m\u001b[1;33m\u001b[0m\u001b[0m\n\u001b[1;32m---> 56\u001b[1;33m         \u001b[0mdatasets\u001b[0m \u001b[1;33m=\u001b[0m \u001b[1;33m[\u001b[0m\u001b[0mLeafDataset\u001b[0m\u001b[1;33m(\u001b[0m\u001b[0murl\u001b[0m\u001b[1;33m)\u001b[0m \u001b[1;32mfor\u001b[0m \u001b[0murl\u001b[0m \u001b[1;32min\u001b[0m \u001b[0mself\u001b[0m\u001b[1;33m.\u001b[0m\u001b[0m_run\u001b[0m\u001b[1;33m(\u001b[0m\u001b[0murl\u001b[0m\u001b[1;33m=\u001b[0m\u001b[0mcatalog_url\u001b[0m\u001b[1;33m)\u001b[0m \u001b[1;32mif\u001b[0m \u001b[0murl\u001b[0m \u001b[1;32mis\u001b[0m \u001b[1;32mnot\u001b[0m \u001b[0mNone\u001b[0m\u001b[1;33m]\u001b[0m\u001b[1;33m\u001b[0m\u001b[0m\n\u001b[0m\u001b[0;32m     57\u001b[0m         \u001b[0mself\u001b[0m\u001b[1;33m.\u001b[0m\u001b[0mdatasets\u001b[0m \u001b[1;33m=\u001b[0m \u001b[0mfilter\u001b[0m\u001b[1;33m(\u001b[0m\u001b[1;32mlambda\u001b[0m \u001b[0mx\u001b[0m\u001b[1;33m:\u001b[0m \u001b[0mx\u001b[0m\u001b[1;33m.\u001b[0m\u001b[0mid\u001b[0m \u001b[1;32mis\u001b[0m \u001b[1;32mnot\u001b[0m \u001b[0mNone\u001b[0m\u001b[1;33m,\u001b[0m \u001b[0mdatasets\u001b[0m\u001b[1;33m)\u001b[0m\u001b[1;33m\u001b[0m\u001b[0m\n\u001b[0;32m     58\u001b[0m \u001b[1;33m\u001b[0m\u001b[0m\n",
      "\u001b[1;32m/home/mccann/VirtualEnvs/development/lib/python2.7/site-packages/thredds_crawler/crawl.pyc\u001b[0m in \u001b[0;36m__init__\u001b[1;34m(self, dataset_url)\u001b[0m\n\u001b[0;32m    123\u001b[0m \u001b[1;33m\u001b[0m\u001b[0m\n\u001b[0;32m    124\u001b[0m         \u001b[1;31m# Get an etree object\u001b[0m\u001b[1;33m\u001b[0m\u001b[1;33m\u001b[0m\u001b[0m\n\u001b[1;32m--> 125\u001b[1;33m         \u001b[0mr\u001b[0m \u001b[1;33m=\u001b[0m \u001b[0mrequests\u001b[0m\u001b[1;33m.\u001b[0m\u001b[0mget\u001b[0m\u001b[1;33m(\u001b[0m\u001b[0mdataset_url\u001b[0m\u001b[1;33m)\u001b[0m\u001b[1;33m\u001b[0m\u001b[0m\n\u001b[0m\u001b[0;32m    126\u001b[0m         \u001b[1;32mtry\u001b[0m\u001b[1;33m:\u001b[0m\u001b[1;33m\u001b[0m\u001b[0m\n\u001b[0;32m    127\u001b[0m             \u001b[0mtree\u001b[0m \u001b[1;33m=\u001b[0m \u001b[0metree\u001b[0m\u001b[1;33m.\u001b[0m\u001b[0mXML\u001b[0m\u001b[1;33m(\u001b[0m\u001b[0mstr\u001b[0m\u001b[1;33m(\u001b[0m\u001b[0mr\u001b[0m\u001b[1;33m.\u001b[0m\u001b[0mtext\u001b[0m\u001b[1;33m)\u001b[0m\u001b[1;33m)\u001b[0m\u001b[1;33m\u001b[0m\u001b[0m\n",
      "\u001b[1;32m/home/mccann/VirtualEnvs/development/lib/python2.7/site-packages/requests/api.pyc\u001b[0m in \u001b[0;36mget\u001b[1;34m(url, params, **kwargs)\u001b[0m\n\u001b[0;32m     67\u001b[0m \u001b[1;33m\u001b[0m\u001b[0m\n\u001b[0;32m     68\u001b[0m     \u001b[0mkwargs\u001b[0m\u001b[1;33m.\u001b[0m\u001b[0msetdefault\u001b[0m\u001b[1;33m(\u001b[0m\u001b[1;34m'allow_redirects'\u001b[0m\u001b[1;33m,\u001b[0m \u001b[0mTrue\u001b[0m\u001b[1;33m)\u001b[0m\u001b[1;33m\u001b[0m\u001b[0m\n\u001b[1;32m---> 69\u001b[1;33m     \u001b[1;32mreturn\u001b[0m \u001b[0mrequest\u001b[0m\u001b[1;33m(\u001b[0m\u001b[1;34m'get'\u001b[0m\u001b[1;33m,\u001b[0m \u001b[0murl\u001b[0m\u001b[1;33m,\u001b[0m \u001b[0mparams\u001b[0m\u001b[1;33m=\u001b[0m\u001b[0mparams\u001b[0m\u001b[1;33m,\u001b[0m \u001b[1;33m**\u001b[0m\u001b[0mkwargs\u001b[0m\u001b[1;33m)\u001b[0m\u001b[1;33m\u001b[0m\u001b[0m\n\u001b[0m\u001b[0;32m     70\u001b[0m \u001b[1;33m\u001b[0m\u001b[0m\n\u001b[0;32m     71\u001b[0m \u001b[1;33m\u001b[0m\u001b[0m\n",
      "\u001b[1;32m/home/mccann/VirtualEnvs/development/lib/python2.7/site-packages/requests/api.pyc\u001b[0m in \u001b[0;36mrequest\u001b[1;34m(method, url, **kwargs)\u001b[0m\n\u001b[0;32m     48\u001b[0m \u001b[1;33m\u001b[0m\u001b[0m\n\u001b[0;32m     49\u001b[0m     \u001b[0msession\u001b[0m \u001b[1;33m=\u001b[0m \u001b[0msessions\u001b[0m\u001b[1;33m.\u001b[0m\u001b[0mSession\u001b[0m\u001b[1;33m(\u001b[0m\u001b[1;33m)\u001b[0m\u001b[1;33m\u001b[0m\u001b[0m\n\u001b[1;32m---> 50\u001b[1;33m     \u001b[0mresponse\u001b[0m \u001b[1;33m=\u001b[0m \u001b[0msession\u001b[0m\u001b[1;33m.\u001b[0m\u001b[0mrequest\u001b[0m\u001b[1;33m(\u001b[0m\u001b[0mmethod\u001b[0m\u001b[1;33m=\u001b[0m\u001b[0mmethod\u001b[0m\u001b[1;33m,\u001b[0m \u001b[0murl\u001b[0m\u001b[1;33m=\u001b[0m\u001b[0murl\u001b[0m\u001b[1;33m,\u001b[0m \u001b[1;33m**\u001b[0m\u001b[0mkwargs\u001b[0m\u001b[1;33m)\u001b[0m\u001b[1;33m\u001b[0m\u001b[0m\n\u001b[0m\u001b[0;32m     51\u001b[0m     \u001b[1;31m# By explicitly closing the session, we avoid leaving sockets open which\u001b[0m\u001b[1;33m\u001b[0m\u001b[1;33m\u001b[0m\u001b[0m\n\u001b[0;32m     52\u001b[0m     \u001b[1;31m# can trigger a ResourceWarning in some cases, and look like a memory leak\u001b[0m\u001b[1;33m\u001b[0m\u001b[1;33m\u001b[0m\u001b[0m\n",
      "\u001b[1;32m/home/mccann/VirtualEnvs/development/lib/python2.7/site-packages/requests/sessions.pyc\u001b[0m in \u001b[0;36mrequest\u001b[1;34m(self, method, url, params, data, headers, cookies, files, auth, timeout, allow_redirects, proxies, hooks, stream, verify, cert, json)\u001b[0m\n\u001b[0;32m    463\u001b[0m         }\n\u001b[0;32m    464\u001b[0m         \u001b[0msend_kwargs\u001b[0m\u001b[1;33m.\u001b[0m\u001b[0mupdate\u001b[0m\u001b[1;33m(\u001b[0m\u001b[0msettings\u001b[0m\u001b[1;33m)\u001b[0m\u001b[1;33m\u001b[0m\u001b[0m\n\u001b[1;32m--> 465\u001b[1;33m         \u001b[0mresp\u001b[0m \u001b[1;33m=\u001b[0m \u001b[0mself\u001b[0m\u001b[1;33m.\u001b[0m\u001b[0msend\u001b[0m\u001b[1;33m(\u001b[0m\u001b[0mprep\u001b[0m\u001b[1;33m,\u001b[0m \u001b[1;33m**\u001b[0m\u001b[0msend_kwargs\u001b[0m\u001b[1;33m)\u001b[0m\u001b[1;33m\u001b[0m\u001b[0m\n\u001b[0m\u001b[0;32m    466\u001b[0m \u001b[1;33m\u001b[0m\u001b[0m\n\u001b[0;32m    467\u001b[0m         \u001b[1;32mreturn\u001b[0m \u001b[0mresp\u001b[0m\u001b[1;33m\u001b[0m\u001b[0m\n",
      "\u001b[1;32m/home/mccann/VirtualEnvs/development/lib/python2.7/site-packages/requests/sessions.pyc\u001b[0m in \u001b[0;36msend\u001b[1;34m(self, request, **kwargs)\u001b[0m\n\u001b[0;32m    571\u001b[0m \u001b[1;33m\u001b[0m\u001b[0m\n\u001b[0;32m    572\u001b[0m         \u001b[1;31m# Send the request\u001b[0m\u001b[1;33m\u001b[0m\u001b[1;33m\u001b[0m\u001b[0m\n\u001b[1;32m--> 573\u001b[1;33m         \u001b[0mr\u001b[0m \u001b[1;33m=\u001b[0m \u001b[0madapter\u001b[0m\u001b[1;33m.\u001b[0m\u001b[0msend\u001b[0m\u001b[1;33m(\u001b[0m\u001b[0mrequest\u001b[0m\u001b[1;33m,\u001b[0m \u001b[1;33m**\u001b[0m\u001b[0mkwargs\u001b[0m\u001b[1;33m)\u001b[0m\u001b[1;33m\u001b[0m\u001b[0m\n\u001b[0m\u001b[0;32m    574\u001b[0m \u001b[1;33m\u001b[0m\u001b[0m\n\u001b[0;32m    575\u001b[0m         \u001b[1;31m# Total elapsed time of the request (approximately)\u001b[0m\u001b[1;33m\u001b[0m\u001b[1;33m\u001b[0m\u001b[0m\n",
      "\u001b[1;32m/home/mccann/VirtualEnvs/development/lib/python2.7/site-packages/requests/adapters.pyc\u001b[0m in \u001b[0;36msend\u001b[1;34m(self, request, stream, timeout, verify, cert, proxies)\u001b[0m\n\u001b[0;32m    413\u001b[0m \u001b[1;33m\u001b[0m\u001b[0m\n\u001b[0;32m    414\u001b[0m         \u001b[1;32mexcept\u001b[0m \u001b[1;33m(\u001b[0m\u001b[0mProtocolError\u001b[0m\u001b[1;33m,\u001b[0m \u001b[0msocket\u001b[0m\u001b[1;33m.\u001b[0m\u001b[0merror\u001b[0m\u001b[1;33m)\u001b[0m \u001b[1;32mas\u001b[0m \u001b[0merr\u001b[0m\u001b[1;33m:\u001b[0m\u001b[1;33m\u001b[0m\u001b[0m\n\u001b[1;32m--> 415\u001b[1;33m             \u001b[1;32mraise\u001b[0m \u001b[0mConnectionError\u001b[0m\u001b[1;33m(\u001b[0m\u001b[0merr\u001b[0m\u001b[1;33m,\u001b[0m \u001b[0mrequest\u001b[0m\u001b[1;33m=\u001b[0m\u001b[0mrequest\u001b[0m\u001b[1;33m)\u001b[0m\u001b[1;33m\u001b[0m\u001b[0m\n\u001b[0m\u001b[0;32m    416\u001b[0m \u001b[1;33m\u001b[0m\u001b[0m\n\u001b[0;32m    417\u001b[0m         \u001b[1;32mexcept\u001b[0m \u001b[0mMaxRetryError\u001b[0m \u001b[1;32mas\u001b[0m \u001b[0me\u001b[0m\u001b[1;33m:\u001b[0m\u001b[1;33m\u001b[0m\u001b[0m\n",
      "\u001b[1;31mConnectionError\u001b[0m: ('Connection aborted.', error(104, 'Connection reset by peer'))"
     ]
    }
   ],
   "source": [
    "for dac_url in dacUrls:\n",
    "    start_time = time.time()\n",
    "    print \"Crawling \" + dac_url\n",
    "    sys.stdout.flush()\n",
    "    c = Crawl(dac_url)\n",
    "    urls = [s.get(\"url\") for d in c.datasets \n",
    "                for s in d.services if s.get(\"service\").lower() == \"opendap\"]\n",
    "    sec_diff = time.time() - start_time\n",
    "    print \"Found %s netCDF files in %.1f seconds\" % (len(urls), sec_diff) "
   ]
  },
  {
   "cell_type": "code",
   "execution_count": null,
   "metadata": {
    "collapsed": true
   },
   "outputs": [],
   "source": [
    "def conv"
   ]
  },
  {
   "cell_type": "code",
   "execution_count": null,
   "metadata": {
    "collapsed": false,
    "scrolled": true
   },
   "outputs": [],
   "source": [
    "floatLookup = {}\n",
    "for url in urls:\n",
    "    print url\n",
    "    ds = Dataset(url)\n",
    "    floatNum = url.split('/')[9]\n",
    "    print floatNum\n",
    "    p,t,s,o = (ds.variables['PRES_ADJUSTED'][0][0], ds.variables['TEMP_ADJUSTED'][0][0], \n",
    "               ds.variables['PSAL_ADJUSTED'][0][0], ds.variables['DOXY_ADJUSTED'][0][0])\n",
    "    lat,lon,mtime = (ds.variables['LATITUDE'][0], ds.variables['LONGITUDE'][0], ds.variables['JULD'][0])\n",
    "    \n",
    "    # Convert o from micromol/kg to ml/l \n",
    "    ##perc_sat = 100 * convertTomll(o) / satO2(s,t) \n",
    "    print s,t,perc_sat\n",
    "    floatLookup[floatNum] = (p,t,s,o,lat,lon,mtime)"
   ]
  },
  {
   "cell_type": "code",
   "execution_count": null,
   "metadata": {
    "collapsed": false,
    "scrolled": true
   },
   "outputs": [],
   "source": [
    "floatLookup"
   ]
  },
  {
   "cell_type": "code",
   "execution_count": 33,
   "metadata": {
    "collapsed": false
   },
   "outputs": [
    {
     "name": "stdout",
     "output_type": "stream",
     "text": [
      "\n"
     ]
    }
   ],
   "source": [
    "p,t,s,o = (ds.variables['PRES_ADJUSTED'][0][0], ds.variables['TEMP_ADJUSTED'][0][0], ds.variables['PSAL_ADJUSTED'][0][0], ds.variables['DOXY_ADJUSTED'][0][0])"
   ]
  },
  {
   "cell_type": "code",
   "execution_count": 53,
   "metadata": {
    "collapsed": false,
    "scrolled": true
   },
   "outputs": [
    {
     "data": {
      "text/plain": [
       "(4.3000002, 29.790001, 34.827457, 206.49001)"
      ]
     },
     "execution_count": 53,
     "metadata": {},
     "output_type": "execute_result"
    }
   ],
   "source": [
    "p,t,s,o"
   ]
  },
  {
   "cell_type": "code",
   "execution_count": 35,
   "metadata": {
    "collapsed": false
   },
   "outputs": [],
   "source": [
    "lat,lon,mtime = (ds.variables['LATITUDE'][0], ds.variables['LONGITUDE'][0], ds.variables['JULD'][0])"
   ]
  },
  {
   "cell_type": "code",
   "execution_count": 36,
   "metadata": {
    "collapsed": false,
    "scrolled": true
   },
   "outputs": [
    {
     "data": {
      "text/plain": [
       "(6.0310000000000006, -14.026, 21985.069212962964)"
      ]
     },
     "execution_count": 36,
     "metadata": {},
     "output_type": "execute_result"
    }
   ],
   "source": [
    "lat,lon,mtime"
   ]
  },
  {
   "cell_type": "code",
   "execution_count": 118,
   "metadata": {
    "collapsed": false
   },
   "outputs": [
    {
     "ename": "SyntaxError",
     "evalue": "invalid syntax (<ipython-input-118-819d3bb21dd0>, line 5)",
     "output_type": "error",
     "traceback": [
      "\u001b[1;36m  File \u001b[1;32m\"<ipython-input-118-819d3bb21dd0>\"\u001b[1;36m, line \u001b[1;32m5\u001b[0m\n\u001b[1;33m    B =  .808 - (.0085*p)\u001b[0m\n\u001b[1;37m    ^\u001b[0m\n\u001b[1;31mSyntaxError\u001b[0m\u001b[1;31m:\u001b[0m invalid syntax\n"
     ]
    }
   ],
   "source": [
    "#The p here is for depth...maybe\n",
    "#That's why it said the unit was km\n",
    "def dens_formula(p , t , s):\n",
    "    C = (999.83 + (5.053*p) - (.048*(p**2))\n",
    "    B =  .808 - (.0085*p)\n",
    "    a = .0708*((1 + (.351*p)) + .068*(1 - (.0683*p))*t)\n",
    "    y = .003*(1 - (.059*p) - .012*(1 - .064*p)*t)\n",
    "    dens = C + (B*s) - (a*t) - ((y*(35 - s))*t)\n",
    "    return dens"
   ]
  },
  {
   "cell_type": "code",
   "execution_count": 115,
   "metadata": {
    "collapsed": false
   },
   "outputs": [
    {
     "data": {
      "text/plain": [
       "1039.220347679988"
      ]
     },
     "execution_count": 115,
     "metadata": {},
     "output_type": "execute_result"
    }
   ],
   "source": [
    "dens_formula(p , t , s)"
   ]
  },
  {
   "cell_type": "code",
   "execution_count": null,
   "metadata": {
    "collapsed": true
   },
   "outputs": [],
   "source": [
    "def dens_formula(p , t , s):\n",
    "    p = p / 10.0\n",
    "    pw = 999.842594 + ((6.793952 * (10**-abs(2)))*t) - ((9.095290 * (10**-abs(3)))*(t**2)) + ((1.001685 * (10**-abs(4)))*(t**3)) - ((1.120083 * (10**-abs(6)))*(t**4)) + ((6.536332 * (10**-abs(9))*(t**5))        \n",
    "    "
   ]
  }
 ],
 "metadata": {
  "kernelspec": {
   "display_name": "Python 2",
   "language": "python",
   "name": "python2"
  },
  "language_info": {
   "codemirror_mode": {
    "name": "ipython",
    "version": 2
   },
   "file_extension": ".py",
   "mimetype": "text/x-python",
   "name": "python",
   "nbconvert_exporter": "python",
   "pygments_lexer": "ipython2",
   "version": "2.7.9"
  }
 },
 "nbformat": 4,
 "nbformat_minor": 0
}
