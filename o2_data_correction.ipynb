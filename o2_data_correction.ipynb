{
 "cells": [
  {
   "cell_type": "code",
   "execution_count": 1,
   "metadata": {
    "collapsed": false
   },
   "outputs": [],
   "source": [
    "#Saturated Oxygen Data Correction\n",
    "from oxyfloat import OxyFloat, RequiredVariableNotPresent, OpenDAPServerError\n",
    "\n",
    "of = OxyFloat()"
   ]
  },
  {
   "cell_type": "code",
   "execution_count": null,
   "metadata": {
    "collapsed": false
   },
   "outputs": [],
   "source": [
    "oga_floats = of.get_oxy_floats()"
   ]
  },
  {
   "cell_type": "code",
   "execution_count": null,
   "metadata": {
    "collapsed": true
   },
   "outputs": [],
   "source": [
    "# Testing with a float that has data\n",
    "oga_floats = ['1900650']\n",
    "test_file = 'D1900650_137.nc'"
   ]
  },
  {
   "cell_type": "code",
   "execution_count": null,
   "metadata": {
    "collapsed": false
   },
   "outputs": [],
   "source": [
    "for dac_url in of.get_dac_urls(oga_floats):\n",
    "    for profile_url in of.get_profile_opendap_urls(dac_url):\n",
    "        if test_file:\n",
    "            if not profile_url.endswith(test_file):\n",
    "                continue\n",
    "        print 'Reading data from ...%s', profile_url[40:]\n",
    "        try:\n",
    "            d = of.get_profile_data(profile_url)\n",
    "        except RequiredVariableNotPresent as e:\n",
    "            print e\n",
    "        except OpenDAPServerError as e:\n",
    "            print e"
   ]
  },
  {
   "cell_type": "code",
   "execution_count": null,
   "metadata": {
    "collapsed": false
   },
   "outputs": [],
   "source": [
    "# Demonstrate reading the data\n",
    "print d.keys()\n",
    "print d['p'][0]['long_name'] + ' (' + d['p'][0]['units'] + ')'\n",
    "print d['p'][1][:10]\n",
    "print d['o'][0]['long_name'] + ' (' + d['o'][0]['units'] + ')'\n",
    "print d['o'][1][:10]"
   ]
  },
  {
   "cell_type": "markdown",
   "metadata": {},
   "source": [
    "The code below is form the old notebook. Some of it may be folded into oxyfloat functions."
   ]
  },
  {
   "cell_type": "code",
   "execution_count": null,
   "metadata": {
    "collapsed": false,
    "scrolled": true
   },
   "outputs": [],
   "source": [
    "floatLookup = {}\n",
    "for url in urls:\n",
    "    print url\n",
    "    ds = Dataset(url)\n",
    "    floatNum = url.split('/')[9]\n",
    "    print floatNum\n",
    "    p,t,s,o = (ds.variables['PRES_ADJUSTED'][0][0], ds.variables['TEMP_ADJUSTED'][0][0], \n",
    "               ds.variables['PSAL_ADJUSTED'][0][0], ds.variables['DOXY_ADJUSTED'][0][0])\n",
    "    lat,lon,mtime = (ds.variables['LATITUDE'][0], ds.variables['LONGITUDE'][0], ds.variables['JULD'][0])\n",
    "    \n",
    "    # Convert o from micromol/kg to ml/l \n",
    "    ##perc_sat = 100 * convertTomll(o) / satO2(s,t) \n",
    "    print s,t,perc_sat\n",
    "    floatLookup[floatNum] = (p,t,s,o,lat,lon,mtime)"
   ]
  },
  {
   "cell_type": "code",
   "execution_count": null,
   "metadata": {
    "collapsed": false,
    "scrolled": true
   },
   "outputs": [],
   "source": [
    "floatLookup"
   ]
  },
  {
   "cell_type": "code",
   "execution_count": null,
   "metadata": {
    "collapsed": false
   },
   "outputs": [],
   "source": [
    "p,t,s,o = (ds.variables['PRES_ADJUSTED'][0][0], ds.variables['TEMP_ADJUSTED'][0][0], ds.variables['PSAL_ADJUSTED'][0][0], ds.variables['DOXY_ADJUSTED'][0][0])"
   ]
  },
  {
   "cell_type": "code",
   "execution_count": null,
   "metadata": {
    "collapsed": false,
    "scrolled": true
   },
   "outputs": [],
   "source": [
    "p,t,s,o"
   ]
  },
  {
   "cell_type": "code",
   "execution_count": null,
   "metadata": {
    "collapsed": false
   },
   "outputs": [],
   "source": [
    "lat,lon,mtime = (ds.variables['LATITUDE'][0], ds.variables['LONGITUDE'][0], ds.variables['JULD'][0])"
   ]
  },
  {
   "cell_type": "code",
   "execution_count": null,
   "metadata": {
    "collapsed": false,
    "scrolled": true
   },
   "outputs": [],
   "source": [
    "lat,lon,mtime"
   ]
  }
 ],
 "metadata": {
  "kernelspec": {
   "display_name": "Python 2",
   "language": "python",
   "name": "python2"
  },
  "language_info": {
   "codemirror_mode": {
    "name": "ipython",
    "version": 2
   },
   "file_extension": ".py",
   "mimetype": "text/x-python",
   "name": "python",
   "nbconvert_exporter": "python",
   "pygments_lexer": "ipython2",
   "version": "2.7.9"
  }
 },
 "nbformat": 4,
 "nbformat_minor": 0
}
