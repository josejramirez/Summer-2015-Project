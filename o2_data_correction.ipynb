{
 "cells": [
  {
   "cell_type": "code",
   "execution_count": 1,
   "metadata": {
    "collapsed": false
   },
   "outputs": [],
   "source": [
    "#Saturated Oxygen Data Correction\n",
    "from oxyfloat import OxyFloat, RequiredVariableNotPresent, OpenDAPServerError\n",
    "\n",
    "of = OxyFloat()"
   ]
  },
  {
   "cell_type": "code",
   "execution_count": 2,
   "metadata": {
    "collapsed": false
   },
   "outputs": [],
   "source": [
    "oga_floats = of.get_oxy_floats()"
   ]
  },
  {
   "cell_type": "code",
   "execution_count": 3,
   "metadata": {
    "collapsed": false
   },
   "outputs": [
    {
     "name": "stdout",
     "output_type": "stream",
     "text": [
      "Reading data from ...%s /IMOS/Argo/dac/aoml/1900722/profiles/MD1900722_135.nc\n",
      "Can't read data from http://thredds.aodn.org.au/thredds/dodsC/IMOS/Argo/dac/aoml/1900722/profiles/MD1900722_135.nc\n",
      "Reading data from ...%s /IMOS/Argo/dac/aoml/1900722/profiles/MD1900722_134.nc\n",
      "Can't read data from http://thredds.aodn.org.au/thredds/dodsC/IMOS/Argo/dac/aoml/1900722/profiles/MD1900722_134.nc\n",
      "Reading data from ...%s /IMOS/Argo/dac/aoml/1900722/profiles/MD1900722_133.nc\n",
      "Can't read data from http://thredds.aodn.org.au/thredds/dodsC/IMOS/Argo/dac/aoml/1900722/profiles/MD1900722_133.nc\n",
      "Reading data from ...%s /IMOS/Argo/dac/aoml/1900722/profiles/MD1900722_132.nc\n",
      "Can't read data from http://thredds.aodn.org.au/thredds/dodsC/IMOS/Argo/dac/aoml/1900722/profiles/MD1900722_132.nc\n",
      "Reading data from ...%s /IMOS/Argo/dac/aoml/1900722/profiles/MD1900722_131.nc\n",
      "Can't read data from http://thredds.aodn.org.au/thredds/dodsC/IMOS/Argo/dac/aoml/1900722/profiles/MD1900722_131.nc\n",
      "Reading data from ...%s /IMOS/Argo/dac/aoml/1900722/profiles/MD1900722_130.nc\n",
      "Can't read data from http://thredds.aodn.org.au/thredds/dodsC/IMOS/Argo/dac/aoml/1900722/profiles/MD1900722_130.nc\n",
      "Reading data from ...%s /IMOS/Argo/dac/aoml/1900722/profiles/MD1900722_129.nc\n",
      "Can't read data from http://thredds.aodn.org.au/thredds/dodsC/IMOS/Argo/dac/aoml/1900722/profiles/MD1900722_129.nc\n",
      "Reading data from ...%s /IMOS/Argo/dac/aoml/1900722/profiles/MD1900722_128.nc\n",
      "Can't read data from http://thredds.aodn.org.au/thredds/dodsC/IMOS/Argo/dac/aoml/1900722/profiles/MD1900722_128.nc\n",
      "Reading data from ...%s /IMOS/Argo/dac/aoml/1900722/profiles/MD1900722_127.nc\n",
      "Can't read data from http://thredds.aodn.org.au/thredds/dodsC/IMOS/Argo/dac/aoml/1900722/profiles/MD1900722_127.nc\n",
      "Reading data from ...%s /IMOS/Argo/dac/aoml/1900722/profiles/MD1900722_126.nc\n",
      "Can't read data from http://thredds.aodn.org.au/thredds/dodsC/IMOS/Argo/dac/aoml/1900722/profiles/MD1900722_126.nc\n",
      "Reading data from ...%s /IMOS/Argo/dac/aoml/1900722/profiles/MD1900722_125.nc\n",
      "Can't read data from http://thredds.aodn.org.au/thredds/dodsC/IMOS/Argo/dac/aoml/1900722/profiles/MD1900722_125.nc\n",
      "Reading data from ...%s /IMOS/Argo/dac/aoml/1900722/profiles/MD1900722_124.nc\n",
      "Can't read data from http://thredds.aodn.org.au/thredds/dodsC/IMOS/Argo/dac/aoml/1900722/profiles/MD1900722_124.nc\n",
      "Reading data from ...%s /IMOS/Argo/dac/aoml/1900722/profiles/MD1900722_123.nc\n",
      "Can't read data from http://thredds.aodn.org.au/thredds/dodsC/IMOS/Argo/dac/aoml/1900722/profiles/MD1900722_123.nc\n",
      "Reading data from ...%s /IMOS/Argo/dac/aoml/1900722/profiles/MD1900722_122.nc\n",
      "Can't read data from http://thredds.aodn.org.au/thredds/dodsC/IMOS/Argo/dac/aoml/1900722/profiles/MD1900722_122.nc\n",
      "Reading data from ...%s /IMOS/Argo/dac/aoml/1900722/profiles/MD1900722_121.nc\n",
      "Can't read data from http://thredds.aodn.org.au/thredds/dodsC/IMOS/Argo/dac/aoml/1900722/profiles/MD1900722_121.nc\n",
      "Reading data from ...%s /IMOS/Argo/dac/aoml/1900722/profiles/MD1900722_120.nc\n",
      "Can't read data from http://thredds.aodn.org.au/thredds/dodsC/IMOS/Argo/dac/aoml/1900722/profiles/MD1900722_120.nc\n",
      "Reading data from ...%s /IMOS/Argo/dac/aoml/1900722/profiles/MD1900722_119.nc\n",
      "Can't read data from http://thredds.aodn.org.au/thredds/dodsC/IMOS/Argo/dac/aoml/1900722/profiles/MD1900722_119.nc\n",
      "Reading data from ...%s /IMOS/Argo/dac/aoml/1900722/profiles/MD1900722_118.nc\n",
      "Can't read data from http://thredds.aodn.org.au/thredds/dodsC/IMOS/Argo/dac/aoml/1900722/profiles/MD1900722_118.nc\n",
      "Reading data from ...%s /IMOS/Argo/dac/aoml/1900722/profiles/MD1900722_117.nc\n",
      "Can't read data from http://thredds.aodn.org.au/thredds/dodsC/IMOS/Argo/dac/aoml/1900722/profiles/MD1900722_117.nc\n",
      "Reading data from ...%s /IMOS/Argo/dac/aoml/1900722/profiles/MD1900722_116.nc\n",
      "Can't read data from http://thredds.aodn.org.au/thredds/dodsC/IMOS/Argo/dac/aoml/1900722/profiles/MD1900722_116.nc\n",
      "Reading data from ...%s /IMOS/Argo/dac/aoml/1900722/profiles/MD1900722_115.nc\n",
      "Can't read data from http://thredds.aodn.org.au/thredds/dodsC/IMOS/Argo/dac/aoml/1900722/profiles/MD1900722_115.nc\n",
      "Reading data from ...%s /IMOS/Argo/dac/aoml/1900722/profiles/MD1900722_114.nc\n",
      "Can't read data from http://thredds.aodn.org.au/thredds/dodsC/IMOS/Argo/dac/aoml/1900722/profiles/MD1900722_114.nc\n",
      "Reading data from ...%s /IMOS/Argo/dac/aoml/1900722/profiles/MD1900722_113.nc\n",
      "Can't read data from http://thredds.aodn.org.au/thredds/dodsC/IMOS/Argo/dac/aoml/1900722/profiles/MD1900722_113.nc\n",
      "Reading data from ...%s /IMOS/Argo/dac/aoml/1900722/profiles/MD1900722_112.nc\n",
      "Can't read data from http://thredds.aodn.org.au/thredds/dodsC/IMOS/Argo/dac/aoml/1900722/profiles/MD1900722_112.nc\n",
      "Reading data from ...%s /IMOS/Argo/dac/aoml/1900722/profiles/MD1900722_111.nc\n",
      "Can't read data from http://thredds.aodn.org.au/thredds/dodsC/IMOS/Argo/dac/aoml/1900722/profiles/MD1900722_111.nc\n",
      "Reading data from ...%s /IMOS/Argo/dac/aoml/1900722/profiles/MD1900722_110.nc\n",
      "Can't read data from http://thredds.aodn.org.au/thredds/dodsC/IMOS/Argo/dac/aoml/1900722/profiles/MD1900722_110.nc\n",
      "Reading data from ...%s /IMOS/Argo/dac/aoml/1900722/profiles/MD1900722_109.nc\n",
      "Can't read data from http://thredds.aodn.org.au/thredds/dodsC/IMOS/Argo/dac/aoml/1900722/profiles/MD1900722_109.nc\n",
      "Reading data from ...%s /IMOS/Argo/dac/aoml/1900722/profiles/MD1900722_108.nc\n",
      "Can't read data from http://thredds.aodn.org.au/thredds/dodsC/IMOS/Argo/dac/aoml/1900722/profiles/MD1900722_108.nc\n",
      "Reading data from ...%s /IMOS/Argo/dac/aoml/1900722/profiles/MD1900722_107.nc\n",
      "Can't read data from http://thredds.aodn.org.au/thredds/dodsC/IMOS/Argo/dac/aoml/1900722/profiles/MD1900722_107.nc\n",
      "Reading data from ...%s /IMOS/Argo/dac/aoml/1900722/profiles/MD1900722_106.nc\n",
      "Can't read data from http://thredds.aodn.org.au/thredds/dodsC/IMOS/Argo/dac/aoml/1900722/profiles/MD1900722_106.nc\n",
      "Reading data from ...%s /IMOS/Argo/dac/aoml/1900722/profiles/MD1900722_105.nc\n",
      "Can't read data from http://thredds.aodn.org.au/thredds/dodsC/IMOS/Argo/dac/aoml/1900722/profiles/MD1900722_105.nc\n",
      "Reading data from ...%s /IMOS/Argo/dac/aoml/1900722/profiles/MD1900722_104.nc\n",
      "Can't read data from http://thredds.aodn.org.au/thredds/dodsC/IMOS/Argo/dac/aoml/1900722/profiles/MD1900722_104.nc\n",
      "Reading data from ...%s /IMOS/Argo/dac/aoml/1900722/profiles/MD1900722_103.nc\n",
      "Can't read data from http://thredds.aodn.org.au/thredds/dodsC/IMOS/Argo/dac/aoml/1900722/profiles/MD1900722_103.nc\n",
      "Reading data from ...%s /IMOS/Argo/dac/aoml/1900722/profiles/MD1900722_102.nc\n",
      "Can't read data from http://thredds.aodn.org.au/thredds/dodsC/IMOS/Argo/dac/aoml/1900722/profiles/MD1900722_102.nc\n",
      "Reading data from ...%s /IMOS/Argo/dac/aoml/1900722/profiles/MD1900722_101.nc\n",
      "Can't read data from http://thredds.aodn.org.au/thredds/dodsC/IMOS/Argo/dac/aoml/1900722/profiles/MD1900722_101.nc\n",
      "Reading data from ...%s /IMOS/Argo/dac/aoml/1900722/profiles/MD1900722_100.nc\n"
     ]
    },
    {
     "ename": "KeyboardInterrupt",
     "evalue": "",
     "output_type": "error",
     "traceback": [
      "\u001b[1;31m---------------------------------------------------------------------------\u001b[0m",
      "\u001b[1;31mKeyboardInterrupt\u001b[0m                         Traceback (most recent call last)",
      "\u001b[1;32m<ipython-input-3-7d93888c1169>\u001b[0m in \u001b[0;36m<module>\u001b[1;34m()\u001b[0m\n\u001b[0;32m      3\u001b[0m         \u001b[1;32mprint\u001b[0m \u001b[1;34m'Reading data from ...%s'\u001b[0m\u001b[1;33m,\u001b[0m \u001b[0mprofile_url\u001b[0m\u001b[1;33m[\u001b[0m\u001b[1;36m40\u001b[0m\u001b[1;33m:\u001b[0m\u001b[1;33m]\u001b[0m\u001b[1;33m\u001b[0m\u001b[0m\n\u001b[0;32m      4\u001b[0m         \u001b[1;32mtry\u001b[0m\u001b[1;33m:\u001b[0m\u001b[1;33m\u001b[0m\u001b[0m\n\u001b[1;32m----> 5\u001b[1;33m             \u001b[0mfloat_data\u001b[0m \u001b[1;33m=\u001b[0m \u001b[0mof\u001b[0m\u001b[1;33m.\u001b[0m\u001b[0mget_profile_data\u001b[0m\u001b[1;33m(\u001b[0m\u001b[0mprofile_url\u001b[0m\u001b[1;33m)\u001b[0m\u001b[1;33m\u001b[0m\u001b[0m\n\u001b[0m\u001b[0;32m      6\u001b[0m         \u001b[1;32mexcept\u001b[0m \u001b[0mRequiredVariableNotPresent\u001b[0m \u001b[1;32mas\u001b[0m \u001b[0me\u001b[0m\u001b[1;33m:\u001b[0m\u001b[1;33m\u001b[0m\u001b[0m\n\u001b[0;32m      7\u001b[0m             \u001b[1;32mprint\u001b[0m \u001b[0me\u001b[0m\u001b[1;33m\u001b[0m\u001b[0m\n",
      "\u001b[1;32m/home/mccann/dev/Summer-2015-Project/oxyfloat/__init__.pyc\u001b[0m in \u001b[0;36mget_profile_data\u001b[1;34m(self, url)\u001b[0m\n\u001b[0;32m    134\u001b[0m         '''\n\u001b[0;32m    135\u001b[0m         \u001b[0mself\u001b[0m\u001b[1;33m.\u001b[0m\u001b[0mlogger\u001b[0m\u001b[1;33m.\u001b[0m\u001b[0mdebug\u001b[0m\u001b[1;33m(\u001b[0m\u001b[1;34m'Opening %s'\u001b[0m\u001b[1;33m,\u001b[0m \u001b[0murl\u001b[0m\u001b[1;33m)\u001b[0m\u001b[1;33m\u001b[0m\u001b[0m\n\u001b[1;32m--> 136\u001b[1;33m         \u001b[0mds\u001b[0m \u001b[1;33m=\u001b[0m \u001b[0mpydap\u001b[0m\u001b[1;33m.\u001b[0m\u001b[0mclient\u001b[0m\u001b[1;33m.\u001b[0m\u001b[0mopen_url\u001b[0m\u001b[1;33m(\u001b[0m\u001b[0murl\u001b[0m\u001b[1;33m)\u001b[0m\u001b[1;33m\u001b[0m\u001b[0m\n\u001b[0m\u001b[0;32m    137\u001b[0m         \u001b[0mself\u001b[0m\u001b[1;33m.\u001b[0m\u001b[0mlogger\u001b[0m\u001b[1;33m.\u001b[0m\u001b[0mdebug\u001b[0m\u001b[1;33m(\u001b[0m\u001b[1;34m'Checking %s'\u001b[0m\u001b[1;33m,\u001b[0m \u001b[0murl\u001b[0m\u001b[1;33m)\u001b[0m\u001b[1;33m\u001b[0m\u001b[0m\n\u001b[0;32m    138\u001b[0m         for v in ('PRES_ADJUSTED', 'TEMP_ADJUSTED', 'PSAL_ADJUSTED',\n",
      "\u001b[1;32m/home/mccann/VirtualEnvs/development/lib/python2.7/site-packages/pydap/client.pyc\u001b[0m in \u001b[0;36mopen_url\u001b[1;34m(url)\u001b[0m\n\u001b[0;32m     58\u001b[0m     \"\"\"\n\u001b[0;32m     59\u001b[0m     \u001b[1;32mfor\u001b[0m \u001b[0mresponse\u001b[0m \u001b[1;32min\u001b[0m \u001b[1;33m[\u001b[0m\u001b[0m_ddx\u001b[0m\u001b[1;33m,\u001b[0m \u001b[0m_ddsdas\u001b[0m\u001b[1;33m]\u001b[0m\u001b[1;33m:\u001b[0m\u001b[1;33m\u001b[0m\u001b[0m\n\u001b[1;32m---> 60\u001b[1;33m         \u001b[0mdataset\u001b[0m \u001b[1;33m=\u001b[0m \u001b[0mresponse\u001b[0m\u001b[1;33m(\u001b[0m\u001b[0murl\u001b[0m\u001b[1;33m)\u001b[0m\u001b[1;33m\u001b[0m\u001b[0m\n\u001b[0m\u001b[0;32m     61\u001b[0m         \u001b[1;32mif\u001b[0m \u001b[0mdataset\u001b[0m\u001b[1;33m:\u001b[0m \u001b[1;32mbreak\u001b[0m\u001b[1;33m\u001b[0m\u001b[0m\n\u001b[0;32m     62\u001b[0m     \u001b[1;32melse\u001b[0m\u001b[1;33m:\u001b[0m\u001b[1;33m\u001b[0m\u001b[0m\n",
      "\u001b[1;32m/home/mccann/VirtualEnvs/development/lib/python2.7/site-packages/pydap/client.pyc\u001b[0m in \u001b[0;36m_ddsdas\u001b[1;34m(url)\u001b[0m\n\u001b[0;32m    204\u001b[0m             (scheme, netloc, path + '.das', query, fragment))\n\u001b[0;32m    205\u001b[0m \u001b[1;33m\u001b[0m\u001b[0m\n\u001b[1;32m--> 206\u001b[1;33m     \u001b[0mrespdds\u001b[0m\u001b[1;33m,\u001b[0m \u001b[0mdds\u001b[0m \u001b[1;33m=\u001b[0m \u001b[0mrequest\u001b[0m\u001b[1;33m(\u001b[0m\u001b[0mddsurl\u001b[0m\u001b[1;33m)\u001b[0m\u001b[1;33m\u001b[0m\u001b[0m\n\u001b[0m\u001b[0;32m    207\u001b[0m     \u001b[0mrespdas\u001b[0m\u001b[1;33m,\u001b[0m \u001b[0mdas\u001b[0m \u001b[1;33m=\u001b[0m \u001b[0mrequest\u001b[0m\u001b[1;33m(\u001b[0m\u001b[0mdasurl\u001b[0m\u001b[1;33m)\u001b[0m\u001b[1;33m\u001b[0m\u001b[0m\n\u001b[0;32m    208\u001b[0m \u001b[1;33m\u001b[0m\u001b[0m\n",
      "\u001b[1;32m/home/mccann/VirtualEnvs/development/lib/python2.7/site-packages/pydap/util/http.pyc\u001b[0m in \u001b[0;36mrequest\u001b[1;34m(url)\u001b[0m\n\u001b[0;32m     40\u001b[0m     resp, data = h.request(url, \"GET\", headers = {\n\u001b[0;32m     41\u001b[0m         \u001b[1;34m'user-agent'\u001b[0m\u001b[1;33m:\u001b[0m \u001b[0mpydap\u001b[0m\u001b[1;33m.\u001b[0m\u001b[0mlib\u001b[0m\u001b[1;33m.\u001b[0m\u001b[0mUSER_AGENT\u001b[0m\u001b[1;33m,\u001b[0m\u001b[1;33m\u001b[0m\u001b[0m\n\u001b[1;32m---> 42\u001b[1;33m         'connection': 'close'})\n\u001b[0m\u001b[0;32m     43\u001b[0m \u001b[1;33m\u001b[0m\u001b[0m\n\u001b[0;32m     44\u001b[0m     \u001b[1;31m# When an error is returned, we parse the error message from the\u001b[0m\u001b[1;33m\u001b[0m\u001b[1;33m\u001b[0m\u001b[0m\n",
      "\u001b[1;32m/home/mccann/VirtualEnvs/development/lib/python2.7/site-packages/httplib2/__init__.pyc\u001b[0m in \u001b[0;36mrequest\u001b[1;34m(self, uri, method, body, headers, redirections, connection_type)\u001b[0m\n\u001b[0;32m   1606\u001b[0m                     \u001b[0mcontent\u001b[0m \u001b[1;33m=\u001b[0m \u001b[1;34m\"\"\u001b[0m\u001b[1;33m\u001b[0m\u001b[0m\n\u001b[0;32m   1607\u001b[0m                 \u001b[1;32melse\u001b[0m\u001b[1;33m:\u001b[0m\u001b[1;33m\u001b[0m\u001b[0m\n\u001b[1;32m-> 1608\u001b[1;33m                     \u001b[1;33m(\u001b[0m\u001b[0mresponse\u001b[0m\u001b[1;33m,\u001b[0m \u001b[0mcontent\u001b[0m\u001b[1;33m)\u001b[0m \u001b[1;33m=\u001b[0m \u001b[0mself\u001b[0m\u001b[1;33m.\u001b[0m\u001b[0m_request\u001b[0m\u001b[1;33m(\u001b[0m\u001b[0mconn\u001b[0m\u001b[1;33m,\u001b[0m \u001b[0mauthority\u001b[0m\u001b[1;33m,\u001b[0m \u001b[0muri\u001b[0m\u001b[1;33m,\u001b[0m \u001b[0mrequest_uri\u001b[0m\u001b[1;33m,\u001b[0m \u001b[0mmethod\u001b[0m\u001b[1;33m,\u001b[0m \u001b[0mbody\u001b[0m\u001b[1;33m,\u001b[0m \u001b[0mheaders\u001b[0m\u001b[1;33m,\u001b[0m \u001b[0mredirections\u001b[0m\u001b[1;33m,\u001b[0m \u001b[0mcachekey\u001b[0m\u001b[1;33m)\u001b[0m\u001b[1;33m\u001b[0m\u001b[0m\n\u001b[0m\u001b[0;32m   1609\u001b[0m         \u001b[1;32mexcept\u001b[0m \u001b[0mException\u001b[0m\u001b[1;33m,\u001b[0m \u001b[0me\u001b[0m\u001b[1;33m:\u001b[0m\u001b[1;33m\u001b[0m\u001b[0m\n\u001b[0;32m   1610\u001b[0m             \u001b[1;32mif\u001b[0m \u001b[0mself\u001b[0m\u001b[1;33m.\u001b[0m\u001b[0mforce_exception_to_status_code\u001b[0m\u001b[1;33m:\u001b[0m\u001b[1;33m\u001b[0m\u001b[0m\n",
      "\u001b[1;32m/home/mccann/VirtualEnvs/development/lib/python2.7/site-packages/httplib2/__init__.pyc\u001b[0m in \u001b[0;36m_request\u001b[1;34m(self, conn, host, absolute_uri, request_uri, method, body, headers, redirections, cachekey)\u001b[0m\n\u001b[0;32m   1348\u001b[0m             \u001b[0mauth\u001b[0m\u001b[1;33m.\u001b[0m\u001b[0mrequest\u001b[0m\u001b[1;33m(\u001b[0m\u001b[0mmethod\u001b[0m\u001b[1;33m,\u001b[0m \u001b[0mrequest_uri\u001b[0m\u001b[1;33m,\u001b[0m \u001b[0mheaders\u001b[0m\u001b[1;33m,\u001b[0m \u001b[0mbody\u001b[0m\u001b[1;33m)\u001b[0m\u001b[1;33m\u001b[0m\u001b[0m\n\u001b[0;32m   1349\u001b[0m \u001b[1;33m\u001b[0m\u001b[0m\n\u001b[1;32m-> 1350\u001b[1;33m         \u001b[1;33m(\u001b[0m\u001b[0mresponse\u001b[0m\u001b[1;33m,\u001b[0m \u001b[0mcontent\u001b[0m\u001b[1;33m)\u001b[0m \u001b[1;33m=\u001b[0m \u001b[0mself\u001b[0m\u001b[1;33m.\u001b[0m\u001b[0m_conn_request\u001b[0m\u001b[1;33m(\u001b[0m\u001b[0mconn\u001b[0m\u001b[1;33m,\u001b[0m \u001b[0mrequest_uri\u001b[0m\u001b[1;33m,\u001b[0m \u001b[0mmethod\u001b[0m\u001b[1;33m,\u001b[0m \u001b[0mbody\u001b[0m\u001b[1;33m,\u001b[0m \u001b[0mheaders\u001b[0m\u001b[1;33m)\u001b[0m\u001b[1;33m\u001b[0m\u001b[0m\n\u001b[0m\u001b[0;32m   1351\u001b[0m \u001b[1;33m\u001b[0m\u001b[0m\n\u001b[0;32m   1352\u001b[0m         \u001b[1;32mif\u001b[0m \u001b[0mauth\u001b[0m\u001b[1;33m:\u001b[0m\u001b[1;33m\u001b[0m\u001b[0m\n",
      "\u001b[1;32m/home/mccann/VirtualEnvs/development/lib/python2.7/site-packages/httplib2/__init__.pyc\u001b[0m in \u001b[0;36m_conn_request\u001b[1;34m(self, conn, request_uri, method, body, headers)\u001b[0m\n\u001b[0;32m   1304\u001b[0m                     \u001b[1;32mcontinue\u001b[0m\u001b[1;33m\u001b[0m\u001b[0m\n\u001b[0;32m   1305\u001b[0m             \u001b[1;32mtry\u001b[0m\u001b[1;33m:\u001b[0m\u001b[1;33m\u001b[0m\u001b[0m\n\u001b[1;32m-> 1306\u001b[1;33m                 \u001b[0mresponse\u001b[0m \u001b[1;33m=\u001b[0m \u001b[0mconn\u001b[0m\u001b[1;33m.\u001b[0m\u001b[0mgetresponse\u001b[0m\u001b[1;33m(\u001b[0m\u001b[1;33m)\u001b[0m\u001b[1;33m\u001b[0m\u001b[0m\n\u001b[0m\u001b[0;32m   1307\u001b[0m             \u001b[1;32mexcept\u001b[0m \u001b[0mhttplib\u001b[0m\u001b[1;33m.\u001b[0m\u001b[0mBadStatusLine\u001b[0m\u001b[1;33m:\u001b[0m\u001b[1;33m\u001b[0m\u001b[0m\n\u001b[0;32m   1308\u001b[0m                 \u001b[1;31m# If we get a BadStatusLine on the first try then that means\u001b[0m\u001b[1;33m\u001b[0m\u001b[1;33m\u001b[0m\u001b[0m\n",
      "\u001b[1;32m/usr/local/lib/python2.7/httplib.pyc\u001b[0m in \u001b[0;36mgetresponse\u001b[1;34m(self, buffering)\u001b[0m\n\u001b[0;32m   1071\u001b[0m         \u001b[0mresponse\u001b[0m \u001b[1;33m=\u001b[0m \u001b[0mself\u001b[0m\u001b[1;33m.\u001b[0m\u001b[0mresponse_class\u001b[0m\u001b[1;33m(\u001b[0m\u001b[1;33m*\u001b[0m\u001b[0margs\u001b[0m\u001b[1;33m,\u001b[0m \u001b[1;33m**\u001b[0m\u001b[0mkwds\u001b[0m\u001b[1;33m)\u001b[0m\u001b[1;33m\u001b[0m\u001b[0m\n\u001b[0;32m   1072\u001b[0m \u001b[1;33m\u001b[0m\u001b[0m\n\u001b[1;32m-> 1073\u001b[1;33m         \u001b[0mresponse\u001b[0m\u001b[1;33m.\u001b[0m\u001b[0mbegin\u001b[0m\u001b[1;33m(\u001b[0m\u001b[1;33m)\u001b[0m\u001b[1;33m\u001b[0m\u001b[0m\n\u001b[0m\u001b[0;32m   1074\u001b[0m         \u001b[1;32massert\u001b[0m \u001b[0mresponse\u001b[0m\u001b[1;33m.\u001b[0m\u001b[0mwill_close\u001b[0m \u001b[1;33m!=\u001b[0m \u001b[0m_UNKNOWN\u001b[0m\u001b[1;33m\u001b[0m\u001b[0m\n\u001b[0;32m   1075\u001b[0m         \u001b[0mself\u001b[0m\u001b[1;33m.\u001b[0m\u001b[0m__state\u001b[0m \u001b[1;33m=\u001b[0m \u001b[0m_CS_IDLE\u001b[0m\u001b[1;33m\u001b[0m\u001b[0m\n",
      "\u001b[1;32m/usr/local/lib/python2.7/httplib.pyc\u001b[0m in \u001b[0;36mbegin\u001b[1;34m(self)\u001b[0m\n\u001b[0;32m    413\u001b[0m         \u001b[1;31m# read until we get a non-100 response\u001b[0m\u001b[1;33m\u001b[0m\u001b[1;33m\u001b[0m\u001b[0m\n\u001b[0;32m    414\u001b[0m         \u001b[1;32mwhile\u001b[0m \u001b[0mTrue\u001b[0m\u001b[1;33m:\u001b[0m\u001b[1;33m\u001b[0m\u001b[0m\n\u001b[1;32m--> 415\u001b[1;33m             \u001b[0mversion\u001b[0m\u001b[1;33m,\u001b[0m \u001b[0mstatus\u001b[0m\u001b[1;33m,\u001b[0m \u001b[0mreason\u001b[0m \u001b[1;33m=\u001b[0m \u001b[0mself\u001b[0m\u001b[1;33m.\u001b[0m\u001b[0m_read_status\u001b[0m\u001b[1;33m(\u001b[0m\u001b[1;33m)\u001b[0m\u001b[1;33m\u001b[0m\u001b[0m\n\u001b[0m\u001b[0;32m    416\u001b[0m             \u001b[1;32mif\u001b[0m \u001b[0mstatus\u001b[0m \u001b[1;33m!=\u001b[0m \u001b[0mCONTINUE\u001b[0m\u001b[1;33m:\u001b[0m\u001b[1;33m\u001b[0m\u001b[0m\n\u001b[0;32m    417\u001b[0m                 \u001b[1;32mbreak\u001b[0m\u001b[1;33m\u001b[0m\u001b[0m\n",
      "\u001b[1;32m/usr/local/lib/python2.7/httplib.pyc\u001b[0m in \u001b[0;36m_read_status\u001b[1;34m(self)\u001b[0m\n\u001b[0;32m    369\u001b[0m     \u001b[1;32mdef\u001b[0m \u001b[0m_read_status\u001b[0m\u001b[1;33m(\u001b[0m\u001b[0mself\u001b[0m\u001b[1;33m)\u001b[0m\u001b[1;33m:\u001b[0m\u001b[1;33m\u001b[0m\u001b[0m\n\u001b[0;32m    370\u001b[0m         \u001b[1;31m# Initialize with Simple-Response defaults\u001b[0m\u001b[1;33m\u001b[0m\u001b[1;33m\u001b[0m\u001b[0m\n\u001b[1;32m--> 371\u001b[1;33m         \u001b[0mline\u001b[0m \u001b[1;33m=\u001b[0m \u001b[0mself\u001b[0m\u001b[1;33m.\u001b[0m\u001b[0mfp\u001b[0m\u001b[1;33m.\u001b[0m\u001b[0mreadline\u001b[0m\u001b[1;33m(\u001b[0m\u001b[0m_MAXLINE\u001b[0m \u001b[1;33m+\u001b[0m \u001b[1;36m1\u001b[0m\u001b[1;33m)\u001b[0m\u001b[1;33m\u001b[0m\u001b[0m\n\u001b[0m\u001b[0;32m    372\u001b[0m         \u001b[1;32mif\u001b[0m \u001b[0mlen\u001b[0m\u001b[1;33m(\u001b[0m\u001b[0mline\u001b[0m\u001b[1;33m)\u001b[0m \u001b[1;33m>\u001b[0m \u001b[0m_MAXLINE\u001b[0m\u001b[1;33m:\u001b[0m\u001b[1;33m\u001b[0m\u001b[0m\n\u001b[0;32m    373\u001b[0m             \u001b[1;32mraise\u001b[0m \u001b[0mLineTooLong\u001b[0m\u001b[1;33m(\u001b[0m\u001b[1;34m\"header line\"\u001b[0m\u001b[1;33m)\u001b[0m\u001b[1;33m\u001b[0m\u001b[0m\n",
      "\u001b[1;32m/usr/local/lib/python2.7/socket.pyc\u001b[0m in \u001b[0;36mreadline\u001b[1;34m(self, size)\u001b[0m\n\u001b[0;32m    474\u001b[0m             \u001b[1;32mwhile\u001b[0m \u001b[0mTrue\u001b[0m\u001b[1;33m:\u001b[0m\u001b[1;33m\u001b[0m\u001b[0m\n\u001b[0;32m    475\u001b[0m                 \u001b[1;32mtry\u001b[0m\u001b[1;33m:\u001b[0m\u001b[1;33m\u001b[0m\u001b[0m\n\u001b[1;32m--> 476\u001b[1;33m                     \u001b[0mdata\u001b[0m \u001b[1;33m=\u001b[0m \u001b[0mself\u001b[0m\u001b[1;33m.\u001b[0m\u001b[0m_sock\u001b[0m\u001b[1;33m.\u001b[0m\u001b[0mrecv\u001b[0m\u001b[1;33m(\u001b[0m\u001b[0mself\u001b[0m\u001b[1;33m.\u001b[0m\u001b[0m_rbufsize\u001b[0m\u001b[1;33m)\u001b[0m\u001b[1;33m\u001b[0m\u001b[0m\n\u001b[0m\u001b[0;32m    477\u001b[0m                 \u001b[1;32mexcept\u001b[0m \u001b[0merror\u001b[0m\u001b[1;33m,\u001b[0m \u001b[0me\u001b[0m\u001b[1;33m:\u001b[0m\u001b[1;33m\u001b[0m\u001b[0m\n\u001b[0;32m    478\u001b[0m                     \u001b[1;32mif\u001b[0m \u001b[0me\u001b[0m\u001b[1;33m.\u001b[0m\u001b[0margs\u001b[0m\u001b[1;33m[\u001b[0m\u001b[1;36m0\u001b[0m\u001b[1;33m]\u001b[0m \u001b[1;33m==\u001b[0m \u001b[0mEINTR\u001b[0m\u001b[1;33m:\u001b[0m\u001b[1;33m\u001b[0m\u001b[0m\n",
      "\u001b[1;31mKeyboardInterrupt\u001b[0m: "
     ]
    }
   ],
   "source": [
    "for dac_url in of.get_dac_urls(oga_floats):\n",
    "    for profile_url in of.get_profile_opendap_urls(dac_url):\n",
    "        print 'Reading data from ...%s', profile_url[40:]\n",
    "        try:\n",
    "            float_data = of.get_profile_data(profile_url)\n",
    "        except RequiredVariableNotPresent as e:\n",
    "            print e\n",
    "        except OpenDAPServerError as e:\n",
    "            print e\n",
    "        else:\n",
    "            print float_data\n"
   ]
  },
  {
   "cell_type": "markdown",
   "metadata": {},
   "source": [
    "The above cell failed with a chashing of the kernel at the 'ds = Dataset(url)' call.\n",
    "\n",
    "The code below is form the old notebook. Some of it may be folded into oxyfloat functions."
   ]
  },
  {
   "cell_type": "code",
   "execution_count": null,
   "metadata": {
    "collapsed": false,
    "scrolled": true
   },
   "outputs": [],
   "source": [
    "floatLookup = {}\n",
    "for url in urls:\n",
    "    print url\n",
    "    ds = Dataset(url)\n",
    "    floatNum = url.split('/')[9]\n",
    "    print floatNum\n",
    "    p,t,s,o = (ds.variables['PRES_ADJUSTED'][0][0], ds.variables['TEMP_ADJUSTED'][0][0], \n",
    "               ds.variables['PSAL_ADJUSTED'][0][0], ds.variables['DOXY_ADJUSTED'][0][0])\n",
    "    lat,lon,mtime = (ds.variables['LATITUDE'][0], ds.variables['LONGITUDE'][0], ds.variables['JULD'][0])\n",
    "    \n",
    "    # Convert o from micromol/kg to ml/l \n",
    "    ##perc_sat = 100 * convertTomll(o) / satO2(s,t) \n",
    "    print s,t,perc_sat\n",
    "    floatLookup[floatNum] = (p,t,s,o,lat,lon,mtime)"
   ]
  },
  {
   "cell_type": "code",
   "execution_count": null,
   "metadata": {
    "collapsed": false,
    "scrolled": true
   },
   "outputs": [],
   "source": [
    "floatLookup"
   ]
  },
  {
   "cell_type": "code",
   "execution_count": 33,
   "metadata": {
    "collapsed": false
   },
   "outputs": [
    {
     "name": "stdout",
     "output_type": "stream",
     "text": [
      "\n"
     ]
    }
   ],
   "source": [
    "p,t,s,o = (ds.variables['PRES_ADJUSTED'][0][0], ds.variables['TEMP_ADJUSTED'][0][0], ds.variables['PSAL_ADJUSTED'][0][0], ds.variables['DOXY_ADJUSTED'][0][0])"
   ]
  },
  {
   "cell_type": "code",
   "execution_count": 53,
   "metadata": {
    "collapsed": false,
    "scrolled": true
   },
   "outputs": [
    {
     "data": {
      "text/plain": [
       "(4.3000002, 29.790001, 34.827457, 206.49001)"
      ]
     },
     "execution_count": 53,
     "metadata": {},
     "output_type": "execute_result"
    }
   ],
   "source": [
    "p,t,s,o"
   ]
  },
  {
   "cell_type": "code",
   "execution_count": 35,
   "metadata": {
    "collapsed": false
   },
   "outputs": [],
   "source": [
    "lat,lon,mtime = (ds.variables['LATITUDE'][0], ds.variables['LONGITUDE'][0], ds.variables['JULD'][0])"
   ]
  },
  {
   "cell_type": "code",
   "execution_count": 36,
   "metadata": {
    "collapsed": false,
    "scrolled": true
   },
   "outputs": [
    {
     "data": {
      "text/plain": [
       "(6.0310000000000006, -14.026, 21985.069212962964)"
      ]
     },
     "execution_count": 36,
     "metadata": {},
     "output_type": "execute_result"
    }
   ],
   "source": [
    "lat,lon,mtime"
   ]
  },
  {
   "cell_type": "code",
   "execution_count": 118,
   "metadata": {
    "collapsed": false
   },
   "outputs": [
    {
     "ename": "SyntaxError",
     "evalue": "invalid syntax (<ipython-input-118-819d3bb21dd0>, line 5)",
     "output_type": "error",
     "traceback": [
      "\u001b[1;36m  File \u001b[1;32m\"<ipython-input-118-819d3bb21dd0>\"\u001b[1;36m, line \u001b[1;32m5\u001b[0m\n\u001b[1;33m    B =  .808 - (.0085*p)\u001b[0m\n\u001b[1;37m    ^\u001b[0m\n\u001b[1;31mSyntaxError\u001b[0m\u001b[1;31m:\u001b[0m invalid syntax\n"
     ]
    }
   ],
   "source": [
    "#The p here is for depth...maybe\n",
    "#That's why it said the unit was km\n",
    "def dens_formula(p , t , s):\n",
    "    C = (999.83 + (5.053*p) - (.048*(p**2))\n",
    "    B =  .808 - (.0085*p)\n",
    "    a = .0708*((1 + (.351*p)) + .068*(1 - (.0683*p))*t)\n",
    "    y = .003*(1 - (.059*p) - .012*(1 - .064*p)*t)\n",
    "    dens = C + (B*s) - (a*t) - ((y*(35 - s))*t)\n",
    "    return dens"
   ]
  },
  {
   "cell_type": "code",
   "execution_count": 115,
   "metadata": {
    "collapsed": false
   },
   "outputs": [
    {
     "data": {
      "text/plain": [
       "1039.220347679988"
      ]
     },
     "execution_count": 115,
     "metadata": {},
     "output_type": "execute_result"
    }
   ],
   "source": [
    "dens_formula(p , t , s)"
   ]
  },
  {
   "cell_type": "code",
   "execution_count": null,
   "metadata": {
    "collapsed": true
   },
   "outputs": [],
   "source": [
    "def dens_formula(p , t , s):\n",
    "    p = p / 10.0\n",
    "    pw = 999.842594 + ((6.793952 * (10**-abs(2)))*t) - ((9.095290 * (10**-abs(3)))*(t**2)) + ((1.001685 * (10**-abs(4)))*(t**3)) - ((1.120083 * (10**-abs(6)))*(t**4)) + ((6.536332 * (10**-abs(9))*(t**5))        \n",
    "    "
   ]
  }
 ],
 "metadata": {
  "kernelspec": {
   "display_name": "Python 2",
   "language": "python",
   "name": "python2"
  },
  "language_info": {
   "codemirror_mode": {
    "name": "ipython",
    "version": 2
   },
   "file_extension": ".py",
   "mimetype": "text/x-python",
   "name": "python",
   "nbconvert_exporter": "python",
   "pygments_lexer": "ipython2",
   "version": "2.7.9"
  }
 },
 "nbformat": 4,
 "nbformat_minor": 0
}
